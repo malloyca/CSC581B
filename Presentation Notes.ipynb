{
 "cells": [
  {
   "cell_type": "markdown",
   "metadata": {
    "collapsed": true,
    "pycharm": {
     "name": "#%% md\n"
    }
   },
   "source": [
    "# CSC578B Presentation Notes"
   ]
  },
  {
   "cell_type": "markdown",
   "source": [
    "---\n",
    "## Sep 21\n",
    "\n",
    "## ImageNet Classification with Deep Convolutional Neural Networks\n",
    "https://proceedings.neurips.cc/paper/2012/file/c399862d3b9d6b76c8436e924a68c45b-Paper.pdf"
   ],
   "metadata": {
    "collapsed": false,
    "pycharm": {
     "name": "#%% md\n"
    }
   }
  },
  {
   "cell_type": "markdown",
   "source": [
    "- Initialize with a Gaussian (normal) distribution\n",
    "- Max pooling\n",
    "- Overlap pooling\n",
    "- Fully connected layers at end (w/ softmax)\n",
    "- => What exactly do activation functions do?\n",
    "- Small weight decay not only regularized, but also reduced error"
   ],
   "metadata": {
    "collapsed": false,
    "pycharm": {
     "name": "#%% md\n"
    }
   }
  },
  {
   "cell_type": "markdown",
   "source": [
    "### Testing\n",
    "- Two types of error: top-1 and top-5\n",
    "    - Top-1 is when the most probable output is wrong\n",
    "    - Top-5 is when the correct label is not in the top-5 estimates\n",
    "- Can check the $k$ closest by Euclidean distance"
   ],
   "metadata": {
    "collapsed": false,
    "pycharm": {
     "name": "#%% md\n"
    }
   }
  },
  {
   "cell_type": "markdown",
   "source": [
    "### Overlap Pooling\n",
    "\n",
    "- Pooling method where pool grids overlap\n",
    "- E.G., Using (3x3) pool grids and a stride of (2x2)\n",
    "- Decreased error"
   ],
   "metadata": {
    "collapsed": false,
    "pycharm": {
     "name": "#%% md\n"
    }
   }
  },
  {
   "cell_type": "markdown",
   "source": [
    "### Local Response Normalization\n",
    "\n",
    "- What is this and how does it work?"
   ],
   "metadata": {
    "collapsed": false,
    "pycharm": {
     "name": "#%% md\n"
    }
   }
  },
  {
   "cell_type": "markdown",
   "source": [
    "### Solving overfitting\n",
    "\n",
    "- Data augmentation\n",
    "- Dropout\n"
   ],
   "metadata": {
    "collapsed": false,
    "pycharm": {
     "name": "#%% md\n"
    }
   }
  }
 ],
 "metadata": {
  "kernelspec": {
   "display_name": "Python 3",
   "language": "python",
   "name": "python3"
  },
  "language_info": {
   "codemirror_mode": {
    "name": "ipython",
    "version": 2
   },
   "file_extension": ".py",
   "mimetype": "text/x-python",
   "name": "python",
   "nbconvert_exporter": "python",
   "pygments_lexer": "ipython2",
   "version": "2.7.6"
  }
 },
 "nbformat": 4,
 "nbformat_minor": 0
}