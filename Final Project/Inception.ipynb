{
  "nbformat": 4,
  "nbformat_minor": 0,
  "metadata": {
    "colab": {
      "name": "Inception.ipynb",
      "provenance": [],
      "authorship_tag": "ABX9TyOWMRgn8AzBmjKv+HX/e6++",
      "include_colab_link": true
    },
    "kernelspec": {
      "name": "python3",
      "display_name": "Python 3"
    },
    "language_info": {
      "name": "python"
    },
    "accelerator": "GPU",
    "widgets": {
      "application/vnd.jupyter.widget-state+json": {
        "a0db85d9190140879abce5e7128a25c1": {
          "model_module": "@jupyter-widgets/controls",
          "model_name": "HBoxModel",
          "model_module_version": "1.5.0",
          "state": {
            "_view_name": "HBoxView",
            "_dom_classes": [],
            "_model_name": "HBoxModel",
            "_view_module": "@jupyter-widgets/controls",
            "_model_module_version": "1.5.0",
            "_view_count": null,
            "_view_module_version": "1.5.0",
            "box_style": "",
            "layout": "IPY_MODEL_cf36052e5ef944519f887ab971e753e4",
            "_model_module": "@jupyter-widgets/controls",
            "children": [
              "IPY_MODEL_b7939c8c0b0a43e9bc1b5006de25fe89",
              "IPY_MODEL_90622e3005a14d7193918f9ad5f6de74",
              "IPY_MODEL_f08814e7377349c592862ed07f8a41e1"
            ]
          }
        },
        "cf36052e5ef944519f887ab971e753e4": {
          "model_module": "@jupyter-widgets/base",
          "model_name": "LayoutModel",
          "model_module_version": "1.2.0",
          "state": {
            "_view_name": "LayoutView",
            "grid_template_rows": null,
            "right": null,
            "justify_content": null,
            "_view_module": "@jupyter-widgets/base",
            "overflow": null,
            "_model_module_version": "1.2.0",
            "_view_count": null,
            "flex_flow": null,
            "width": null,
            "min_width": null,
            "border": null,
            "align_items": null,
            "bottom": null,
            "_model_module": "@jupyter-widgets/base",
            "top": null,
            "grid_column": null,
            "overflow_y": null,
            "overflow_x": null,
            "grid_auto_flow": null,
            "grid_area": null,
            "grid_template_columns": null,
            "flex": null,
            "_model_name": "LayoutModel",
            "justify_items": null,
            "grid_row": null,
            "max_height": null,
            "align_content": null,
            "visibility": null,
            "align_self": null,
            "height": null,
            "min_height": null,
            "padding": null,
            "grid_auto_rows": null,
            "grid_gap": null,
            "max_width": null,
            "order": null,
            "_view_module_version": "1.2.0",
            "grid_template_areas": null,
            "object_position": null,
            "object_fit": null,
            "grid_auto_columns": null,
            "margin": null,
            "display": null,
            "left": null
          }
        },
        "b7939c8c0b0a43e9bc1b5006de25fe89": {
          "model_module": "@jupyter-widgets/controls",
          "model_name": "HTMLModel",
          "model_module_version": "1.5.0",
          "state": {
            "_view_name": "HTMLView",
            "style": "IPY_MODEL_fbcd8414e750442790d31001e81642e8",
            "_dom_classes": [],
            "description": "",
            "_model_name": "HTMLModel",
            "placeholder": "​",
            "_view_module": "@jupyter-widgets/controls",
            "_model_module_version": "1.5.0",
            "value": "",
            "_view_count": null,
            "_view_module_version": "1.5.0",
            "description_tooltip": null,
            "_model_module": "@jupyter-widgets/controls",
            "layout": "IPY_MODEL_b4aab60f2f6f4ed3bd2b8833a14a15bd"
          }
        },
        "90622e3005a14d7193918f9ad5f6de74": {
          "model_module": "@jupyter-widgets/controls",
          "model_name": "FloatProgressModel",
          "model_module_version": "1.5.0",
          "state": {
            "_view_name": "ProgressView",
            "style": "IPY_MODEL_14036e2249644faeb6d0e34bb2134307",
            "_dom_classes": [],
            "description": "",
            "_model_name": "FloatProgressModel",
            "bar_style": "success",
            "max": 169001437,
            "_view_module": "@jupyter-widgets/controls",
            "_model_module_version": "1.5.0",
            "value": 169001437,
            "_view_count": null,
            "_view_module_version": "1.5.0",
            "orientation": "horizontal",
            "min": 0,
            "description_tooltip": null,
            "_model_module": "@jupyter-widgets/controls",
            "layout": "IPY_MODEL_392b10180e0f4cf9be461cea394c2a91"
          }
        },
        "f08814e7377349c592862ed07f8a41e1": {
          "model_module": "@jupyter-widgets/controls",
          "model_name": "HTMLModel",
          "model_module_version": "1.5.0",
          "state": {
            "_view_name": "HTMLView",
            "style": "IPY_MODEL_005e875b92dc4859951380dfa7b3b0c8",
            "_dom_classes": [],
            "description": "",
            "_model_name": "HTMLModel",
            "placeholder": "​",
            "_view_module": "@jupyter-widgets/controls",
            "_model_module_version": "1.5.0",
            "value": " 169001984/? [00:07&lt;00:00, 29348224.14it/s]",
            "_view_count": null,
            "_view_module_version": "1.5.0",
            "description_tooltip": null,
            "_model_module": "@jupyter-widgets/controls",
            "layout": "IPY_MODEL_06c3775eba34489eba565d6392b3c703"
          }
        },
        "fbcd8414e750442790d31001e81642e8": {
          "model_module": "@jupyter-widgets/controls",
          "model_name": "DescriptionStyleModel",
          "model_module_version": "1.5.0",
          "state": {
            "_view_name": "StyleView",
            "_model_name": "DescriptionStyleModel",
            "description_width": "",
            "_view_module": "@jupyter-widgets/base",
            "_model_module_version": "1.5.0",
            "_view_count": null,
            "_view_module_version": "1.2.0",
            "_model_module": "@jupyter-widgets/controls"
          }
        },
        "b4aab60f2f6f4ed3bd2b8833a14a15bd": {
          "model_module": "@jupyter-widgets/base",
          "model_name": "LayoutModel",
          "model_module_version": "1.2.0",
          "state": {
            "_view_name": "LayoutView",
            "grid_template_rows": null,
            "right": null,
            "justify_content": null,
            "_view_module": "@jupyter-widgets/base",
            "overflow": null,
            "_model_module_version": "1.2.0",
            "_view_count": null,
            "flex_flow": null,
            "width": null,
            "min_width": null,
            "border": null,
            "align_items": null,
            "bottom": null,
            "_model_module": "@jupyter-widgets/base",
            "top": null,
            "grid_column": null,
            "overflow_y": null,
            "overflow_x": null,
            "grid_auto_flow": null,
            "grid_area": null,
            "grid_template_columns": null,
            "flex": null,
            "_model_name": "LayoutModel",
            "justify_items": null,
            "grid_row": null,
            "max_height": null,
            "align_content": null,
            "visibility": null,
            "align_self": null,
            "height": null,
            "min_height": null,
            "padding": null,
            "grid_auto_rows": null,
            "grid_gap": null,
            "max_width": null,
            "order": null,
            "_view_module_version": "1.2.0",
            "grid_template_areas": null,
            "object_position": null,
            "object_fit": null,
            "grid_auto_columns": null,
            "margin": null,
            "display": null,
            "left": null
          }
        },
        "14036e2249644faeb6d0e34bb2134307": {
          "model_module": "@jupyter-widgets/controls",
          "model_name": "ProgressStyleModel",
          "model_module_version": "1.5.0",
          "state": {
            "_view_name": "StyleView",
            "_model_name": "ProgressStyleModel",
            "description_width": "",
            "_view_module": "@jupyter-widgets/base",
            "_model_module_version": "1.5.0",
            "_view_count": null,
            "_view_module_version": "1.2.0",
            "bar_color": null,
            "_model_module": "@jupyter-widgets/controls"
          }
        },
        "392b10180e0f4cf9be461cea394c2a91": {
          "model_module": "@jupyter-widgets/base",
          "model_name": "LayoutModel",
          "model_module_version": "1.2.0",
          "state": {
            "_view_name": "LayoutView",
            "grid_template_rows": null,
            "right": null,
            "justify_content": null,
            "_view_module": "@jupyter-widgets/base",
            "overflow": null,
            "_model_module_version": "1.2.0",
            "_view_count": null,
            "flex_flow": null,
            "width": null,
            "min_width": null,
            "border": null,
            "align_items": null,
            "bottom": null,
            "_model_module": "@jupyter-widgets/base",
            "top": null,
            "grid_column": null,
            "overflow_y": null,
            "overflow_x": null,
            "grid_auto_flow": null,
            "grid_area": null,
            "grid_template_columns": null,
            "flex": null,
            "_model_name": "LayoutModel",
            "justify_items": null,
            "grid_row": null,
            "max_height": null,
            "align_content": null,
            "visibility": null,
            "align_self": null,
            "height": null,
            "min_height": null,
            "padding": null,
            "grid_auto_rows": null,
            "grid_gap": null,
            "max_width": null,
            "order": null,
            "_view_module_version": "1.2.0",
            "grid_template_areas": null,
            "object_position": null,
            "object_fit": null,
            "grid_auto_columns": null,
            "margin": null,
            "display": null,
            "left": null
          }
        },
        "005e875b92dc4859951380dfa7b3b0c8": {
          "model_module": "@jupyter-widgets/controls",
          "model_name": "DescriptionStyleModel",
          "model_module_version": "1.5.0",
          "state": {
            "_view_name": "StyleView",
            "_model_name": "DescriptionStyleModel",
            "description_width": "",
            "_view_module": "@jupyter-widgets/base",
            "_model_module_version": "1.5.0",
            "_view_count": null,
            "_view_module_version": "1.2.0",
            "_model_module": "@jupyter-widgets/controls"
          }
        },
        "06c3775eba34489eba565d6392b3c703": {
          "model_module": "@jupyter-widgets/base",
          "model_name": "LayoutModel",
          "model_module_version": "1.2.0",
          "state": {
            "_view_name": "LayoutView",
            "grid_template_rows": null,
            "right": null,
            "justify_content": null,
            "_view_module": "@jupyter-widgets/base",
            "overflow": null,
            "_model_module_version": "1.2.0",
            "_view_count": null,
            "flex_flow": null,
            "width": null,
            "min_width": null,
            "border": null,
            "align_items": null,
            "bottom": null,
            "_model_module": "@jupyter-widgets/base",
            "top": null,
            "grid_column": null,
            "overflow_y": null,
            "overflow_x": null,
            "grid_auto_flow": null,
            "grid_area": null,
            "grid_template_columns": null,
            "flex": null,
            "_model_name": "LayoutModel",
            "justify_items": null,
            "grid_row": null,
            "max_height": null,
            "align_content": null,
            "visibility": null,
            "align_self": null,
            "height": null,
            "min_height": null,
            "padding": null,
            "grid_auto_rows": null,
            "grid_gap": null,
            "max_width": null,
            "order": null,
            "_view_module_version": "1.2.0",
            "grid_template_areas": null,
            "object_position": null,
            "object_fit": null,
            "grid_auto_columns": null,
            "margin": null,
            "display": null,
            "left": null
          }
        }
      }
    }
  },
  "cells": [
    {
      "cell_type": "markdown",
      "metadata": {
        "id": "view-in-github",
        "colab_type": "text"
      },
      "source": [
        "<a href=\"https://colab.research.google.com/github/malloyca/CSC581B/blob/main/Final%20Project/Inception.ipynb\" target=\"_parent\"><img src=\"https://colab.research.google.com/assets/colab-badge.svg\" alt=\"Open In Colab\"/></a>"
      ]
    },
    {
      "cell_type": "markdown",
      "metadata": {
        "id": "zbEgUchQZcN3"
      },
      "source": [
        "# CSC581B Final Project\n",
        "# Inception Network"
      ]
    },
    {
      "cell_type": "code",
      "metadata": {
        "id": "dFqYuuRVZVWF"
      },
      "source": [
        "# imports\n",
        "import torch\n",
        "from torch import nn\n",
        "from torch.utils.data import DataLoader, SubsetRandomSampler\n",
        "from torchvision.datasets import CIFAR100\n",
        "from torchvision import transforms\n",
        "from sklearn.model_selection import train_test_split\n",
        "import matplotlib.pyplot as plt\n",
        "import copy\n",
        "import numpy as np\n",
        "import random\n"
      ],
      "execution_count": 1,
      "outputs": []
    },
    {
      "cell_type": "code",
      "metadata": {
        "id": "e479OeYCZg3H"
      },
      "source": [
        "# data augmentation transforms\n",
        "data_augmentation_transform = transforms.Compose([\n",
        "  transforms.RandomHorizontalFlip(p=0.5),\n",
        "  transforms.RandomRotation(degrees=30),\n",
        "  transforms.RandomCrop(32, padding=2),\n",
        "  transforms.ColorJitter(brightness=0.25, contrast=0.5, saturation=0.25, hue = 0.15),\n",
        "  transforms.RandomGrayscale(p=0.2),\n",
        "  transforms.ToTensor(),\n",
        "  transforms.Normalize(\n",
        "      mean = [0.5071, 0.4867, 0.4408],\n",
        "      std = [0.2675, 0.2565, 0.2761]\n",
        "  ),\n",
        "  transforms.RandomErasing(p=.35),\n",
        "])"
      ],
      "execution_count": 2,
      "outputs": []
    },
    {
      "cell_type": "code",
      "metadata": {
        "id": "QlY7nQ18ZloR"
      },
      "source": [
        "# non-augmentation transform (with data normalization)\n",
        "normalize_transform = transforms.Compose([\n",
        "  transforms.ToTensor(),\n",
        "  transforms.Normalize(\n",
        "      mean = [0.5071, 0.4867, 0.4408],\n",
        "      std = [0.2675, 0.2565, 0.2761]\n",
        "  )\n",
        "])"
      ],
      "execution_count": 3,
      "outputs": []
    },
    {
      "cell_type": "code",
      "metadata": {
        "colab": {
          "base_uri": "https://localhost:8080/",
          "height": 134,
          "referenced_widgets": [
            "a0db85d9190140879abce5e7128a25c1",
            "cf36052e5ef944519f887ab971e753e4",
            "b7939c8c0b0a43e9bc1b5006de25fe89",
            "90622e3005a14d7193918f9ad5f6de74",
            "f08814e7377349c592862ed07f8a41e1",
            "fbcd8414e750442790d31001e81642e8",
            "b4aab60f2f6f4ed3bd2b8833a14a15bd",
            "14036e2249644faeb6d0e34bb2134307",
            "392b10180e0f4cf9be461cea394c2a91",
            "005e875b92dc4859951380dfa7b3b0c8",
            "06c3775eba34489eba565d6392b3c703"
          ]
        },
        "id": "rMYFYPvUZspl",
        "outputId": "d4eeb3a0-ba49-4dfe-9e6a-5ce2ba1b45da"
      },
      "source": [
        "# Load the training data (CIFAR10 to start)\n",
        "training_data_with_augmentation = CIFAR100(\n",
        "    root = \"data\",\n",
        "    train = True,\n",
        "    download = True,\n",
        "    transform = data_augmentation_transform,\n",
        ")\n",
        "\n",
        "training_data_without_augmentation = CIFAR100(\n",
        "    root = \"data\",\n",
        "    train = True,\n",
        "    download = True,\n",
        "    transform = normalize_transform,\n",
        ")\n",
        "\n",
        "# this is necessary to prevent the data augmentation transforms from being applied to the validation set\n",
        "validation_data = CIFAR100(\n",
        "    root = \"data\",\n",
        "    train = True,\n",
        "    download = True,\n",
        "    transform = normalize_transform,\n",
        ")\n",
        "\n",
        "# Load the test data\n",
        "test_data = CIFAR100(\n",
        "    root = \"data\",\n",
        "    train = False,\n",
        "    download = True,\n",
        "    transform = transforms.ToTensor()\n",
        ")"
      ],
      "execution_count": 4,
      "outputs": [
        {
          "output_type": "stream",
          "name": "stdout",
          "text": [
            "Downloading https://www.cs.toronto.edu/~kriz/cifar-100-python.tar.gz to data/cifar-100-python.tar.gz\n"
          ]
        },
        {
          "output_type": "display_data",
          "data": {
            "application/vnd.jupyter.widget-view+json": {
              "model_id": "a0db85d9190140879abce5e7128a25c1",
              "version_minor": 0,
              "version_major": 2
            },
            "text/plain": [
              "  0%|          | 0/169001437 [00:00<?, ?it/s]"
            ]
          },
          "metadata": {}
        },
        {
          "output_type": "stream",
          "name": "stdout",
          "text": [
            "Extracting data/cifar-100-python.tar.gz to data\n",
            "Files already downloaded and verified\n",
            "Files already downloaded and verified\n",
            "Files already downloaded and verified\n"
          ]
        }
      ]
    },
    {
      "cell_type": "code",
      "metadata": {
        "id": "oHiUZdj0Z1UZ"
      },
      "source": [
        "training_targets = training_data_with_augmentation.targets"
      ],
      "execution_count": 5,
      "outputs": []
    },
    {
      "cell_type": "code",
      "metadata": {
        "id": "ODaQVRGbZ3Wd"
      },
      "source": [
        "train_split_index, valid_split_index = train_test_split(\n",
        "    np.arange(len(training_targets)), test_size=0.2, stratify=training_targets\n",
        ")"
      ],
      "execution_count": 6,
      "outputs": []
    },
    {
      "cell_type": "code",
      "metadata": {
        "id": "jX7PNt1_Z-vr"
      },
      "source": [
        "batch_size = 100\n",
        "\n",
        "# Create data loaders\n",
        "train_augmentation_dataloader = DataLoader(training_data_with_augmentation, batch_size=batch_size,\n",
        "                              sampler=SubsetRandomSampler(train_split_index))\n",
        "train_no_augmentation_dataloader = DataLoader(training_data_without_augmentation, batch_size=batch_size,\n",
        "                              sampler=SubsetRandomSampler(train_split_index))\n",
        "valid_dataloader = DataLoader(validation_data, batch_size=batch_size,\n",
        "                              sampler=SubsetRandomSampler(valid_split_index))\n",
        "test_dataloader = DataLoader(test_data, batch_size=batch_size)"
      ],
      "execution_count": 7,
      "outputs": []
    },
    {
      "cell_type": "code",
      "metadata": {
        "id": "ZEttLi4faZ9w"
      },
      "source": [
        "train_status = True"
      ],
      "execution_count": 8,
      "outputs": []
    },
    {
      "cell_type": "code",
      "metadata": {
        "colab": {
          "base_uri": "https://localhost:8080/"
        },
        "id": "mtEEbaKZamgb",
        "outputId": "27cb2151-3833-4b45-d7fb-4d040aa53940"
      },
      "source": [
        "if not train_status:\n",
        "  # Check that it is splitting the data properly\n",
        "  train_length = 0\n",
        "  for _, y in train_augmentation_dataloader:\n",
        "    train_length += len(y)\n",
        "  print(f\"Length of training (augmentation) split: {train_length}\")\n",
        "\n",
        "  train_aug_length = 0\n",
        "  for _, y in train_no_augmentation_dataloader:\n",
        "    train_aug_length += len(y)\n",
        "  print(f\"Length of training (no augmentation) split: {train_aug_length}\")\n",
        "\n",
        "  valid_length = 0\n",
        "  for _, y in valid_dataloader:\n",
        "    valid_length += len(y)\n",
        "  print(f\"Length of validation split: {valid_length}\")\n",
        "\n",
        "  test_length = 0\n",
        "  for _, y in test_dataloader:\n",
        "    test_length += len(y)\n",
        "  print(f\"Length of test split: {test_length}\")"
      ],
      "execution_count": 9,
      "outputs": [
        {
          "output_type": "stream",
          "name": "stdout",
          "text": [
            "Length of training (augmentation) split: 40000\n",
            "Length of training (no augmentation) split: 40000\n",
            "Length of validation split: 10000\n",
            "Length of test split: 10000\n"
          ]
        }
      ]
    },
    {
      "cell_type": "code",
      "metadata": {
        "colab": {
          "base_uri": "https://localhost:8080/"
        },
        "id": "JmphoReIan3Q",
        "outputId": "3c7daf79-3159-45cb-ddab-44a5a5da1d4f"
      },
      "source": [
        "if not train_status:\n",
        "  # Check that there are 100 instances of a random class in the validation set\n",
        "  count = 0\n",
        "  test_class = random.randint(0,99)\n",
        "  for _, y in valid_dataloader:\n",
        "    for target in y:\n",
        "      if int(target.numpy()) == test_class:\n",
        "        count += 1\n",
        "\n",
        "  print(count)"
      ],
      "execution_count": 10,
      "outputs": [
        {
          "output_type": "stream",
          "name": "stdout",
          "text": [
            "100\n"
          ]
        }
      ]
    },
    {
      "cell_type": "markdown",
      "metadata": {
        "id": "SrD76cx4a5qR"
      },
      "source": [
        "# Building Inception Network"
      ]
    },
    {
      "cell_type": "code",
      "metadata": {
        "colab": {
          "base_uri": "https://localhost:8080/"
        },
        "id": "zuUhArvKa4oo",
        "outputId": "57149902-0c8d-4319-c23d-38013128dde7"
      },
      "source": [
        "device = 'cuda' if torch.cuda.is_available() else 'cpu'\n",
        "print(device)"
      ],
      "execution_count": 12,
      "outputs": [
        {
          "output_type": "stream",
          "name": "stdout",
          "text": [
            "cuda\n"
          ]
        }
      ]
    },
    {
      "cell_type": "markdown",
      "metadata": {
        "id": "MR1TowjIbnh5"
      },
      "source": [
        "### Inception (GoogLeNet) architecture\n",
        "\n",
        "- Input: 224x224x3\n",
        "- block 1\n",
        "  - conv\n",
        "    - 7x7 / stride=2\n",
        "    - pad=3\n",
        "    - dim - 112x112x64\n",
        "  - max pool\n",
        "    - 3x3 / stride=2\n",
        "    - dim - 56x56x64\n",
        "-block 2\n",
        "  - conv\n",
        "    - 3x3 / stride=1\n",
        "    - pad=1\n",
        "    - dim - 56x56x192\n",
        "  - max pool\n",
        "    - 3x3 / stride=2\n",
        "    - dim - 28x28x192\n",
        "- inception 3a\n",
        "- inception 3b\n",
        "- max pool\n",
        "  - 3x3 / stride=2\n",
        "  - dim - 14x14x480\n",
        "- inception 4a\n",
        "  - dim - 14x14x512\n",
        "- inception 4b\n",
        "- inception 4c\n",
        "- inception 4d\n",
        "- inception 4e\n",
        "  - dim - 14x14x832\n",
        "- max pool\n",
        "  - 3x3 / stride=2\n",
        "  - dim - 7x7x832\n",
        "- inception 5a\n",
        "- inception 5b\n",
        "  - dim - 7x7x1024\n",
        "- avg pool\n",
        "  - 7x7 / stride=1\n",
        "  - dim - 1x1x1024\n",
        "- dropout (p=0.4)\n",
        "- linear\n",
        "  - dim - 1x1x1000 (need to substitute 100 for CIFAR)\n",
        "- softmax"
      ]
    },
    {
      "cell_type": "code",
      "metadata": {
        "id": "qHZjhFpOfhBB"
      },
      "source": [
        "# define the inception block architecture\n",
        "class Inception_block(nn.Module):\n",
        "  def __init__(self, input_channels, out_1, reduce_3, out_3, reduce_5, out_5, out_pool):\n",
        "    super(Inception_block, self).__init__()\n",
        "\n",
        "    self.conv_1 = nn.Sequential(\n",
        "        nn.Conv2d(input_channels, out_1, kernel_size=1),\n",
        "        nn.BatchNorm2d(out_1),\n",
        "        nn.ReLU(),\n",
        "    )\n",
        "    self.conv_3 = nn.Sequential(\n",
        "        nn.Conv2d(input_channels, reduce_3, kernel_size=1),\n",
        "        nn.BatchNorm2d(reduce_3),\n",
        "        nn.ReLU(),\n",
        "        nn.Conv2d(reduce_3, out_3, kernel_size=3, stride=1, padding=1),\n",
        "        nn.BatchNorm2d(out_3),\n",
        "        nn.ReLU(),\n",
        "    )\n",
        "    self.conv_5 = nn.Sequential(\n",
        "        nn.Conv2d(input_channels, reduce_5, kernel_size=1),\n",
        "        nn.BatchNorm2d(reduce_5),\n",
        "        nn.ReLU(),\n",
        "        nn.Conv2d(reduce_5, out_5, kernel_size=5, padding=2),\n",
        "        nn.BatchNorm2d(out_5),\n",
        "        nn.ReLU()\n",
        "    )\n",
        "    self.maxpool = nn.Sequential(\n",
        "        nn.MaxPool2d(kernel_size=3, stride=1, padding=1),\n",
        "        nn.Conv2d(input_channels, out_pool, kernel_size=1),\n",
        "        nn.BatchNorm2d(out_pool),\n",
        "        nn.ReLU(),\n",
        "    )\n",
        "\n",
        "\n",
        "\n",
        "  def forward(self, x):\n",
        "    out = torch.cat([self.conv_1(x), self.conv_3(x), self.conv_5(x), self.maxpool(x)], dim=1)\n",
        "    return out"
      ],
      "execution_count": 83,
      "outputs": []
    },
    {
      "cell_type": "code",
      "metadata": {
        "id": "3Pf8C_ITbAhJ"
      },
      "source": [
        "# define the model\n",
        "class InceptionNet(nn.Module):\n",
        "  def __init__(self, name='InceptionNet'):\n",
        "    super(InceptionNet, self).__init__()\n",
        "    self.name = name\n",
        "    \n",
        "    self.block1 = nn.Sequential(\n",
        "        # In shape: 224x224x3\n",
        "        nn.Conv2d(3, 64, kernel_size=7, stride=2, padding=3), # out shape: 112x112\n",
        "        nn.BatchNorm2d(64), # not part of original Inception network, but that's because it didn't exist at the time\n",
        "        nn.ReLU(),\n",
        "        nn.MaxPool2d(kernel_size=3, stride=2, padding=1),\n",
        "        # out shape: 56x56x64\n",
        "    )\n",
        "    self.block2 = nn.Sequential(\n",
        "        # in shape: 56x56x64\n",
        "        nn.Conv2d(64, 192, kernel_size=3, stride=1, padding=1),\n",
        "        nn.BatchNorm2d(192),\n",
        "        nn.ReLU(),\n",
        "        nn.MaxPool2d(kernel_size=3, stride=2)\n",
        "        # out shape: 28x28x192\n",
        "    )\n",
        "    \n",
        "    self.inception3a = Inception_block(192, 64, 96, 128, 16, 32, 32) # out_channels = 256\n",
        "    self.inception3b = Inception_block(256, 128, 128, 192, 32, 96, 64) # out_channels = 480\n",
        "    self.maxpool3 = nn.MaxPool2d(kernel_size=3, stride=2, padding=1) # out shape: 14x14\n",
        "    \n",
        "    self.inception4a = Inception_block(480, 192, 96, 208, 16, 48, 64) # out_channels = 512\n",
        "    self.inception4b = Inception_block(512, 160, 112, 224, 24, 64, 64)\n",
        "    self.inception4c = Inception_block(512, 128, 128, 256, 24, 64, 64)\n",
        "    self.inception4d = Inception_block(512, 112, 144, 288, 32, 64, 64) # out_channels = 528\n",
        "    self.inception4e = Inception_block(528, 256, 160, 320, 32, 128, 128) # out_channels = 832\n",
        "    self.maxpool4 = nn.MaxPool2d(kernel_size=3, stride=2, padding=1) # out shape: 7x7\n",
        "\n",
        "    self.inception5a = Inception_block(832, 256, 160, 320, 32, 128, 128)\n",
        "    self.inception5b = Inception_block(832, 384, 192, 384, 48, 128, 128) # out_channels = 1024\n",
        "\n",
        "    self.avg_pool = nn.AvgPool2d(kernel_size=7, stride=1) #out shape: 1x1x1024\n",
        "    self.fc = nn.Sequential(\n",
        "        nn.Flatten(),\n",
        "        nn.Dropout(p=0.4),\n",
        "        nn.Linear(1024,100)\n",
        "    )\n",
        "\n",
        "\n",
        "  def forward(self, x):\n",
        "    out = self.block1(x)\n",
        "    out = self.block2(out)\n",
        "    out = self.inception3a(out)\n",
        "    out = self.inception3b(out)\n",
        "    out = self.maxpool3(out)\n",
        "    out = self.inception4a(out)\n",
        "    out = self.inception4b(out)\n",
        "    out = self.inception4c(out)\n",
        "    out = self.inception4d(out)\n",
        "    out = self.inception4e(out)\n",
        "    out = self.maxpool4(out)\n",
        "    out = self.inception5a(out)\n",
        "    out = self.inception5b(out)\n",
        "    out = self.fc(out)\n",
        "\n",
        "    return out"
      ],
      "execution_count": 93,
      "outputs": []
    },
    {
      "cell_type": "code",
      "metadata": {
        "id": "S-GKPLWDq-KO"
      },
      "source": [
        "# Training function\n",
        "def train(dataloader, batch_size, model, loss_fn, optimizer):\n",
        "  num_batches = len(dataloader)\n",
        "  size = num_batches * batch_size\n",
        "  model.train()\n",
        "  train_loss, num_correct = 0, 0\n",
        "  for batch, (X, y) in enumerate(dataloader):\n",
        "    X, y = X.to(device), y.to(device)\n",
        "\n",
        "    # Compute prediction error\n",
        "    pred = model(X)\n",
        "    loss = loss_fn(pred, y)\n",
        "\n",
        "    # Backprop\n",
        "    optimizer.zero_grad()\n",
        "    loss.backward()\n",
        "    optimizer.step()\n",
        "\n",
        "    # Track train_loss and accuracy\n",
        "    train_loss += loss.item()\n",
        "    num_correct += (pred.argmax(1) == y).type(torch.float).sum().item()\n",
        "\n",
        "    if batch % 100 == 0:\n",
        "      loss, current = loss.item(), batch * len(X)\n",
        "      print(f\"loss: {loss:>7f} [{current:>5d}/{size:>5d}]\")\n",
        "\n",
        "  train_loss /= num_batches\n",
        "  accuracy = num_correct / size\n",
        "  return train_loss, accuracy"
      ],
      "execution_count": 94,
      "outputs": []
    },
    {
      "cell_type": "code",
      "metadata": {
        "id": "C5O4fWTJrL3v"
      },
      "source": [
        "# Validation function\n",
        "def validation(dataloader, batch_size, model, loss_fn):\n",
        "  num_batches = len(dataloader)\n",
        "  size = num_batches * batch_size\n",
        "  model.eval()\n",
        "  val_loss, num_correct = 0, 0\n",
        "  with torch.no_grad():\n",
        "    for X, y in dataloader:\n",
        "      X, y = X.to(device), y.to(device)\n",
        "      pred = model(X)\n",
        "      val_loss += loss_fn(pred, y).item()\n",
        "      num_correct += (pred.argmax(1) == y).type(torch.float).sum().item()\n",
        "  val_loss /= num_batches\n",
        "  accuracy = num_correct / size\n",
        "  print(f\"Validation Error: \\n Validation accuracy: {(100 * accuracy):>0.1f}%, Validation loss: {val_loss:>8f} \\n\")\n",
        "  return val_loss, accuracy"
      ],
      "execution_count": 95,
      "outputs": []
    },
    {
      "cell_type": "code",
      "metadata": {
        "id": "rOaIAXjSrNkX"
      },
      "source": [
        "# Test function\n",
        "def test(dataloader, model, loss_fn):\n",
        "  size = len(dataloader.dataset)\n",
        "  num_batches = len(dataloader)\n",
        "  model.eval()\n",
        "  test_loss, correct = 0, 0\n",
        "  with torch.no_grad():\n",
        "    for X, y in dataloader:\n",
        "      X, y = X.to(device), y.to(device)\n",
        "      pred = model(X)\n",
        "      test_loss += loss_fn(pred, y).item()\n",
        "      correct += (pred.argmax(1) == y).type(torch.float).sum().item()\n",
        "  test_loss /= num_batches\n",
        "  correct /= size\n",
        "  print(f\"Test Error: \\n Accuracy: {(100*correct):>0.1f}%, Avg loss: {test_loss:>8f} \\n\")\n",
        "  return test_loss"
      ],
      "execution_count": 96,
      "outputs": []
    },
    {
      "cell_type": "code",
      "metadata": {
        "id": "EKHxNiE9rPSb"
      },
      "source": [
        "def training_loop(n_epochs, model, train_data, valid_data, batch_size,\n",
        "                  loss_function, optimizer, scheduler=None,\n",
        "                  early_stopping=False, patience=10):\n",
        "  current_epoch = 0\n",
        "  best_epoch = 0\n",
        "  best_loss = float('inf')\n",
        "  patience_counter = 0\n",
        "\n",
        "  train_losses = []\n",
        "  train_accuracies = []\n",
        "  val_losses = []\n",
        "  val_accuracies = []\n",
        "\n",
        "  for e in range(n_epochs):\n",
        "    print(f\"\\nEpoch {e+1}\\n----------------------------\")\n",
        "    # Iterate epoch counter\n",
        "    current_epoch += 1\n",
        "\n",
        "    train_loss, train_accuracy = train(train_data, batch_size, model, loss_function, optimizer)\n",
        "    val_loss, val_accuracy = validation(valid_data, batch_size, model, loss_function)\n",
        "\n",
        "    train_losses.append(train_loss)\n",
        "    train_accuracies.append(train_accuracy)\n",
        "    val_losses.append(val_loss)\n",
        "    val_accuracies.append(val_accuracy)\n",
        "\n",
        "    # Iterate scheduler (this is set up for ReduceLROnPlateau)\n",
        "    if scheduler is not None:\n",
        "      scheduler.step(val_loss)\n",
        "\n",
        "    # If early_stopping check test_loss\n",
        "    if early_stopping:\n",
        "      # case: test loss beats the current best loss\n",
        "      if val_loss < best_loss:\n",
        "        # store loss\n",
        "        best_loss = val_loss\n",
        "\n",
        "        # reset patience counter\n",
        "        patience_counter = 0\n",
        "\n",
        "        # store model and epoch number\n",
        "        print(\"Storing new best model.\")\n",
        "        best_model_state_dict = copy.deepcopy(model.state_dict)\n",
        "        best_epoch = current_epoch\n",
        "\n",
        "      # Case: patience limit not yet reached => iterate patience counter\n",
        "      elif patience_counter < patience - 1:\n",
        "        patience_counter += 1\n",
        "        print(f\"Patience count: {patience_counter}\")\n",
        "\n",
        "      # Case: patience limit reached\n",
        "      else:\n",
        "        print(\"Finished due to early stopping.\")\n",
        "        print(f\"Saving best model: {model.name}_epoch-{best_epoch:03d}\")\n",
        "        torch.save(best_model_state_dict, f'{model.name}_epoch-{best_epoch:03d}')\n",
        "        break\n",
        "\n",
        "  # If we get here, we did not stop early - save best model\n",
        "  if early_stopping:\n",
        "    print(f\"Saving best model: {model.name}_epoch-{best_epoch:03d}\")\n",
        "    torch.save(best_model_state_dict, f'{model.name}_epoch-{best_epoch:03d}')\n",
        "  else:\n",
        "    print()\n",
        "\n",
        "  return train_losses, train_accuracies, val_losses, val_accuracies"
      ],
      "execution_count": 97,
      "outputs": []
    },
    {
      "cell_type": "markdown",
      "metadata": {
        "id": "7pKTikdCrSSf"
      },
      "source": [
        "# Training"
      ]
    },
    {
      "cell_type": "code",
      "metadata": {
        "id": "7OGfsQc6rRNb"
      },
      "source": [
        "n_epochs = 100"
      ],
      "execution_count": 150,
      "outputs": []
    },
    {
      "cell_type": "code",
      "metadata": {
        "colab": {
          "base_uri": "https://localhost:8080/"
        },
        "id": "UiGWVc4LrVRb",
        "outputId": "74b0db51-04b2-434e-aae9-9568d001d995"
      },
      "source": [
        "model = InceptionNet().to(device)\n",
        "num_param = sum(p.numel() for p in model.parameters())\n",
        "print(f\"Total number of parameters: {num_param:,}\")"
      ],
      "execution_count": 151,
      "outputs": [
        {
          "output_type": "stream",
          "name": "stdout",
          "text": [
            "Total number of parameters: 6,086,324\n"
          ]
        }
      ]
    },
    {
      "cell_type": "code",
      "metadata": {
        "colab": {
          "base_uri": "https://localhost:8080/"
        },
        "id": "y5GY07_g0Tut",
        "outputId": "aa8b2779-008f-4f77-cbb2-607bf663c2f4"
      },
      "source": [
        "model_aug = InceptionNet().to(device)\n",
        "num_param = sum(p.numel() for p in model_aug.parameters())\n",
        "print(f\"Total number of parameters: {num_param:,}\")"
      ],
      "execution_count": 152,
      "outputs": [
        {
          "output_type": "stream",
          "name": "stdout",
          "text": [
            "Total number of parameters: 6,086,324\n"
          ]
        }
      ]
    },
    {
      "cell_type": "code",
      "metadata": {
        "id": "LFlcMFBUrrRa"
      },
      "source": [
        "# Loss function\n",
        "loss_fn = nn.CrossEntropyLoss()\n",
        "loss_fn_aug = nn.CrossEntropyLoss()\n",
        "\n",
        "# Optimizer\n",
        "optimizer = torch.optim.Adam(model.parameters(), lr=3e-4)\n",
        "optimizer_aug = optimizer = torch.optim.Adam(model_aug.parameters(), lr=3e-4)\n",
        "\n",
        "# Scheduler\n",
        "scheduler = torch.optim.lr_scheduler.ReduceLROnPlateau(optimizer=optimizer, mode='min', patience=5)\n",
        "scheduler_aug = torch.optim.lr_scheduler.ReduceLROnPlateau(optimizer=optimizer_aug, mode='min', patience=5)"
      ],
      "execution_count": 153,
      "outputs": []
    },
    {
      "cell_type": "code",
      "metadata": {
        "colab": {
          "base_uri": "https://localhost:8080/"
        },
        "id": "YmsEwJiurt7n",
        "outputId": "5d3e4a08-b8e6-42c0-a1ff-10c0e4b0d605"
      },
      "source": [
        "train_loss, train_accuracy, val_loss, val_accuracy = training_loop(n_epochs, model, train_no_augmentation_dataloader, valid_dataloader, batch_size,\n",
        "              loss_fn, optimizer, scheduler, early_stopping=True, patience=10)"
      ],
      "execution_count": null,
      "outputs": [
        {
          "output_type": "stream",
          "name": "stdout",
          "text": [
            "\n",
            "Epoch 1\n",
            "----------------------------\n",
            "loss: 4.720633 [    0/40000]\n",
            "loss: 4.811700 [10000/40000]\n",
            "loss: 4.759467 [20000/40000]\n",
            "loss: 4.681242 [30000/40000]\n",
            "Validation Error: \n",
            " Validation accuracy: 0.8%, Validation loss: 4.692552 \n",
            "\n",
            "Storing new best model.\n",
            "\n",
            "Epoch 2\n",
            "----------------------------\n",
            "loss: 4.833751 [    0/40000]\n",
            "loss: 4.666611 [10000/40000]\n",
            "loss: 4.755806 [20000/40000]\n"
          ]
        }
      ]
    },
    {
      "cell_type": "markdown",
      "metadata": {
        "id": "UGoTahQbwJ60"
      },
      "source": [
        "### LR results after 3 epochs\n",
        "- `1e-1` => no learning\n",
        "- `1e-2` => 6.9% / 3.960389\n",
        "- `1e-3` => 19.6% / 3.241354\n",
        "- `3e-4` => 25.8% / 3.016752\n",
        "- `2e-4` => 25.2% / 3.026053\n",
        "- `1e-4` => 21.9% / 3.216289\n",
        "- `5e-5` => 17.5% / 3.492415\n",
        "- `1e-5` => 7.8% / 4.220170"
      ]
    },
    {
      "cell_type": "code",
      "metadata": {
        "id": "yJhAClOwr2ir"
      },
      "source": [
        "plt.figure(figsize=(15,8))\n",
        "plt.title(f\"Train and Validation Loss for {model.name}\")\n",
        "plt.plot(val_loss, label=\"val_loss\")\n",
        "plt.plot(train_loss, label=\"train_loss\")\n",
        "plt.xlabel(\"Epochs\")\n",
        "plt.ylabel(\"Loss\")\n",
        "plt.legend()\n",
        "plt.show"
      ],
      "execution_count": null,
      "outputs": []
    },
    {
      "cell_type": "code",
      "metadata": {
        "id": "75sIBQ1Xr3Jf"
      },
      "source": [
        "plt.figure(figsize=(15,8))\n",
        "plt.title(f\"Train and Validation Accuracy for {model.name}\")\n",
        "plt.plot(val_accuracy, label=\"val_accuracy\")\n",
        "plt.plot(train_accuracy, label=\"train_accuracy\")\n",
        "plt.xlabel(\"Epochs\")\n",
        "plt.ylabel(\"Accuracy\")\n",
        "plt.legend()\n",
        "plt.show"
      ],
      "execution_count": null,
      "outputs": []
    },
    {
      "cell_type": "code",
      "metadata": {
        "id": "oeFB1AzfvuhO"
      },
      "source": [
        "train_loss_aug, train_accuracy_aug, val_loss_aug, val_accuracy_aug = training_loop(n_epochs, model_aug, train_augmentation_dataloader, valid_dataloader, batch_size,\n",
        "              loss_fn_aug, optimizer_aug, scheduler_aug, early_stopping=True, patience=10)"
      ],
      "execution_count": null,
      "outputs": []
    },
    {
      "cell_type": "code",
      "metadata": {
        "id": "C3z7TnO9z8CB"
      },
      "source": [
        "plt.title(f\"Train and Validation Loss for {model.name} with Data Augmentation\")\n",
        "plt.plot(val_loss_aug, label=\"val_loss\")\n",
        "plt.plot(train_loss_aug, label=\"train_loss\")\n",
        "plt.xlabel(\"Epochs\")\n",
        "plt.ylabel(\"Loss\")\n",
        "plt.legend()\n",
        "plt.showtimizer, scheduler, early_stopping=True, patience=10)"
      ],
      "execution_count": null,
      "outputs": []
    },
    {
      "cell_type": "code",
      "metadata": {
        "id": "2lz_fjSZ0Dqu"
      },
      "source": [
        "plt.figure(figsize=(15,8))\n",
        "plt.title(f\"Train and Validation Accuracy for {model.name} with Data Augmentation\")\n",
        "plt.plot(val_accuracy_aug, label=\"val_accuracy\")\n",
        "plt.plot(train_accuracy_aug, label=\"train_accuracy\")\n",
        "plt.xlabel(\"Epochs\")\n",
        "plt.ylabel(\"Accuracy\")\n",
        "plt.legend()\n",
        "plt.show"
      ],
      "execution_count": null,
      "outputs": []
    },
    {
      "cell_type": "code",
      "metadata": {
        "id": "eGppR-Si0o85"
      },
      "source": [
        ""
      ],
      "execution_count": null,
      "outputs": []
    }
  ]
}