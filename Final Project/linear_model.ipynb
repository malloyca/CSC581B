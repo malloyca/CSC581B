{
  "nbformat": 4,
  "nbformat_minor": 0,
  "metadata": {
    "colab": {
      "name": "linear_model.ipynb",
      "provenance": [],
      "authorship_tag": "ABX9TyPqfZ+EBkJOASiAVCPlUquQ",
      "include_colab_link": true
    },
    "kernelspec": {
      "name": "python3",
      "display_name": "Python 3"
    },
    "language_info": {
      "name": "python"
    },
    "accelerator": "GPU",
    "widgets": {
      "application/vnd.jupyter.widget-state+json": {
        "caec29147fb848dfb8a95ed59941a2c5": {
          "model_module": "@jupyter-widgets/controls",
          "model_name": "HBoxModel",
          "model_module_version": "1.5.0",
          "state": {
            "_view_name": "HBoxView",
            "_dom_classes": [],
            "_model_name": "HBoxModel",
            "_view_module": "@jupyter-widgets/controls",
            "_model_module_version": "1.5.0",
            "_view_count": null,
            "_view_module_version": "1.5.0",
            "box_style": "",
            "layout": "IPY_MODEL_f57337fc18c44eb08320a86a276110ca",
            "_model_module": "@jupyter-widgets/controls",
            "children": [
              "IPY_MODEL_193e766078f74028855c2f95221a6a4b",
              "IPY_MODEL_22cc1bd1233640debad126847ebde822",
              "IPY_MODEL_e916db581b934189ab4443e7f43de59a"
            ]
          }
        },
        "f57337fc18c44eb08320a86a276110ca": {
          "model_module": "@jupyter-widgets/base",
          "model_name": "LayoutModel",
          "model_module_version": "1.2.0",
          "state": {
            "_view_name": "LayoutView",
            "grid_template_rows": null,
            "right": null,
            "justify_content": null,
            "_view_module": "@jupyter-widgets/base",
            "overflow": null,
            "_model_module_version": "1.2.0",
            "_view_count": null,
            "flex_flow": null,
            "width": null,
            "min_width": null,
            "border": null,
            "align_items": null,
            "bottom": null,
            "_model_module": "@jupyter-widgets/base",
            "top": null,
            "grid_column": null,
            "overflow_y": null,
            "overflow_x": null,
            "grid_auto_flow": null,
            "grid_area": null,
            "grid_template_columns": null,
            "flex": null,
            "_model_name": "LayoutModel",
            "justify_items": null,
            "grid_row": null,
            "max_height": null,
            "align_content": null,
            "visibility": null,
            "align_self": null,
            "height": null,
            "min_height": null,
            "padding": null,
            "grid_auto_rows": null,
            "grid_gap": null,
            "max_width": null,
            "order": null,
            "_view_module_version": "1.2.0",
            "grid_template_areas": null,
            "object_position": null,
            "object_fit": null,
            "grid_auto_columns": null,
            "margin": null,
            "display": null,
            "left": null
          }
        },
        "193e766078f74028855c2f95221a6a4b": {
          "model_module": "@jupyter-widgets/controls",
          "model_name": "HTMLModel",
          "model_module_version": "1.5.0",
          "state": {
            "_view_name": "HTMLView",
            "style": "IPY_MODEL_9ee775d5f50d4b34bfeb2e8c408b9994",
            "_dom_classes": [],
            "description": "",
            "_model_name": "HTMLModel",
            "placeholder": "​",
            "_view_module": "@jupyter-widgets/controls",
            "_model_module_version": "1.5.0",
            "value": "",
            "_view_count": null,
            "_view_module_version": "1.5.0",
            "description_tooltip": null,
            "_model_module": "@jupyter-widgets/controls",
            "layout": "IPY_MODEL_4a71a0c523774be786948158f9596ea0"
          }
        },
        "22cc1bd1233640debad126847ebde822": {
          "model_module": "@jupyter-widgets/controls",
          "model_name": "FloatProgressModel",
          "model_module_version": "1.5.0",
          "state": {
            "_view_name": "ProgressView",
            "style": "IPY_MODEL_79d918097f94482888e7db725ea10de6",
            "_dom_classes": [],
            "description": "",
            "_model_name": "FloatProgressModel",
            "bar_style": "success",
            "max": 169001437,
            "_view_module": "@jupyter-widgets/controls",
            "_model_module_version": "1.5.0",
            "value": 169001437,
            "_view_count": null,
            "_view_module_version": "1.5.0",
            "orientation": "horizontal",
            "min": 0,
            "description_tooltip": null,
            "_model_module": "@jupyter-widgets/controls",
            "layout": "IPY_MODEL_f99ba3160b844055a1427d9cccb51a90"
          }
        },
        "e916db581b934189ab4443e7f43de59a": {
          "model_module": "@jupyter-widgets/controls",
          "model_name": "HTMLModel",
          "model_module_version": "1.5.0",
          "state": {
            "_view_name": "HTMLView",
            "style": "IPY_MODEL_91d4ba6a3772490aac89f331b379ed40",
            "_dom_classes": [],
            "description": "",
            "_model_name": "HTMLModel",
            "placeholder": "​",
            "_view_module": "@jupyter-widgets/controls",
            "_model_module_version": "1.5.0",
            "value": " 169001984/? [00:03&lt;00:00, 53065808.31it/s]",
            "_view_count": null,
            "_view_module_version": "1.5.0",
            "description_tooltip": null,
            "_model_module": "@jupyter-widgets/controls",
            "layout": "IPY_MODEL_b5d4d1dc400e49e1905d1b51020e4ecf"
          }
        },
        "9ee775d5f50d4b34bfeb2e8c408b9994": {
          "model_module": "@jupyter-widgets/controls",
          "model_name": "DescriptionStyleModel",
          "model_module_version": "1.5.0",
          "state": {
            "_view_name": "StyleView",
            "_model_name": "DescriptionStyleModel",
            "description_width": "",
            "_view_module": "@jupyter-widgets/base",
            "_model_module_version": "1.5.0",
            "_view_count": null,
            "_view_module_version": "1.2.0",
            "_model_module": "@jupyter-widgets/controls"
          }
        },
        "4a71a0c523774be786948158f9596ea0": {
          "model_module": "@jupyter-widgets/base",
          "model_name": "LayoutModel",
          "model_module_version": "1.2.0",
          "state": {
            "_view_name": "LayoutView",
            "grid_template_rows": null,
            "right": null,
            "justify_content": null,
            "_view_module": "@jupyter-widgets/base",
            "overflow": null,
            "_model_module_version": "1.2.0",
            "_view_count": null,
            "flex_flow": null,
            "width": null,
            "min_width": null,
            "border": null,
            "align_items": null,
            "bottom": null,
            "_model_module": "@jupyter-widgets/base",
            "top": null,
            "grid_column": null,
            "overflow_y": null,
            "overflow_x": null,
            "grid_auto_flow": null,
            "grid_area": null,
            "grid_template_columns": null,
            "flex": null,
            "_model_name": "LayoutModel",
            "justify_items": null,
            "grid_row": null,
            "max_height": null,
            "align_content": null,
            "visibility": null,
            "align_self": null,
            "height": null,
            "min_height": null,
            "padding": null,
            "grid_auto_rows": null,
            "grid_gap": null,
            "max_width": null,
            "order": null,
            "_view_module_version": "1.2.0",
            "grid_template_areas": null,
            "object_position": null,
            "object_fit": null,
            "grid_auto_columns": null,
            "margin": null,
            "display": null,
            "left": null
          }
        },
        "79d918097f94482888e7db725ea10de6": {
          "model_module": "@jupyter-widgets/controls",
          "model_name": "ProgressStyleModel",
          "model_module_version": "1.5.0",
          "state": {
            "_view_name": "StyleView",
            "_model_name": "ProgressStyleModel",
            "description_width": "",
            "_view_module": "@jupyter-widgets/base",
            "_model_module_version": "1.5.0",
            "_view_count": null,
            "_view_module_version": "1.2.0",
            "bar_color": null,
            "_model_module": "@jupyter-widgets/controls"
          }
        },
        "f99ba3160b844055a1427d9cccb51a90": {
          "model_module": "@jupyter-widgets/base",
          "model_name": "LayoutModel",
          "model_module_version": "1.2.0",
          "state": {
            "_view_name": "LayoutView",
            "grid_template_rows": null,
            "right": null,
            "justify_content": null,
            "_view_module": "@jupyter-widgets/base",
            "overflow": null,
            "_model_module_version": "1.2.0",
            "_view_count": null,
            "flex_flow": null,
            "width": null,
            "min_width": null,
            "border": null,
            "align_items": null,
            "bottom": null,
            "_model_module": "@jupyter-widgets/base",
            "top": null,
            "grid_column": null,
            "overflow_y": null,
            "overflow_x": null,
            "grid_auto_flow": null,
            "grid_area": null,
            "grid_template_columns": null,
            "flex": null,
            "_model_name": "LayoutModel",
            "justify_items": null,
            "grid_row": null,
            "max_height": null,
            "align_content": null,
            "visibility": null,
            "align_self": null,
            "height": null,
            "min_height": null,
            "padding": null,
            "grid_auto_rows": null,
            "grid_gap": null,
            "max_width": null,
            "order": null,
            "_view_module_version": "1.2.0",
            "grid_template_areas": null,
            "object_position": null,
            "object_fit": null,
            "grid_auto_columns": null,
            "margin": null,
            "display": null,
            "left": null
          }
        },
        "91d4ba6a3772490aac89f331b379ed40": {
          "model_module": "@jupyter-widgets/controls",
          "model_name": "DescriptionStyleModel",
          "model_module_version": "1.5.0",
          "state": {
            "_view_name": "StyleView",
            "_model_name": "DescriptionStyleModel",
            "description_width": "",
            "_view_module": "@jupyter-widgets/base",
            "_model_module_version": "1.5.0",
            "_view_count": null,
            "_view_module_version": "1.2.0",
            "_model_module": "@jupyter-widgets/controls"
          }
        },
        "b5d4d1dc400e49e1905d1b51020e4ecf": {
          "model_module": "@jupyter-widgets/base",
          "model_name": "LayoutModel",
          "model_module_version": "1.2.0",
          "state": {
            "_view_name": "LayoutView",
            "grid_template_rows": null,
            "right": null,
            "justify_content": null,
            "_view_module": "@jupyter-widgets/base",
            "overflow": null,
            "_model_module_version": "1.2.0",
            "_view_count": null,
            "flex_flow": null,
            "width": null,
            "min_width": null,
            "border": null,
            "align_items": null,
            "bottom": null,
            "_model_module": "@jupyter-widgets/base",
            "top": null,
            "grid_column": null,
            "overflow_y": null,
            "overflow_x": null,
            "grid_auto_flow": null,
            "grid_area": null,
            "grid_template_columns": null,
            "flex": null,
            "_model_name": "LayoutModel",
            "justify_items": null,
            "grid_row": null,
            "max_height": null,
            "align_content": null,
            "visibility": null,
            "align_self": null,
            "height": null,
            "min_height": null,
            "padding": null,
            "grid_auto_rows": null,
            "grid_gap": null,
            "max_width": null,
            "order": null,
            "_view_module_version": "1.2.0",
            "grid_template_areas": null,
            "object_position": null,
            "object_fit": null,
            "grid_auto_columns": null,
            "margin": null,
            "display": null,
            "left": null
          }
        }
      }
    }
  },
  "cells": [
    {
      "cell_type": "markdown",
      "metadata": {
        "id": "view-in-github",
        "colab_type": "text"
      },
      "source": [
        "<a href=\"https://colab.research.google.com/github/malloyca/CSC581B/blob/main/Final%20Project/linear_model.ipynb\" target=\"_parent\"><img src=\"https://colab.research.google.com/assets/colab-badge.svg\" alt=\"Open In Colab\"/></a>"
      ]
    },
    {
      "cell_type": "markdown",
      "metadata": {
        "id": "zwLHFQDMPHFV"
      },
      "source": [
        "# CSC581B - Introduction to Deep Learning for Image Classification\n",
        "# Final Project - Linear Classifier"
      ]
    },
    {
      "cell_type": "code",
      "metadata": {
        "id": "qROMWFFMPGZZ"
      },
      "source": [
        "# imports\n",
        "import torch\n",
        "from torch import nn\n",
        "from torch.utils.data import DataLoader, SubsetRandomSampler\n",
        "from torchvision.datasets import CIFAR100\n",
        "from torchvision import transforms\n",
        "from sklearn.model_selection import train_test_split\n",
        "import matplotlib.pyplot as plt\n",
        "import copy\n",
        "import numpy as np\n",
        "import random\n"
      ],
      "execution_count": 1,
      "outputs": []
    },
    {
      "cell_type": "markdown",
      "metadata": {
        "id": "9mWOoFAqRy5c"
      },
      "source": [
        "First we need to load the training and test data."
      ]
    },
    {
      "cell_type": "code",
      "metadata": {
        "id": "3xo8reJnt1O3"
      },
      "source": [
        "normalize_transform = transforms.Compose([\n",
        "  transforms.ToTensor(),\n",
        "  transforms.Normalize(\n",
        "      mean = [0.5071, 0.4867, 0.4408],\n",
        "      std = [0.2675, 0.2565, 0.2761]\n",
        "  ),\n",
        "])"
      ],
      "execution_count": 2,
      "outputs": []
    },
    {
      "cell_type": "code",
      "metadata": {
        "colab": {
          "base_uri": "https://localhost:8080/",
          "height": 117,
          "referenced_widgets": [
            "caec29147fb848dfb8a95ed59941a2c5",
            "f57337fc18c44eb08320a86a276110ca",
            "193e766078f74028855c2f95221a6a4b",
            "22cc1bd1233640debad126847ebde822",
            "e916db581b934189ab4443e7f43de59a",
            "9ee775d5f50d4b34bfeb2e8c408b9994",
            "4a71a0c523774be786948158f9596ea0",
            "79d918097f94482888e7db725ea10de6",
            "f99ba3160b844055a1427d9cccb51a90",
            "91d4ba6a3772490aac89f331b379ed40",
            "b5d4d1dc400e49e1905d1b51020e4ecf"
          ]
        },
        "id": "rfml-mHmP4Z7",
        "outputId": "6c0b411e-516c-431a-8a0b-9c82e56ecb35"
      },
      "source": [
        "# Load the training data (CIFAR10 to start)\n",
        "training_data = CIFAR100(\n",
        "    root = \"data\",\n",
        "    train = True,\n",
        "    download = True,\n",
        "    transform = normalize_transform,\n",
        ")\n",
        "\n",
        "# this is necessary to prevent the data augmentation transforms from being applied to the validation set\n",
        "validation_data = CIFAR100(\n",
        "    root = \"data\",\n",
        "    train = True,\n",
        "    download = True,\n",
        "    transform = normalize_transform,\n",
        ")\n",
        "\n",
        "# Load the test data\n",
        "test_data = CIFAR100(\n",
        "    root = \"data\",\n",
        "    train = False,\n",
        "    download = True,\n",
        "    transform = transforms.ToTensor()\n",
        ")"
      ],
      "execution_count": 3,
      "outputs": [
        {
          "output_type": "stream",
          "name": "stdout",
          "text": [
            "Downloading https://www.cs.toronto.edu/~kriz/cifar-100-python.tar.gz to data/cifar-100-python.tar.gz\n"
          ]
        },
        {
          "output_type": "display_data",
          "data": {
            "application/vnd.jupyter.widget-view+json": {
              "model_id": "caec29147fb848dfb8a95ed59941a2c5",
              "version_minor": 0,
              "version_major": 2
            },
            "text/plain": [
              "  0%|          | 0/169001437 [00:00<?, ?it/s]"
            ]
          },
          "metadata": {}
        },
        {
          "output_type": "stream",
          "name": "stdout",
          "text": [
            "Extracting data/cifar-100-python.tar.gz to data\n",
            "Files already downloaded and verified\n",
            "Files already downloaded and verified\n"
          ]
        }
      ]
    },
    {
      "cell_type": "code",
      "metadata": {
        "id": "J-Ti21sdu9vB"
      },
      "source": [
        "training_targets = training_data.targets"
      ],
      "execution_count": 4,
      "outputs": []
    },
    {
      "cell_type": "code",
      "metadata": {
        "id": "Oz-hejWHu9nb"
      },
      "source": [
        "train_split_index, valid_split_index = train_test_split(\n",
        "    np.arange(len(training_targets)), test_size=0.2, stratify=training_targets\n",
        ")"
      ],
      "execution_count": 5,
      "outputs": []
    },
    {
      "cell_type": "code",
      "metadata": {
        "id": "TJgFLmWPQ-rU"
      },
      "source": [
        "batch_size = 200\n",
        "\n",
        "# Create data loaders\n",
        "train_dataloader = DataLoader(training_data, batch_size=batch_size,\n",
        "                              sampler=SubsetRandomSampler(train_split_index))\n",
        "valid_dataloader = DataLoader(training_data, batch_size=batch_size,\n",
        "                              sampler=SubsetRandomSampler(valid_split_index))\n",
        "test_dataloader = DataLoader(test_data, batch_size=batch_size)"
      ],
      "execution_count": 6,
      "outputs": []
    },
    {
      "cell_type": "code",
      "metadata": {
        "colab": {
          "base_uri": "https://localhost:8080/"
        },
        "id": "UoIkbJTtRad9",
        "outputId": "21126fad-d779-453a-8047-61748d60290a"
      },
      "source": [
        "# Check that it is splitting the data properly\n",
        "train_length = 0\n",
        "for _, y in train_dataloader:\n",
        "  train_length += len(y)\n",
        "print(f\"Length of training split: {train_length}\")\n",
        "\n",
        "valid_length = 0\n",
        "for _, y in valid_dataloader:\n",
        "  valid_length += len(y)\n",
        "print(f\"Length of validation split: {valid_length}\")\n",
        "\n",
        "test_length = 0\n",
        "for _, y in test_dataloader:\n",
        "  test_length += len(y)\n",
        "print(f\"Length of test split: {test_length}\")"
      ],
      "execution_count": 7,
      "outputs": [
        {
          "output_type": "stream",
          "name": "stdout",
          "text": [
            "Length of training split: 40000\n",
            "Length of validation split: 10000\n",
            "Length of test split: 10000\n"
          ]
        }
      ]
    },
    {
      "cell_type": "code",
      "metadata": {
        "colab": {
          "base_uri": "https://localhost:8080/"
        },
        "id": "DvwjwC3Rv8_X",
        "outputId": "3abaed55-2f0a-41e7-a928-07250f6dc7be"
      },
      "source": [
        "# Check that there are 100 instances of each class in the validation set\n",
        "count = 0\n",
        "for _, y in valid_dataloader:\n",
        "  for target in y:\n",
        "    if int(target.numpy()) == 0:\n",
        "      count += 1\n",
        "\n",
        "print(count)"
      ],
      "execution_count": 8,
      "outputs": [
        {
          "output_type": "stream",
          "name": "stdout",
          "text": [
            "100\n"
          ]
        }
      ]
    },
    {
      "cell_type": "markdown",
      "metadata": {
        "id": "qu0Hhp8VR-AG"
      },
      "source": [
        "## Building some linear models"
      ]
    },
    {
      "cell_type": "code",
      "metadata": {
        "colab": {
          "base_uri": "https://localhost:8080/"
        },
        "id": "2h9ROBxpRnuq",
        "outputId": "fd58cd0d-68b3-4a9e-f94a-da6e8c5e9ab4"
      },
      "source": [
        "device = \"cuda\" if torch.cuda.is_available() else \"cpu\"\n",
        "print(device)"
      ],
      "execution_count": 9,
      "outputs": [
        {
          "output_type": "stream",
          "name": "stdout",
          "text": [
            "cuda\n"
          ]
        }
      ]
    },
    {
      "cell_type": "code",
      "metadata": {
        "id": "HvTQcnbXSPHf"
      },
      "source": [
        "# Define the model\n",
        "class LinearModel(nn.Module):\n",
        "  def __init__(self, n_neurons):\n",
        "    super(LinearModel, self).__init__()\n",
        "    self.name = f'model_{n_neurons}'\n",
        "    self.flatten = nn.Flatten()\n",
        "    self.linear_model = nn.Sequential(\n",
        "        nn.Linear(32*32*3, n_neurons),\n",
        "        nn.Linear(n_neurons, n_neurons),\n",
        "        nn.Linear(n_neurons, 100),\n",
        "    )\n",
        "\n",
        "  # Forward propagation function\n",
        "  def forward(self, x):\n",
        "    x = self.flatten(x)\n",
        "    x = self.linear_model(x)\n",
        "    return x"
      ],
      "execution_count": 10,
      "outputs": []
    },
    {
      "cell_type": "code",
      "metadata": {
        "id": "sC6gSZZ9TsEo"
      },
      "source": [
        "# Training loop\n",
        "def train(dataloader, batch_size, model, loss_fn, optimizer):\n",
        "  num_batches = len(dataloader)\n",
        "  size = num_batches * batch_size\n",
        "  model.train()\n",
        "  train_loss, num_correct = 0, 0\n",
        "  for batch, (X, y) in enumerate(dataloader):\n",
        "    X, y = X.to(device), y.to(device)\n",
        "\n",
        "    # Compute prediction error\n",
        "    pred = model(X)\n",
        "    loss = loss_fn(pred, y)\n",
        "\n",
        "    # Backprop\n",
        "    optimizer.zero_grad()\n",
        "    loss.backward()\n",
        "    optimizer.step()\n",
        "\n",
        "    # Track train_loss and accuracy\n",
        "    train_loss += loss.item()\n",
        "    num_correct += (pred.argmax(1) == y).type(torch.float).sum().item()\n",
        "\n",
        "    if batch % 100 == 0:\n",
        "      loss, current = loss.item(), batch * len(X)\n",
        "      print(f\"loss: {loss:>7f} [{current:>5d}/{size:>5d}]\")\n",
        "\n",
        "  train_loss /= num_batches\n",
        "  accuracy = num_correct / size\n",
        "  return train_loss, accuracy"
      ],
      "execution_count": 11,
      "outputs": []
    },
    {
      "cell_type": "code",
      "metadata": {
        "id": "QlqedmUOuPRt"
      },
      "source": [
        "# Validation function\n",
        "def validation(dataloader, batch_size, model, loss_fn):\n",
        "  num_batches = len(dataloader)\n",
        "  size = num_batches * batch_size\n",
        "  model.eval()\n",
        "  val_loss, num_correct = 0, 0\n",
        "  with torch.no_grad():\n",
        "    for X, y in dataloader:\n",
        "      X, y = X.to(device), y.to(device)\n",
        "      pred = model(X)\n",
        "      val_loss += loss_fn(pred, y).item()\n",
        "      num_correct += (pred.argmax(1) == y).type(torch.float).sum().item()\n",
        "  val_loss /= num_batches\n",
        "  accuracy = num_correct / size\n",
        "  print(f\"Validation Error: \\n Validation accuracy: {(100 * accuracy):>0.1f}%, Validation loss: {val_loss:>8f} \\n\")\n",
        "  return val_loss, accuracy"
      ],
      "execution_count": 12,
      "outputs": []
    },
    {
      "cell_type": "code",
      "metadata": {
        "id": "e9joI7v5Ucpm"
      },
      "source": [
        "# Test function\n",
        "def test(dataloader, model, loss_fn):\n",
        "  size = len(dataloader.dataset)\n",
        "  num_batches = len(dataloader)\n",
        "  model.eval()\n",
        "  test_loss, correct = 0, 0\n",
        "  with torch.no_grad():\n",
        "    for X, y in dataloader:\n",
        "      X, y = X.to(device), y.to(device)\n",
        "      pred = model(X)\n",
        "      test_loss += loss_fn(pred, y).item()\n",
        "      correct += (pred.argmax(1) == y).type(torch.float).sum().item()\n",
        "  test_loss /= num_batches\n",
        "  correct /= size\n",
        "  print(f\"Test Error: \\n Accuracy: {(100*correct):>0.1f}%, Avg loss: {test_loss:>8f} \\n\")\n",
        "  return test_loss"
      ],
      "execution_count": 13,
      "outputs": []
    },
    {
      "cell_type": "code",
      "metadata": {
        "id": "xhLRhHRIvM7F"
      },
      "source": [
        "def training_loop(n_epochs, model, train_data, valid_data, batch_size,\n",
        "                  loss_function, optimizer, scheduler=None,\n",
        "                  early_stopping=False, patience=10):\n",
        "  current_epoch = 0\n",
        "  best_epoch = 0\n",
        "  best_loss = float('inf')\n",
        "  patience_counter = 0\n",
        "\n",
        "  train_losses = []\n",
        "  train_accuracies = []\n",
        "  val_losses = []\n",
        "  val_accuracies = []\n",
        "\n",
        "  for e in range(n_epochs):\n",
        "    print(f\"\\nEpoch {e+1}\\n----------------------------\")\n",
        "    # Iterate epoch counter\n",
        "    current_epoch += 1\n",
        "\n",
        "    train_loss, train_accuracy = train(train_data, batch_size, model, loss_function, optimizer)\n",
        "    val_loss, val_accuracy = validation(valid_data, batch_size, model, loss_function)\n",
        "\n",
        "    train_losses.append(train_loss)\n",
        "    train_accuracies.append(train_accuracy)\n",
        "    val_losses.append(val_loss)\n",
        "    val_accuracies.append(val_accuracy)\n",
        "\n",
        "    # Iterate scheduler (this is set up for ReduceLROnPlateau)\n",
        "    if scheduler is not None:\n",
        "      scheduler.step()\n",
        "\n",
        "    # If early_stopping check test_loss\n",
        "    if early_stopping:\n",
        "      # case: test loss beats the current best loss\n",
        "      if val_loss < best_loss:\n",
        "        # store loss\n",
        "        best_loss = val_loss\n",
        "\n",
        "        # reset patience counter\n",
        "        patience_counter = 0\n",
        "\n",
        "        # store model and epoch number\n",
        "        print(\"Storing new best model.\")\n",
        "        best_model_state_dict = copy.deepcopy(model.state_dict)\n",
        "        best_epoch = current_epoch\n",
        "\n",
        "      # Case: patience limit not yet reached => iterate patience counter\n",
        "      elif patience_counter < patience - 1:\n",
        "        patience_counter += 1\n",
        "        print(f\"Patience count: {patience_counter}\")\n",
        "\n",
        "      # Case: patience limit reached\n",
        "      else:\n",
        "        print(\"Finished due to early stopping.\")\n",
        "        print(f\"Saving best model: {model.name}_epoch-{best_epoch:03d}\")\n",
        "        torch.save(best_model_state_dict, f'{model.name}_epoch-{best_epoch:03d}')\n",
        "        break\n",
        "\n",
        "  # If we get here, we did not stop early - save best model\n",
        "  if early_stopping:\n",
        "    print(f\"Saving best model: {model.name}_epoch-{best_epoch:03d}\")\n",
        "    torch.save(best_model_state_dict, f'{model.name}_epoch-{best_epoch:03d}')\n",
        "\n",
        "  return train_losses, train_accuracies, val_losses, val_accuracies"
      ],
      "execution_count": 14,
      "outputs": []
    },
    {
      "cell_type": "markdown",
      "metadata": {
        "id": "eVJOYvmtxBqR"
      },
      "source": [
        "# Training"
      ]
    },
    {
      "cell_type": "code",
      "metadata": {
        "id": "IPYeNOb1VN65"
      },
      "source": [
        "n_epochs = 20"
      ],
      "execution_count": 15,
      "outputs": []
    },
    {
      "cell_type": "code",
      "metadata": {
        "id": "AjdHv7tMcmhy"
      },
      "source": [
        "model_100 = LinearModel(n_neurons=100).to(device)\n",
        "#print(model_100)\n",
        "\n",
        "model_500 = LinearModel(n_neurons=500).to(device)\n",
        "#print(model_500)\n",
        "\n",
        "model_1000 = LinearModel(n_neurons=1000).to(device)\n",
        "#print(model_1000)\n",
        "\n",
        "model_2000 = LinearModel(n_neurons=2000).to(device)\n",
        "#print(model_2000)"
      ],
      "execution_count": 16,
      "outputs": []
    },
    {
      "cell_type": "code",
      "metadata": {
        "id": "Om2XSgK8TO7i"
      },
      "source": [
        "# Loss function\n",
        "loss_fn = nn.CrossEntropyLoss()\n",
        "\n",
        "# Optimizer\n",
        "optimizer_100 = torch.optim.SGD(model_100.parameters(), lr=1e-1)\n",
        "optimizer_500 = torch.optim.SGD(model_500.parameters(), lr=1e-1)\n",
        "optimizer_1000 = torch.optim.SGD(model_1000.parameters(), lr=1e-1)\n",
        "optimizer_2000 = torch.optim.SGD(model_2000.parameters(), lr=1e-1)\n",
        "\n",
        "# Learning rate schedulers\n",
        "scheduler_100 = torch.optim.lr_scheduler.StepLR(optimizer_100, step_size=10, gamma=0.1)\n",
        "scheduler_500 = torch.optim.lr_scheduler.StepLR(optimizer_500, step_size=10, gamma=0.1)\n",
        "scheduler_1000 = torch.optim.lr_scheduler.StepLR(optimizer_1000, step_size=10, gamma=0.1)\n",
        "scheduler_2000 = torch.optim.lr_scheduler.StepLR(optimizer_2000, step_size=10, gamma=0.1)"
      ],
      "execution_count": 17,
      "outputs": []
    },
    {
      "cell_type": "code",
      "metadata": {
        "id": "OlN7IdWWlXCK",
        "colab": {
          "base_uri": "https://localhost:8080/"
        },
        "outputId": "5a08b90b-ffb4-4da0-ce70-ce50b07d5d08"
      },
      "source": [
        "train_loss, train_accuracy, val_loss, val_accuracy = training_loop(n_epochs, model_100, train_dataloader, valid_dataloader,\n",
        "              batch_size, loss_fn, optimizer_100, scheduler=scheduler_100, early_stopping=False, patience=10)"
      ],
      "execution_count": null,
      "outputs": [
        {
          "output_type": "stream",
          "name": "stdout",
          "text": [
            "\n",
            "Epoch 1\n",
            "----------------------------\n",
            "loss: 4.645518 [    0/40000]\n",
            "loss: 3.942276 [20000/40000]\n",
            "Validation Error: \n",
            " Validation accuracy: 13.2%, Validation loss: 3.836209 \n",
            "\n",
            "\n",
            "Epoch 2\n",
            "----------------------------\n",
            "loss: 3.766306 [    0/40000]\n",
            "loss: 3.651538 [20000/40000]\n",
            "Validation Error: \n",
            " Validation accuracy: 16.1%, Validation loss: 3.719167 \n",
            "\n",
            "\n",
            "Epoch 3\n",
            "----------------------------\n",
            "loss: 3.638145 [    0/40000]\n",
            "loss: 3.736180 [20000/40000]\n",
            "Validation Error: \n",
            " Validation accuracy: 16.8%, Validation loss: 3.683603 \n",
            "\n",
            "\n",
            "Epoch 4\n",
            "----------------------------\n",
            "loss: 3.702989 [    0/40000]\n",
            "loss: 3.450701 [20000/40000]\n",
            "Validation Error: \n",
            " Validation accuracy: 16.5%, Validation loss: 3.674678 \n",
            "\n",
            "\n",
            "Epoch 5\n",
            "----------------------------\n",
            "loss: 3.564422 [    0/40000]\n",
            "loss: 3.432955 [20000/40000]\n",
            "Validation Error: \n",
            " Validation accuracy: 17.4%, Validation loss: 3.650725 \n",
            "\n",
            "\n",
            "Epoch 6\n",
            "----------------------------\n",
            "loss: 3.398281 [    0/40000]\n",
            "loss: 3.251561 [20000/40000]\n",
            "Validation Error: \n",
            " Validation accuracy: 17.2%, Validation loss: 3.657101 \n",
            "\n",
            "\n",
            "Epoch 7\n",
            "----------------------------\n",
            "loss: 3.324887 [    0/40000]\n",
            "loss: 3.624417 [20000/40000]\n",
            "Validation Error: \n",
            " Validation accuracy: 17.2%, Validation loss: 3.661224 \n",
            "\n",
            "\n",
            "Epoch 8\n",
            "----------------------------\n",
            "loss: 3.390299 [    0/40000]\n",
            "loss: 3.369288 [20000/40000]\n",
            "Validation Error: \n",
            " Validation accuracy: 16.7%, Validation loss: 3.665183 \n",
            "\n",
            "\n",
            "Epoch 9\n",
            "----------------------------\n",
            "loss: 3.314811 [    0/40000]\n",
            "loss: 3.501867 [20000/40000]\n",
            "Validation Error: \n",
            " Validation accuracy: 16.7%, Validation loss: 3.674174 \n",
            "\n",
            "\n",
            "Epoch 10\n",
            "----------------------------\n",
            "loss: 3.399446 [    0/40000]\n",
            "loss: 3.471503 [20000/40000]\n",
            "Validation Error: \n",
            " Validation accuracy: 17.1%, Validation loss: 3.683161 \n",
            "\n",
            "\n",
            "Epoch 11\n",
            "----------------------------\n",
            "loss: 3.176587 [    0/40000]\n",
            "loss: 3.287896 [20000/40000]\n",
            "Validation Error: \n",
            " Validation accuracy: 18.9%, Validation loss: 3.607497 \n",
            "\n",
            "\n",
            "Epoch 12\n",
            "----------------------------\n",
            "loss: 3.271768 [    0/40000]\n",
            "loss: 2.980711 [20000/40000]\n",
            "Validation Error: \n",
            " Validation accuracy: 18.7%, Validation loss: 3.608910 \n",
            "\n",
            "\n",
            "Epoch 13\n",
            "----------------------------\n",
            "loss: 3.297650 [    0/40000]\n",
            "loss: 3.325958 [20000/40000]\n",
            "Validation Error: \n",
            " Validation accuracy: 18.7%, Validation loss: 3.612997 \n",
            "\n",
            "\n",
            "Epoch 14\n",
            "----------------------------\n",
            "loss: 3.294706 [    0/40000]\n",
            "loss: 3.279474 [20000/40000]\n",
            "Validation Error: \n",
            " Validation accuracy: 18.5%, Validation loss: 3.612722 \n",
            "\n",
            "\n",
            "Epoch 15\n",
            "----------------------------\n",
            "loss: 3.323919 [    0/40000]\n",
            "loss: 3.464412 [20000/40000]\n",
            "Validation Error: \n",
            " Validation accuracy: 18.6%, Validation loss: 3.614791 \n",
            "\n",
            "\n",
            "Epoch 16\n",
            "----------------------------\n",
            "loss: 3.133073 [    0/40000]\n",
            "loss: 3.294665 [20000/40000]\n",
            "Validation Error: \n",
            " Validation accuracy: 18.5%, Validation loss: 3.618041 \n",
            "\n",
            "\n",
            "Epoch 17\n",
            "----------------------------\n",
            "loss: 3.191163 [    0/40000]\n",
            "loss: 3.140044 [20000/40000]\n",
            "Validation Error: \n",
            " Validation accuracy: 18.4%, Validation loss: 3.620920 \n",
            "\n",
            "\n",
            "Epoch 18\n",
            "----------------------------\n",
            "loss: 3.213400 [    0/40000]\n",
            "loss: 3.130424 [20000/40000]\n",
            "Validation Error: \n",
            " Validation accuracy: 18.5%, Validation loss: 3.624209 \n",
            "\n",
            "\n",
            "Epoch 19\n",
            "----------------------------\n",
            "loss: 3.259763 [    0/40000]\n",
            "loss: 3.160751 [20000/40000]\n",
            "Validation Error: \n",
            " Validation accuracy: 18.2%, Validation loss: 3.629826 \n",
            "\n",
            "\n",
            "Epoch 20\n",
            "----------------------------\n",
            "loss: 3.362097 [    0/40000]\n",
            "loss: 3.265185 [20000/40000]\n",
            "Validation Error: \n",
            " Validation accuracy: 18.3%, Validation loss: 3.631581 \n",
            "\n"
          ]
        }
      ]
    },
    {
      "cell_type": "code",
      "metadata": {
        "id": "ERBFd8CvwRY1",
        "colab": {
          "base_uri": "https://localhost:8080/",
          "height": 530
        },
        "outputId": "5a2868f1-212b-4d12-c9a4-8796ab97e7e2"
      },
      "source": [
        "plt.figure(figsize=(15,8))\n",
        "plt.title(f\"Train and Validation Loss for {model_100.name}\")\n",
        "plt.plot(val_loss, label=\"val_loss\")\n",
        "plt.plot(train_loss, label=\"train_loss\")\n",
        "plt.xlabel(\"Epochs\")\n",
        "plt.ylabel(\"Loss\")\n",
        "plt.legend()\n",
        "plt.show"
      ],
      "execution_count": null,
      "outputs": [
        {
          "output_type": "execute_result",
          "data": {
            "text/plain": [
              "<function matplotlib.pyplot.show>"
            ]
          },
          "metadata": {},
          "execution_count": 43
        },
        {
          "output_type": "display_data",
          "data": {
            "image/png": "[encoded data removed]",
            "text/plain": [
              "<Figure size 1080x576 with 1 Axes>"
            ]
          },
          "metadata": {
            "needs_background": "light"
          }
        }
      ]
    },
    {
      "cell_type": "code",
      "metadata": {
        "id": "JyFYGHCLxHaQ",
        "colab": {
          "base_uri": "https://localhost:8080/",
          "height": 530
        },
        "outputId": "bf5ff178-4939-413e-d237-d90893c25680"
      },
      "source": [
        "plt.figure(figsize=(15,8))\n",
        "plt.title(f\"Train and Validation Accuracy for {model_100.name}\")\n",
        "plt.plot(val_accuracy, label=\"val_accuracy\")\n",
        "plt.plot(train_accuracy, label=\"train_accuracy\")\n",
        "plt.xlabel(\"Epochs\")\n",
        "plt.ylabel(\"Accuracy\")\n",
        "plt.legend()\n",
        "plt.show"
      ],
      "execution_count": null,
      "outputs": [
        {
          "output_type": "execute_result",
          "data": {
            "text/plain": [
              "<function matplotlib.pyplot.show>"
            ]
          },
          "metadata": {},
          "execution_count": 44
        },
        {
          "output_type": "display_data",
          "data": {
            "image/png": "[encoded data removed]",
            "text/plain": [
              "<Figure size 1080x576 with 1 Axes>"
            ]
          },
          "metadata": {
            "needs_background": "light"
          }
        }
      ]
    },
    {
      "cell_type": "code",
      "metadata": {
        "id": "262-Gta2aIUD",
        "outputId": "2b094b87-fbab-44e3-970f-53a87911ba60",
        "colab": {
          "base_uri": "https://localhost:8080/"
        }
      },
      "source": [
        "train_loss, train_accuracy, val_loss, val_accuracy = training_loop(n_epochs, model_500, train_dataloader, valid_dataloader,\n",
        "              batch_size, loss_fn, optimizer_500, scheduler=scheduler_500, early_stopping=False, patience=10)"
      ],
      "execution_count": 18,
      "outputs": [
        {
          "output_type": "stream",
          "name": "stdout",
          "text": [
            "\n",
            "Epoch 1\n",
            "----------------------------\n",
            "loss: 4.633198 [    0/40000]\n",
            "loss: 3.721173 [20000/40000]\n",
            "Validation Error: \n",
            " Validation accuracy: 15.0%, Validation loss: 3.778580 \n",
            "\n",
            "\n",
            "Epoch 2\n",
            "----------------------------\n",
            "loss: 3.625900 [    0/40000]\n",
            "loss: 3.655742 [20000/40000]\n",
            "Validation Error: \n",
            " Validation accuracy: 17.0%, Validation loss: 3.693534 \n",
            "\n",
            "\n",
            "Epoch 3\n",
            "----------------------------\n",
            "loss: 3.500179 [    0/40000]\n",
            "loss: 3.593975 [20000/40000]\n",
            "Validation Error: \n",
            " Validation accuracy: 17.4%, Validation loss: 3.655445 \n",
            "\n",
            "\n",
            "Epoch 4\n",
            "----------------------------\n",
            "loss: 3.543914 [    0/40000]\n",
            "loss: 3.546943 [20000/40000]\n",
            "Validation Error: \n",
            " Validation accuracy: 17.6%, Validation loss: 3.652535 \n",
            "\n",
            "\n",
            "Epoch 5\n",
            "----------------------------\n",
            "loss: 3.534635 [    0/40000]\n",
            "loss: 3.465049 [20000/40000]\n",
            "Validation Error: \n",
            " Validation accuracy: 17.6%, Validation loss: 3.638850 \n",
            "\n",
            "\n",
            "Epoch 6\n",
            "----------------------------\n",
            "loss: 3.405719 [    0/40000]\n",
            "loss: 3.665144 [20000/40000]\n",
            "Validation Error: \n",
            " Validation accuracy: 17.1%, Validation loss: 3.662370 \n",
            "\n",
            "\n",
            "Epoch 7\n",
            "----------------------------\n",
            "loss: 3.312374 [    0/40000]\n",
            "loss: 3.373864 [20000/40000]\n",
            "Validation Error: \n",
            " Validation accuracy: 17.4%, Validation loss: 3.655155 \n",
            "\n",
            "\n",
            "Epoch 8\n",
            "----------------------------\n",
            "loss: 3.288404 [    0/40000]\n",
            "loss: 3.396379 [20000/40000]\n",
            "Validation Error: \n",
            " Validation accuracy: 17.1%, Validation loss: 3.664158 \n",
            "\n",
            "\n",
            "Epoch 9\n",
            "----------------------------\n",
            "loss: 3.148908 [    0/40000]\n",
            "loss: 3.519655 [20000/40000]\n",
            "Validation Error: \n",
            " Validation accuracy: 17.6%, Validation loss: 3.670278 \n",
            "\n",
            "\n",
            "Epoch 10\n",
            "----------------------------\n",
            "loss: 3.287358 [    0/40000]\n",
            "loss: 3.427404 [20000/40000]\n",
            "Validation Error: \n",
            " Validation accuracy: 17.2%, Validation loss: 3.689869 \n",
            "\n",
            "\n",
            "Epoch 11\n",
            "----------------------------\n",
            "loss: 3.381922 [    0/40000]\n",
            "loss: 3.074362 [20000/40000]\n",
            "Validation Error: \n",
            " Validation accuracy: 19.6%, Validation loss: 3.597388 \n",
            "\n",
            "\n",
            "Epoch 12\n",
            "----------------------------\n",
            "loss: 3.129452 [    0/40000]\n",
            "loss: 3.079846 [20000/40000]\n",
            "Validation Error: \n",
            " Validation accuracy: 19.3%, Validation loss: 3.597466 \n",
            "\n",
            "\n",
            "Epoch 13\n",
            "----------------------------\n",
            "loss: 3.274828 [    0/40000]\n",
            "loss: 2.869847 [20000/40000]\n",
            "Validation Error: \n",
            " Validation accuracy: 19.7%, Validation loss: 3.600259 \n",
            "\n",
            "\n",
            "Epoch 14\n",
            "----------------------------\n",
            "loss: 3.154560 [    0/40000]\n",
            "loss: 3.250113 [20000/40000]\n",
            "Validation Error: \n",
            " Validation accuracy: 19.6%, Validation loss: 3.601405 \n",
            "\n",
            "\n",
            "Epoch 15\n",
            "----------------------------\n",
            "loss: 3.322796 [    0/40000]\n",
            "loss: 3.201309 [20000/40000]\n",
            "Validation Error: \n",
            " Validation accuracy: 19.3%, Validation loss: 3.606636 \n",
            "\n",
            "\n",
            "Epoch 16\n",
            "----------------------------\n",
            "loss: 3.031672 [    0/40000]\n",
            "loss: 3.217175 [20000/40000]\n",
            "Validation Error: \n",
            " Validation accuracy: 19.4%, Validation loss: 3.611506 \n",
            "\n",
            "\n",
            "Epoch 17\n",
            "----------------------------\n",
            "loss: 2.952695 [    0/40000]\n",
            "loss: 2.945268 [20000/40000]\n",
            "Validation Error: \n",
            " Validation accuracy: 19.4%, Validation loss: 3.615971 \n",
            "\n",
            "\n",
            "Epoch 18\n",
            "----------------------------\n",
            "loss: 3.160790 [    0/40000]\n",
            "loss: 3.244292 [20000/40000]\n",
            "Validation Error: \n",
            " Validation accuracy: 19.3%, Validation loss: 3.618843 \n",
            "\n",
            "\n",
            "Epoch 19\n",
            "----------------------------\n",
            "loss: 3.111983 [    0/40000]\n",
            "loss: 3.080369 [20000/40000]\n",
            "Validation Error: \n",
            " Validation accuracy: 19.1%, Validation loss: 3.622975 \n",
            "\n",
            "\n",
            "Epoch 20\n",
            "----------------------------\n",
            "loss: 3.098103 [    0/40000]\n",
            "loss: 3.256855 [20000/40000]\n",
            "Validation Error: \n",
            " Validation accuracy: 19.1%, Validation loss: 3.627121 \n",
            "\n"
          ]
        }
      ]
    },
    {
      "cell_type": "code",
      "metadata": {
        "id": "BlfYcym7yikJ",
        "outputId": "93ce3f49-a31d-4571-a777-e5d3df4bd589",
        "colab": {
          "base_uri": "https://localhost:8080/",
          "height": 530
        }
      },
      "source": [
        "plt.figure(figsize=(15,8))\n",
        "plt.title(f\"Train and Validation Loss for {model_500.name}\")\n",
        "plt.plot(val_loss, label=\"val_loss\")\n",
        "plt.plot(train_loss, label=\"train_loss\")\n",
        "plt.xlabel(\"Epochs\")\n",
        "plt.ylabel(\"Loss\")\n",
        "plt.legend()\n",
        "plt.show"
      ],
      "execution_count": 19,
      "outputs": [
        {
          "output_type": "execute_result",
          "data": {
            "text/plain": [
              "<function matplotlib.pyplot.show>"
            ]
          },
          "metadata": {},
          "execution_count": 19
        },
        {
          "output_type": "display_data",
          "data": {
            "image/png": "[encoded data removed]",
            "text/plain": [
              "<Figure size 1080x576 with 1 Axes>"
            ]
          },
          "metadata": {
            "needs_background": "light"
          }
        }
      ]
    },
    {
      "cell_type": "code",
      "metadata": {
        "id": "uar6r7YzyuCe",
        "outputId": "ce0beed3-fa83-4323-9003-7cb2a1d79a12",
        "colab": {
          "base_uri": "https://localhost:8080/",
          "height": 530
        }
      },
      "source": [
        "plt.figure(figsize=(15,8))\n",
        "plt.title(f\"Train and Validation Accuracy for {model_500.name}\")\n",
        "plt.plot(val_accuracy, label=\"val_accuracy\")\n",
        "plt.plot(train_accuracy, label=\"train_accuracy\")\n",
        "plt.xlabel(\"Epochs\")\n",
        "plt.ylabel(\"Accuracy\")\n",
        "plt.legend()\n",
        "plt.show"
      ],
      "execution_count": 20,
      "outputs": [
        {
          "output_type": "execute_result",
          "data": {
            "text/plain": [
              "<function matplotlib.pyplot.show>"
            ]
          },
          "metadata": {},
          "execution_count": 20
        },
        {
          "output_type": "display_data",
          "data": {
            "image/png": "[encoded data removed]",
            "text/plain": [
              "<Figure size 1080x576 with 1 Axes>"
            ]
          },
          "metadata": {
            "needs_background": "light"
          }
        }
      ]
    },
    {
      "cell_type": "code",
      "metadata": {
        "id": "EARFi7nyCjOP",
        "colab": {
          "base_uri": "https://localhost:8080/"
        },
        "outputId": "857b402d-f0ec-41cb-faa3-aa56722e8693"
      },
      "source": [
        "train_loss, train_accuracy, val_loss, val_accuracy = training_loop(n_epochs, model_1000, train_dataloader, valid_dataloader,\n",
        "              batch_size, loss_fn, optimizer_1000, scheduler=scheduler_1000, early_stopping=False, patience=10)"
      ],
      "execution_count": 21,
      "outputs": [
        {
          "output_type": "stream",
          "name": "stdout",
          "text": [
            "\n",
            "Epoch 1\n",
            "----------------------------\n",
            "loss: 4.608328 [    0/40000]\n",
            "loss: 3.828157 [20000/40000]\n",
            "Validation Error: \n",
            " Validation accuracy: 15.6%, Validation loss: 3.748159 \n",
            "\n",
            "\n",
            "Epoch 2\n",
            "----------------------------\n",
            "loss: 3.775572 [    0/40000]\n",
            "loss: 3.830252 [20000/40000]\n",
            "Validation Error: \n",
            " Validation accuracy: 16.7%, Validation loss: 3.690366 \n",
            "\n",
            "\n",
            "Epoch 3\n",
            "----------------------------\n",
            "loss: 3.626100 [    0/40000]\n",
            "loss: 3.608255 [20000/40000]\n",
            "Validation Error: \n",
            " Validation accuracy: 17.3%, Validation loss: 3.677595 \n",
            "\n",
            "\n",
            "Epoch 4\n",
            "----------------------------\n",
            "loss: 3.485530 [    0/40000]\n",
            "loss: 3.792225 [20000/40000]\n",
            "Validation Error: \n",
            " Validation accuracy: 17.6%, Validation loss: 3.655788 \n",
            "\n",
            "\n",
            "Epoch 5\n",
            "----------------------------\n",
            "loss: 3.451206 [    0/40000]\n",
            "loss: 3.409598 [20000/40000]\n",
            "Validation Error: \n",
            " Validation accuracy: 17.5%, Validation loss: 3.667684 \n",
            "\n",
            "\n",
            "Epoch 6\n",
            "----------------------------\n",
            "loss: 3.325708 [    0/40000]\n",
            "loss: 3.674076 [20000/40000]\n",
            "Validation Error: \n",
            " Validation accuracy: 18.3%, Validation loss: 3.656944 \n",
            "\n",
            "\n",
            "Epoch 7\n",
            "----------------------------\n",
            "loss: 3.457046 [    0/40000]\n",
            "loss: 3.817948 [20000/40000]\n",
            "Validation Error: \n",
            " Validation accuracy: 17.9%, Validation loss: 3.658518 \n",
            "\n",
            "\n",
            "Epoch 8\n",
            "----------------------------\n",
            "loss: 3.351419 [    0/40000]\n",
            "loss: 3.439463 [20000/40000]\n",
            "Validation Error: \n",
            " Validation accuracy: 17.3%, Validation loss: 3.675243 \n",
            "\n",
            "\n",
            "Epoch 9\n",
            "----------------------------\n",
            "loss: 3.334165 [    0/40000]\n",
            "loss: 3.369282 [20000/40000]\n",
            "Validation Error: \n",
            " Validation accuracy: 17.6%, Validation loss: 3.704675 \n",
            "\n",
            "\n",
            "Epoch 10\n",
            "----------------------------\n",
            "loss: 3.100477 [    0/40000]\n",
            "loss: 3.453064 [20000/40000]\n",
            "Validation Error: \n",
            " Validation accuracy: 17.3%, Validation loss: 3.686999 \n",
            "\n",
            "\n",
            "Epoch 11\n",
            "----------------------------\n",
            "loss: 3.224478 [    0/40000]\n",
            "loss: 3.198391 [20000/40000]\n",
            "Validation Error: \n",
            " Validation accuracy: 19.5%, Validation loss: 3.606573 \n",
            "\n",
            "\n",
            "Epoch 12\n",
            "----------------------------\n",
            "loss: 3.131485 [    0/40000]\n",
            "loss: 3.083644 [20000/40000]\n",
            "Validation Error: \n",
            " Validation accuracy: 19.6%, Validation loss: 3.605613 \n",
            "\n",
            "\n",
            "Epoch 13\n",
            "----------------------------\n",
            "loss: 3.179717 [    0/40000]\n",
            "loss: 3.247937 [20000/40000]\n",
            "Validation Error: \n",
            " Validation accuracy: 19.4%, Validation loss: 3.611747 \n",
            "\n",
            "\n",
            "Epoch 14\n",
            "----------------------------\n",
            "loss: 2.969876 [    0/40000]\n",
            "loss: 2.903516 [20000/40000]\n",
            "Validation Error: \n",
            " Validation accuracy: 19.5%, Validation loss: 3.614627 \n",
            "\n",
            "\n",
            "Epoch 15\n",
            "----------------------------\n",
            "loss: 2.973532 [    0/40000]\n",
            "loss: 3.225786 [20000/40000]\n",
            "Validation Error: \n",
            " Validation accuracy: 19.2%, Validation loss: 3.621520 \n",
            "\n",
            "\n",
            "Epoch 16\n",
            "----------------------------\n",
            "loss: 3.088101 [    0/40000]\n",
            "loss: 3.061435 [20000/40000]\n",
            "Validation Error: \n",
            " Validation accuracy: 19.2%, Validation loss: 3.626861 \n",
            "\n",
            "\n",
            "Epoch 17\n",
            "----------------------------\n",
            "loss: 3.031293 [    0/40000]\n",
            "loss: 3.088631 [20000/40000]\n",
            "Validation Error: \n",
            " Validation accuracy: 19.3%, Validation loss: 3.629644 \n",
            "\n",
            "\n",
            "Epoch 18\n",
            "----------------------------\n",
            "loss: 2.884533 [    0/40000]\n",
            "loss: 3.216259 [20000/40000]\n",
            "Validation Error: \n",
            " Validation accuracy: 19.3%, Validation loss: 3.632386 \n",
            "\n",
            "\n",
            "Epoch 19\n",
            "----------------------------\n",
            "loss: 2.791966 [    0/40000]\n",
            "loss: 3.097865 [20000/40000]\n",
            "Validation Error: \n",
            " Validation accuracy: 19.0%, Validation loss: 3.639278 \n",
            "\n",
            "\n",
            "Epoch 20\n",
            "----------------------------\n",
            "loss: 3.092732 [    0/40000]\n",
            "loss: 3.007467 [20000/40000]\n",
            "Validation Error: \n",
            " Validation accuracy: 19.2%, Validation loss: 3.642632 \n",
            "\n"
          ]
        }
      ]
    },
    {
      "cell_type": "code",
      "metadata": {
        "id": "-AbQwKG9ymXE",
        "outputId": "1c068858-be13-4356-e2c1-eecf7d3f15f2",
        "colab": {
          "base_uri": "https://localhost:8080/",
          "height": 530
        }
      },
      "source": [
        "plt.figure(figsize=(15,8))\n",
        "plt.title(f\"Train and Validation Loss for {model_1000.name}\")\n",
        "plt.plot(val_loss, label=\"val_loss\")\n",
        "plt.plot(train_loss, label=\"train_loss\")\n",
        "plt.xlabel(\"Epochs\")\n",
        "plt.ylabel(\"Loss\")\n",
        "plt.legend()\n",
        "plt.show"
      ],
      "execution_count": 22,
      "outputs": [
        {
          "output_type": "execute_result",
          "data": {
            "text/plain": [
              "<function matplotlib.pyplot.show>"
            ]
          },
          "metadata": {},
          "execution_count": 22
        },
        {
          "output_type": "display_data",
          "data": {
            "image/png": "[encoded data removed]",
            "text/plain": [
              "<Figure size 1080x576 with 1 Axes>"
            ]
          },
          "metadata": {
            "needs_background": "light"
          }
        }
      ]
    },
    {
      "cell_type": "code",
      "metadata": {
        "id": "f2tcC4fkyv69",
        "outputId": "5f173245-2774-4a14-f193-3ad70963f313",
        "colab": {
          "base_uri": "https://localhost:8080/",
          "height": 530
        }
      },
      "source": [
        "plt.figure(figsize=(15,8))\n",
        "plt.title(f\"Train and Validation Accuracy for {model_1000.name}\")\n",
        "plt.plot(val_accuracy, label=\"val_accuracy\")\n",
        "plt.plot(train_accuracy, label=\"train_accuracy\")\n",
        "plt.xlabel(\"Epochs\")\n",
        "plt.ylabel(\"Accuracy\")\n",
        "plt.legend()\n",
        "plt.show"
      ],
      "execution_count": 23,
      "outputs": [
        {
          "output_type": "execute_result",
          "data": {
            "text/plain": [
              "<function matplotlib.pyplot.show>"
            ]
          },
          "metadata": {},
          "execution_count": 23
        },
        {
          "output_type": "display_data",
          "data": {
            "image/png": "[encoded data removed]",
            "text/plain": [
              "<Figure size 1080x576 with 1 Axes>"
            ]
          },
          "metadata": {
            "needs_background": "light"
          }
        }
      ]
    },
    {
      "cell_type": "code",
      "metadata": {
        "id": "CK5Iif5xCjtx",
        "outputId": "2320266b-dadb-4262-bcd3-14923be6c7c0",
        "colab": {
          "base_uri": "https://localhost:8080/"
        }
      },
      "source": [
        "train_loss, train_accuracy, val_loss, val_accuracy = training_loop(n_epochs, model_2000, train_dataloader, valid_dataloader,\n",
        "              batch_size, loss_fn, optimizer_2000, scheduler=scheduler_2000, early_stopping=False, patience=10)"
      ],
      "execution_count": 24,
      "outputs": [
        {
          "output_type": "stream",
          "name": "stdout",
          "text": [
            "\n",
            "Epoch 1\n",
            "----------------------------\n",
            "loss: 4.608624 [    0/40000]\n",
            "loss: 3.935843 [20000/40000]\n",
            "Validation Error: \n",
            " Validation accuracy: 16.4%, Validation loss: 3.718067 \n",
            "\n",
            "\n",
            "Epoch 2\n",
            "----------------------------\n",
            "loss: 3.520815 [    0/40000]\n",
            "loss: 3.630994 [20000/40000]\n",
            "Validation Error: \n",
            " Validation accuracy: 16.5%, Validation loss: 3.692473 \n",
            "\n",
            "\n",
            "Epoch 3\n",
            "----------------------------\n",
            "loss: 3.557657 [    0/40000]\n",
            "loss: 3.478668 [20000/40000]\n",
            "Validation Error: \n",
            " Validation accuracy: 17.5%, Validation loss: 3.671251 \n",
            "\n",
            "\n",
            "Epoch 4\n",
            "----------------------------\n",
            "loss: 3.392010 [    0/40000]\n",
            "loss: 3.462528 [20000/40000]\n",
            "Validation Error: \n",
            " Validation accuracy: 17.9%, Validation loss: 3.653902 \n",
            "\n",
            "\n",
            "Epoch 5\n",
            "----------------------------\n",
            "loss: 3.390486 [    0/40000]\n",
            "loss: 3.361536 [20000/40000]\n",
            "Validation Error: \n",
            " Validation accuracy: 17.6%, Validation loss: 3.683958 \n",
            "\n",
            "\n",
            "Epoch 6\n",
            "----------------------------\n",
            "loss: 3.176496 [    0/40000]\n",
            "loss: 3.653487 [20000/40000]\n",
            "Validation Error: \n",
            " Validation accuracy: 17.8%, Validation loss: 3.662907 \n",
            "\n",
            "\n",
            "Epoch 7\n",
            "----------------------------\n",
            "loss: 3.257102 [    0/40000]\n",
            "loss: 3.346158 [20000/40000]\n",
            "Validation Error: \n",
            " Validation accuracy: 17.6%, Validation loss: 3.673921 \n",
            "\n",
            "\n",
            "Epoch 8\n",
            "----------------------------\n",
            "loss: 3.052073 [    0/40000]\n",
            "loss: 3.339775 [20000/40000]\n",
            "Validation Error: \n",
            " Validation accuracy: 17.1%, Validation loss: 3.707690 \n",
            "\n",
            "\n",
            "Epoch 9\n",
            "----------------------------\n",
            "loss: 3.175102 [    0/40000]\n",
            "loss: 3.369295 [20000/40000]\n",
            "Validation Error: \n",
            " Validation accuracy: 16.7%, Validation loss: 3.731024 \n",
            "\n",
            "\n",
            "Epoch 10\n",
            "----------------------------\n",
            "loss: 3.425801 [    0/40000]\n",
            "loss: 3.445002 [20000/40000]\n",
            "Validation Error: \n",
            " Validation accuracy: 17.4%, Validation loss: 3.725780 \n",
            "\n",
            "\n",
            "Epoch 11\n",
            "----------------------------\n",
            "loss: 3.248900 [    0/40000]\n",
            "loss: 3.189242 [20000/40000]\n",
            "Validation Error: \n",
            " Validation accuracy: 19.4%, Validation loss: 3.628416 \n",
            "\n",
            "\n",
            "Epoch 12\n",
            "----------------------------\n",
            "loss: 2.967652 [    0/40000]\n",
            "loss: 3.032725 [20000/40000]\n",
            "Validation Error: \n",
            " Validation accuracy: 19.3%, Validation loss: 3.625691 \n",
            "\n",
            "\n",
            "Epoch 13\n",
            "----------------------------\n",
            "loss: 3.062815 [    0/40000]\n",
            "loss: 2.995636 [20000/40000]\n",
            "Validation Error: \n",
            " Validation accuracy: 19.6%, Validation loss: 3.628752 \n",
            "\n",
            "\n",
            "Epoch 14\n",
            "----------------------------\n",
            "loss: 3.078973 [    0/40000]\n",
            "loss: 3.131894 [20000/40000]\n",
            "Validation Error: \n",
            " Validation accuracy: 19.2%, Validation loss: 3.636460 \n",
            "\n",
            "\n",
            "Epoch 15\n",
            "----------------------------\n",
            "loss: 2.877170 [    0/40000]\n",
            "loss: 3.008641 [20000/40000]\n",
            "Validation Error: \n",
            " Validation accuracy: 19.2%, Validation loss: 3.644307 \n",
            "\n",
            "\n",
            "Epoch 16\n",
            "----------------------------\n",
            "loss: 3.003607 [    0/40000]\n",
            "loss: 3.181567 [20000/40000]\n",
            "Validation Error: \n",
            " Validation accuracy: 19.3%, Validation loss: 3.646289 \n",
            "\n",
            "\n",
            "Epoch 17\n",
            "----------------------------\n",
            "loss: 2.806489 [    0/40000]\n",
            "loss: 3.139296 [20000/40000]\n",
            "Validation Error: \n",
            " Validation accuracy: 19.2%, Validation loss: 3.648129 \n",
            "\n",
            "\n",
            "Epoch 18\n",
            "----------------------------\n",
            "loss: 3.028011 [    0/40000]\n",
            "loss: 3.171477 [20000/40000]\n",
            "Validation Error: \n",
            " Validation accuracy: 19.0%, Validation loss: 3.659064 \n",
            "\n",
            "\n",
            "Epoch 19\n",
            "----------------------------\n",
            "loss: 3.175250 [    0/40000]\n",
            "loss: 2.886915 [20000/40000]\n",
            "Validation Error: \n",
            " Validation accuracy: 19.1%, Validation loss: 3.663694 \n",
            "\n",
            "\n",
            "Epoch 20\n",
            "----------------------------\n",
            "loss: 3.027334 [    0/40000]\n",
            "loss: 3.023815 [20000/40000]\n",
            "Validation Error: \n",
            " Validation accuracy: 19.0%, Validation loss: 3.668405 \n",
            "\n"
          ]
        }
      ]
    },
    {
      "cell_type": "code",
      "metadata": {
        "id": "dl2pZan3ynvz",
        "outputId": "32edbf8e-10bf-4abc-8999-7d406da4c7bb",
        "colab": {
          "base_uri": "https://localhost:8080/",
          "height": 530
        }
      },
      "source": [
        "plt.figure(figsize=(15,8))\n",
        "plt.title(f\"Train and Validation Loss for {model_2000.name}\")\n",
        "plt.plot(val_loss, label=\"val_loss\")\n",
        "plt.plot(train_loss, label=\"train_loss\")\n",
        "plt.xlabel(\"Epochs\")\n",
        "plt.ylabel(\"Loss\")\n",
        "plt.legend()\n",
        "plt.show"
      ],
      "execution_count": 25,
      "outputs": [
        {
          "output_type": "execute_result",
          "data": {
            "text/plain": [
              "<function matplotlib.pyplot.show>"
            ]
          },
          "metadata": {},
          "execution_count": 25
        },
        {
          "output_type": "display_data",
          "data": {
            "image/png": "[encoded data removed]",
            "text/plain": [
              "<Figure size 1080x576 with 1 Axes>"
            ]
          },
          "metadata": {
            "needs_background": "light"
          }
        }
      ]
    },
    {
      "cell_type": "code",
      "metadata": {
        "id": "KugB_f6Zyz1b",
        "outputId": "c949e292-0e5d-4b00-db37-0751492079d0",
        "colab": {
          "base_uri": "https://localhost:8080/",
          "height": 530
        }
      },
      "source": [
        "plt.figure(figsize=(15,8))\n",
        "plt.title(f\"Train and Validation Accuracy for {model_2000.name}\")\n",
        "plt.plot(val_accuracy, label=\"val_accuracy\")\n",
        "plt.plot(train_accuracy, label=\"train_accuracy\")\n",
        "plt.xlabel(\"Epochs\")\n",
        "plt.ylabel(\"Accuracy\")\n",
        "plt.legend()\n",
        "plt.show"
      ],
      "execution_count": 26,
      "outputs": [
        {
          "output_type": "execute_result",
          "data": {
            "text/plain": [
              "<function matplotlib.pyplot.show>"
            ]
          },
          "metadata": {},
          "execution_count": 26
        },
        {
          "output_type": "display_data",
          "data": {
            "image/png": "[encoded data removed]",
            "text/plain": [
              "<Figure size 1080x576 with 1 Axes>"
            ]
          },
          "metadata": {
            "needs_background": "light"
          }
        }
      ]
    }
  ]
}