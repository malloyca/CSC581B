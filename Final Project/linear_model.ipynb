{
  "nbformat": 4,
  "nbformat_minor": 0,
  "metadata": {
    "colab": {
      "name": "linear_model.ipynb",
      "provenance": [],
      "authorship_tag": "ABX9TyMknVbiVOVxzb0Px5F3Au95",
      "include_colab_link": true
    },
    "kernelspec": {
      "name": "python3",
      "display_name": "Python 3"
    },
    "language_info": {
      "name": "python"
    },
    "accelerator": "GPU"
  },
  "cells": [
    {
      "cell_type": "markdown",
      "metadata": {
        "id": "view-in-github",
        "colab_type": "text"
      },
      "source": [
        "<a href=\"https://colab.research.google.com/github/malloyca/CSC581B/blob/main/Final%20Project/linear_model.ipynb\" target=\"_parent\"><img src=\"https://colab.research.google.com/assets/colab-badge.svg\" alt=\"Open In Colab\"/></a>"
      ]
    },
    {
      "cell_type": "markdown",
      "metadata": {
        "id": "zwLHFQDMPHFV"
      },
      "source": [
        "# CSC581B - Introduction to Deep Learning for Image Classification\n",
        "# Final Project"
      ]
    },
    {
      "cell_type": "code",
      "metadata": {
        "id": "qROMWFFMPGZZ"
      },
      "source": [
        "# imports\n",
        "import torch\n",
        "from torch import nn\n",
        "from torch.utils.data import DataLoader\n",
        "from torchvision import datasets\n",
        "from torchvision.transforms import ToTensor, Lambda, Compose\n",
        "import matplotlib.pyplot as plt"
      ],
      "execution_count": 1,
      "outputs": []
    },
    {
      "cell_type": "markdown",
      "metadata": {
        "id": "9mWOoFAqRy5c"
      },
      "source": [
        "First we need to load the training and test data."
      ]
    },
    {
      "cell_type": "code",
      "metadata": {
        "colab": {
          "base_uri": "https://localhost:8080/",
          "height": 105
        },
        "id": "rfml-mHmP4Z7",
        "outputId": "36f49a3e-693e-4ab1-e0ed-3e1d688f3f19"
      },
      "source": [
        "# Load the training data (CIFAR10 to start)\n",
        "training_data = datasets.CIFAR10(\n",
        "    root = \"data\",\n",
        "    train = True,\n",
        "    download = True,\n",
        "    transform = ToTensor()\n",
        ")\n",
        "\n",
        "# Load the test data\n",
        "test_data = datasets.CIFAR10(\n",
        "    root = \"data\",\n",
        "    train = False,\n",
        "    download = True,\n",
        "    transform = ToTensor()\n",
        ")\n",
        "\n",
        "'''training_data = datasets.FashionMNIST(\n",
        "    root = \"data\",\n",
        "    train = True,\n",
        "    download = True,\n",
        "    transform = ToTensor()\n",
        ")\n",
        "\n",
        "test_data = datasets.FashionMNIST(\n",
        "    root = \"data\",\n",
        "    train = False,\n",
        "    download = True,\n",
        "    transform = ToTensor()\n",
        ")'''"
      ],
      "execution_count": 55,
      "outputs": [
        {
          "output_type": "stream",
          "name": "stdout",
          "text": [
            "Files already downloaded and verified\n",
            "Files already downloaded and verified\n"
          ]
        },
        {
          "output_type": "execute_result",
          "data": {
            "application/vnd.google.colaboratory.intrinsic+json": {
              "type": "string"
            },
            "text/plain": [
              "'training_data = datasets.FashionMNIST(\\n    root = \"data\",\\n    train = True,\\n    download = True,\\n    transform = ToTensor()\\n)\\n\\ntest_data = datasets.FashionMNIST(\\n    root = \"data\",\\n    train = False,\\n    download = True,\\n    transform = ToTensor()\\n)'"
            ]
          },
          "metadata": {},
          "execution_count": 55
        }
      ]
    },
    {
      "cell_type": "code",
      "metadata": {
        "id": "TJgFLmWPQ-rU"
      },
      "source": [
        "batch_size = 64\n",
        "\n",
        "# Create data loaders\n",
        "train_dataloader = DataLoader(training_data, batch_size=batch_size)\n",
        "test_dataloader = DataLoader(test_data, batch_size=batch_size)"
      ],
      "execution_count": 66,
      "outputs": []
    },
    {
      "cell_type": "code",
      "metadata": {
        "colab": {
          "base_uri": "https://localhost:8080/"
        },
        "id": "UoIkbJTtRad9",
        "outputId": "3f81d2b4-e620-4459-8105-5098f02023f1"
      },
      "source": [
        "for X, y in test_dataloader:\n",
        "  print(\"Shape of X [N, C, H, W]: \", X.shape)\n",
        "  print(\"Shape of y: \", y.shape, y.dtype)\n",
        "  break"
      ],
      "execution_count": 67,
      "outputs": [
        {
          "output_type": "stream",
          "name": "stdout",
          "text": [
            "Shape of X [N, C, H, W]:  torch.Size([64, 3, 32, 32])\n",
            "Shape of y:  torch.Size([64]) torch.int64\n"
          ]
        }
      ]
    },
    {
      "cell_type": "markdown",
      "metadata": {
        "id": "qu0Hhp8VR-AG"
      },
      "source": [
        "## Building a first model"
      ]
    },
    {
      "cell_type": "code",
      "metadata": {
        "colab": {
          "base_uri": "https://localhost:8080/"
        },
        "id": "2h9ROBxpRnuq",
        "outputId": "f5d260a6-22eb-4cd5-90b3-6c02a2457eed"
      },
      "source": [
        "device = \"cuda\" if torch.cuda.is_available() else \"cpu\"\n",
        "print(device)"
      ],
      "execution_count": 68,
      "outputs": [
        {
          "output_type": "stream",
          "name": "stdout",
          "text": [
            "cuda\n"
          ]
        }
      ]
    },
    {
      "cell_type": "code",
      "metadata": {
        "colab": {
          "base_uri": "https://localhost:8080/"
        },
        "id": "HvTQcnbXSPHf",
        "outputId": "e58db053-8bb7-4e53-fe77-cc1f1d855c5b"
      },
      "source": [
        "# Define the model\n",
        "class NeuralNet(nn.Module):\n",
        "  def __init__(self):\n",
        "    super(NeuralNet, self).__init__()\n",
        "    self.flatten = nn.Flatten()\n",
        "    self.linear_relu_stack = nn.Sequential(\n",
        "        nn.Linear(32*32*3, 2048),\n",
        "        #nn.ReLU(),\n",
        "        nn.Linear(2048, 2048),\n",
        "        #nn.ReLU(),\n",
        "        nn.Linear(2048, 10)\n",
        "    )\n",
        "\n",
        "  def forward(self, x):\n",
        "    x = self.flatten(x)\n",
        "    logits = self.linear_relu_stack(x)\n",
        "    return logits\n",
        "\n",
        "model = NeuralNet().to(device)\n",
        "print(model)"
      ],
      "execution_count": 69,
      "outputs": [
        {
          "output_type": "stream",
          "name": "stdout",
          "text": [
            "NeuralNet(\n",
            "  (flatten): Flatten(start_dim=1, end_dim=-1)\n",
            "  (linear_relu_stack): Sequential(\n",
            "    (0): Linear(in_features=3072, out_features=2048, bias=True)\n",
            "    (1): Linear(in_features=2048, out_features=2048, bias=True)\n",
            "    (2): Linear(in_features=2048, out_features=10, bias=True)\n",
            "  )\n",
            ")\n"
          ]
        }
      ]
    },
    {
      "cell_type": "code",
      "metadata": {
        "id": "Om2XSgK8TO7i"
      },
      "source": [
        "# Loss function\n",
        "loss_fn = nn.CrossEntropyLoss()\n",
        "\n",
        "# Optimizer\n",
        "optimizer = torch.optim.SGD(model.parameters(), lr=1e-3)"
      ],
      "execution_count": 70,
      "outputs": []
    },
    {
      "cell_type": "code",
      "metadata": {
        "id": "sC6gSZZ9TsEo"
      },
      "source": [
        "# Define training loop function\n",
        "def train(dataloader, model, loss_fn, optimizer):\n",
        "  size = len(dataloader.dataset)\n",
        "  model.train()\n",
        "  for batch, (X, y) in enumerate(dataloader):\n",
        "    X, y = X.to(device), y.to(device)\n",
        "\n",
        "    # Compute prediction error\n",
        "    pred = model(X)\n",
        "    loss = loss_fn(pred, y)\n",
        "\n",
        "    # Backpropagation\n",
        "    optimizer.zero_grad()\n",
        "    loss.backward()\n",
        "    optimizer.step()\n",
        "\n",
        "    if batch % 100 == 0:\n",
        "      loss, current = loss.item(), batch * len(X)\n",
        "      print(f\"loss: {loss:>7f} [{current:>5d}/{size:>5d}]\")"
      ],
      "execution_count": 71,
      "outputs": []
    },
    {
      "cell_type": "code",
      "metadata": {
        "id": "e9joI7v5Ucpm"
      },
      "source": [
        "# Define the test function\n",
        "def test(dataloader, model, loss_fn):\n",
        "  size = len(dataloader.dataset)\n",
        "  num_batches = len(dataloader)\n",
        "  model.eval()\n",
        "  test_loss, correct = 0, 0\n",
        "  with torch.no_grad():\n",
        "    for X, y in dataloader:\n",
        "      X, y = X.to(device), y.to(device)\n",
        "      pred = model(X)\n",
        "      test_loss += loss_fn(pred, y).item()\n",
        "      correct += (pred.argmax(1) == y).type(torch.float).sum().item()\n",
        "  test_loss /= num_batches\n",
        "  correct /= size\n",
        "  print(f\"Test Error: \\n Accuracy: {(100*correct):>0.1f}%, Avg loss: {test_loss:>8f} \\n\")"
      ],
      "execution_count": 72,
      "outputs": []
    },
    {
      "cell_type": "code",
      "metadata": {
        "id": "IPYeNOb1VN65"
      },
      "source": [
        "n_epochs = 5"
      ],
      "execution_count": 73,
      "outputs": []
    },
    {
      "cell_type": "code",
      "metadata": {
        "colab": {
          "base_uri": "https://localhost:8080/"
        },
        "id": "5vYoqMjIVRzF",
        "outputId": "0496de7a-447a-41f0-b236-24537217a8fe"
      },
      "source": [
        "for t in range(n_epochs):\n",
        "  print(f\"Epoch {t+1}\\n----------------------------------------\")\n",
        "  train(train_dataloader, model, loss_fn, optimizer)\n",
        "  test(test_dataloader, model, loss_fn)\n",
        "print(\"Done.\")"
      ],
      "execution_count": 74,
      "outputs": [
        {
          "output_type": "stream",
          "name": "stdout",
          "text": [
            "Epoch 1\n",
            "----------------------------------------\n",
            "loss: 2.319583 [    0/50000]\n",
            "loss: 2.302674 [ 6400/50000]\n",
            "loss: 2.248554 [12800/50000]\n",
            "loss: 2.262769 [19200/50000]\n",
            "loss: 2.213516 [25600/50000]\n",
            "loss: 2.208179 [32000/50000]\n",
            "loss: 2.229230 [38400/50000]\n",
            "loss: 2.172769 [44800/50000]\n",
            "Test Error: \n",
            " Accuracy: 23.9%, Avg loss: 2.165262 \n",
            "\n",
            "Epoch 2\n",
            "----------------------------------------\n",
            "loss: 2.210411 [    0/50000]\n",
            "loss: 2.188001 [ 6400/50000]\n",
            "loss: 2.073062 [12800/50000]\n",
            "loss: 2.177170 [19200/50000]\n",
            "loss: 2.095382 [25600/50000]\n",
            "loss: 2.096824 [32000/50000]\n",
            "loss: 2.177542 [38400/50000]\n",
            "loss: 2.067110 [44800/50000]\n",
            "Test Error: \n",
            " Accuracy: 27.3%, Avg loss: 2.072367 \n",
            "\n",
            "Epoch 3\n",
            "----------------------------------------\n",
            "loss: 2.134713 [    0/50000]\n",
            "loss: 2.109297 [ 6400/50000]\n",
            "loss: 1.949307 [12800/50000]\n",
            "loss: 2.113304 [19200/50000]\n",
            "loss: 2.032635 [25600/50000]\n",
            "loss: 2.027601 [32000/50000]\n",
            "loss: 2.148042 [38400/50000]\n",
            "loss: 2.002616 [44800/50000]\n",
            "Test Error: \n",
            " Accuracy: 29.7%, Avg loss: 2.012936 \n",
            "\n",
            "Epoch 4\n",
            "----------------------------------------\n",
            "loss: 2.083913 [    0/50000]\n",
            "loss: 2.059567 [ 6400/50000]\n",
            "loss: 1.864666 [12800/50000]\n",
            "loss: 2.065348 [19200/50000]\n",
            "loss: 2.004943 [25600/50000]\n",
            "loss: 1.988100 [32000/50000]\n",
            "loss: 2.120086 [38400/50000]\n",
            "loss: 1.962400 [44800/50000]\n",
            "Test Error: \n",
            " Accuracy: 31.0%, Avg loss: 1.972357 \n",
            "\n",
            "Epoch 5\n",
            "----------------------------------------\n",
            "loss: 2.044412 [    0/50000]\n",
            "loss: 2.025890 [ 6400/50000]\n",
            "loss: 1.804070 [12800/50000]\n",
            "loss: 2.027849 [19200/50000]\n",
            "loss: 1.992925 [25600/50000]\n",
            "loss: 1.964648 [32000/50000]\n",
            "loss: 2.092502 [38400/50000]\n",
            "loss: 1.934311 [44800/50000]\n",
            "Test Error: \n",
            " Accuracy: 31.8%, Avg loss: 1.942776 \n",
            "\n",
            "Done.\n"
          ]
        }
      ]
    },
    {
      "cell_type": "code",
      "metadata": {
        "id": "3KPEUC45VjB-"
      },
      "source": [
        "# Save the model\n",
        "torch.save(model.state_dict(), \"linear_model.pth\")"
      ],
      "execution_count": 75,
      "outputs": []
    },
    {
      "cell_type": "code",
      "metadata": {
        "id": "262-Gta2aIUD"
      },
      "source": [
        ""
      ],
      "execution_count": null,
      "outputs": []
    }
  ]
}