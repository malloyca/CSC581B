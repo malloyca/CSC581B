{
  "nbformat": 4,
  "nbformat_minor": 0,
  "metadata": {
    "colab": {
      "name": "small_convnet.ipynb",
      "provenance": [],
      "authorship_tag": "ABX9TyPuSwJMzOHpHOgT2G5HqhPM",
      "include_colab_link": true
    },
    "kernelspec": {
      "name": "python3",
      "display_name": "Python 3"
    },
    "language_info": {
      "name": "python"
    },
    "accelerator": "GPU"
  },
  "cells": [
    {
      "cell_type": "markdown",
      "metadata": {
        "id": "view-in-github",
        "colab_type": "text"
      },
      "source": [
        "<a href=\"https://colab.research.google.com/github/malloyca/CSC581B/blob/main/Final%20Project/small_convnet.ipynb\" target=\"_parent\"><img src=\"https://colab.research.google.com/assets/colab-badge.svg\" alt=\"Open In Colab\"/></a>"
      ]
    },
    {
      "cell_type": "markdown",
      "metadata": {
        "id": "9PEXOKNd_15u"
      },
      "source": [
        "# Notes\n",
        "\n",
        "- Complete trial with eight layer model\n",
        "- Add batch normalization\n",
        "- Add more feedback to early stopping\n",
        "  - accuracy and loss for that epoch\n",
        "- Ideas for improving the performance"
      ]
    },
    {
      "cell_type": "code",
      "metadata": {
        "id": "NI3XLmYiD-UJ"
      },
      "source": [
        "# imports\n",
        "import torch\n",
        "from torch import nn\n",
        "from torch.utils.data import DataLoader, SubsetRandomSampler\n",
        "from torchvision.datasets import CIFAR100\n",
        "from torchvision import transforms\n",
        "from sklearn.model_selection import train_test_split\n",
        "import matplotlib.pyplot as plt\n",
        "import copy\n",
        "import numpy as np\n",
        "import random\n"
      ],
      "execution_count": 808,
      "outputs": []
    },
    {
      "cell_type": "markdown",
      "metadata": {
        "id": "EA_RvpFUR5tN"
      },
      "source": [
        "This cell sets up the data augmentation methods."
      ]
    },
    {
      "cell_type": "code",
      "metadata": {
        "id": "RRfG8ELjN_qA"
      },
      "source": [
        "data_augmentation_transform = transforms.Compose([\n",
        "  transforms.RandomHorizontalFlip(p=0.5),\n",
        "  transforms.RandomRotation(degrees=30),\n",
        "  transforms.RandomCrop(32, padding=2),\n",
        "  transforms.ColorJitter(brightness=0.25, contrast=0.5, saturation=0.25, hue = 0.15),\n",
        "  transforms.RandomGrayscale(p=0.2),\n",
        "  transforms.ToTensor(),\n",
        "  transforms.Normalize(\n",
        "      mean = [0.5071, 0.4867, 0.4408],\n",
        "      std = [0.2675, 0.2565, 0.2761]\n",
        "  ),\n",
        "  transforms.RandomErasing(p=.35),\n",
        "])"
      ],
      "execution_count": 809,
      "outputs": []
    },
    {
      "cell_type": "code",
      "metadata": {
        "id": "pZn5fsDvPkXt"
      },
      "source": [
        "normalize_transform = transforms.Compose([\n",
        "  transforms.ToTensor(),\n",
        "  transforms.Normalize(\n",
        "      mean = [0.5071, 0.4867, 0.4408],\n",
        "      std = [0.2675, 0.2565, 0.2761]\n",
        "  )\n",
        "])"
      ],
      "execution_count": 810,
      "outputs": []
    },
    {
      "cell_type": "code",
      "metadata": {
        "colab": {
          "base_uri": "https://localhost:8080/"
        },
        "id": "BuXW8boJEcrA",
        "outputId": "389fec91-a8d3-46f9-edbe-099e38936d12"
      },
      "source": [
        "# Load the training data (CIFAR10 to start)\n",
        "training_data = CIFAR100(\n",
        "    root = \"data\",\n",
        "    train = True,\n",
        "    download = True,\n",
        "    transform = data_augmentation_transform,\n",
        "    #transform = normalize_transform,\n",
        ")\n",
        "\n",
        "# this is necessary to prevent the data augmentation transforms from being applied to the validation set\n",
        "validation_data = CIFAR100(\n",
        "    root = \"data\",\n",
        "    train = True,\n",
        "    download = True,\n",
        "    transform = normalize_transform,\n",
        ")\n",
        "\n",
        "# Load the test data\n",
        "test_data = CIFAR100(\n",
        "    root = \"data\",\n",
        "    train = False,\n",
        "    download = True,\n",
        "    transform = transforms.ToTensor()\n",
        ")"
      ],
      "execution_count": 811,
      "outputs": [
        {
          "output_type": "stream",
          "name": "stdout",
          "text": [
            "Files already downloaded and verified\n",
            "Files already downloaded and verified\n",
            "Files already downloaded and verified\n"
          ]
        }
      ]
    },
    {
      "cell_type": "code",
      "metadata": {
        "id": "YyVJ8ne8xjKt"
      },
      "source": [
        "training_targets = training_data.targets"
      ],
      "execution_count": 812,
      "outputs": []
    },
    {
      "cell_type": "code",
      "metadata": {
        "id": "mMQ119G7xmDK"
      },
      "source": [
        "train_split_index, valid_split_index = train_test_split(\n",
        "    np.arange(len(training_targets)), test_size=0.2, stratify=training_targets\n",
        ")"
      ],
      "execution_count": 813,
      "outputs": []
    },
    {
      "cell_type": "code",
      "metadata": {
        "id": "BZ2dy9pmEwz6"
      },
      "source": [
        "batch_size = 100\n",
        "\n",
        "# Create data loaders\n",
        "train_dataloader = DataLoader(training_data, batch_size=batch_size,\n",
        "                              sampler=SubsetRandomSampler(train_split_index))\n",
        "valid_dataloader = DataLoader(validation_data, batch_size=batch_size,\n",
        "                              sampler=SubsetRandomSampler(valid_split_index))\n",
        "test_dataloader = DataLoader(test_data, batch_size=batch_size)"
      ],
      "execution_count": 814,
      "outputs": []
    },
    {
      "cell_type": "code",
      "metadata": {
        "colab": {
          "base_uri": "https://localhost:8080/"
        },
        "id": "mE6plIy9E2D_",
        "outputId": "2183cf00-903d-44ff-9b3b-4fa68177f3a5"
      },
      "source": [
        "# Check that it is splitting the data properly\n",
        "train_length = 0\n",
        "for _, y in train_dataloader:\n",
        "  train_length += len(y)\n",
        "print(f\"Length of training split: {train_length}\")\n",
        "\n",
        "valid_length = 0\n",
        "for _, y in valid_dataloader:\n",
        "  valid_length += len(y)\n",
        "print(f\"Length of validation split: {valid_length}\")\n",
        "\n",
        "test_length = 0\n",
        "for _, y in test_dataloader:\n",
        "  test_length += len(y)\n",
        "print(f\"Length of test split: {test_length}\")"
      ],
      "execution_count": 815,
      "outputs": [
        {
          "output_type": "stream",
          "name": "stdout",
          "text": [
            "Length of training split: 40000\n",
            "Length of validation split: 10000\n",
            "Length of test split: 10000\n"
          ]
        }
      ]
    },
    {
      "cell_type": "code",
      "metadata": {
        "colab": {
          "base_uri": "https://localhost:8080/"
        },
        "id": "QG4cwo9Ox9-Z",
        "outputId": "024bf8e1-b2fd-4b5a-9fb6-8330064e78fe"
      },
      "source": [
        "# Check that there are 100 instances of a random class in the validation set\n",
        "count = 0\n",
        "test_class = random.randint(0,99)\n",
        "for _, y in valid_dataloader:\n",
        "  for target in y:\n",
        "    if int(target.numpy()) == test_class:\n",
        "      count += 1\n",
        "\n",
        "print(count)"
      ],
      "execution_count": 816,
      "outputs": [
        {
          "output_type": "stream",
          "name": "stdout",
          "text": [
            "100\n"
          ]
        }
      ]
    },
    {
      "cell_type": "markdown",
      "metadata": {
        "id": "PGQGFOcoFAeO"
      },
      "source": [
        "# Building basic convolutional neural nets"
      ]
    },
    {
      "cell_type": "code",
      "metadata": {
        "colab": {
          "base_uri": "https://localhost:8080/"
        },
        "id": "tuGLhBqQE_xI",
        "outputId": "e755bd86-1a94-4e17-8a2c-ed9fe2f58733"
      },
      "source": [
        "device = \"cuda\" if torch.cuda.is_available() else \"cpu\"\n",
        "print(device)"
      ],
      "execution_count": 817,
      "outputs": [
        {
          "output_type": "stream",
          "name": "stdout",
          "text": [
            "cuda\n"
          ]
        }
      ]
    },
    {
      "cell_type": "code",
      "metadata": {
        "id": "0H5TNXTJE4Nd"
      },
      "source": [
        "# Define the model\n",
        "class basicConvNet(nn.Module):\n",
        "  def __init__(self, name):\n",
        "    super(basicConvNet, self).__init__()\n",
        "    self.name = name\n",
        "    self.basic_conv_net = nn.Sequential(\n",
        "        # 1st layer\n",
        "        nn.Conv2d(3, 50, (3,3), padding='same'),\n",
        "        #nn.BatchNorm2d(50),\n",
        "        nn.ReLU(),\n",
        "        #nn.Dropout2d(p=0.1),\n",
        "        \n",
        "        # 2nd layer\n",
        "        nn.Conv2d(50, 75, (3,3), padding='same'),\n",
        "        #nn.BatchNorm2d(75),\n",
        "        nn.ReLU(),\n",
        "        #nn.Dropout2d(p=0.1),\n",
        "        nn.MaxPool2d(2),\n",
        "        \n",
        "        # 3rd layer - 16x16\n",
        "        nn.Conv2d(75, 100, (3,3), padding='same'),\n",
        "        #nn.BatchNorm2d(100),\n",
        "        nn.ReLU(),\n",
        "        #nn.Dropout2d(p=0.1),\n",
        "        \n",
        "        # 4th layer\n",
        "        nn.Conv2d(100, 150, (3,3), padding='same'),\n",
        "        #nn.BatchNorm2d(150),\n",
        "        nn.ReLU(),\n",
        "        #nn.Dropout2d(p=0.1),\n",
        "        nn.MaxPool2d(2),\n",
        "        \n",
        "        # 5th layer - 8x8\n",
        "        nn.Conv2d(150, 200, (3,3), padding='same'),\n",
        "        #nn.BatchNorm2d(200),\n",
        "        nn.ReLU(),\n",
        "        #nn.Dropout2d(p=0.1),\n",
        "        \n",
        "        # 6th layer\n",
        "        nn.Conv2d(200, 250, (3,3), padding='same'),\n",
        "        #nn.BatchNorm2d(250),\n",
        "        nn.ReLU(),\n",
        "        #nn.Dropout2d(p=0.1),\n",
        "        nn.MaxPool2d(2),\n",
        "        \n",
        "        # 7th layer - 4x4\n",
        "        nn.Flatten(),\n",
        "        nn.Linear(250*4*4, 1000),\n",
        "        nn.ReLU(),\n",
        "        #nn.Dropout(p=0.2),\n",
        "        \n",
        "        # 8th layer\n",
        "        nn.Linear(1000, 500),\n",
        "        nn.ReLU(),\n",
        "        #nn.Dropout(p=0.2),\n",
        "        nn.Linear(500, 100)\n",
        "    )\n",
        "\n",
        "\n",
        "  # Forward propagation\n",
        "  def forward(self, x):\n",
        "    x = self.basic_conv_net(x)\n",
        "    #x = self.flatten(x)\n",
        "    #x = self.output(x)\n",
        "    return x\n",
        "      "
      ],
      "execution_count": 818,
      "outputs": []
    },
    {
      "cell_type": "code",
      "metadata": {
        "id": "5rlWHC2OdR3e"
      },
      "source": [
        "# Define the model\n",
        "class basicConvNet(nn.Module):\n",
        "  def __init__(self, name):\n",
        "    super(basicConvNet, self).__init__()\n",
        "    self.name = name\n",
        "    self.basic_conv_net = nn.Sequential(\n",
        "        # 1st layer\n",
        "        nn.Conv2d(3, 100, (3,3), padding='same'),\n",
        "        #nn.BatchNorm2d(50),\n",
        "        nn.ReLU(),\n",
        "        #nn.Dropout2d(p=0.1),\n",
        "        \n",
        "        # 2nd layer\n",
        "        nn.Conv2d(100, 150, (3,3), padding='same'),\n",
        "        #nn.BatchNorm2d(75),\n",
        "        nn.ReLU(),\n",
        "        #nn.Dropout2d(p=0.1),\n",
        "        nn.MaxPool2d(2),\n",
        "        \n",
        "        # 3rd layer - 16x16\n",
        "        nn.Conv2d(150, 200, (3,3), padding='same'),\n",
        "        #nn.BatchNorm2d(100),\n",
        "        nn.ReLU(),\n",
        "        #nn.Dropout2d(p=0.1),\n",
        "        \n",
        "        # 4th layer\n",
        "        nn.Conv2d(200, 250, (3,3), padding='same'),\n",
        "        #nn.BatchNorm2d(150),\n",
        "        nn.ReLU(),\n",
        "        #nn.Dropout2d(p=0.1),\n",
        "        nn.MaxPool2d(2),\n",
        "        \n",
        "        # 5th layer - 8x8\n",
        "        nn.Conv2d(250, 300, (3,3), padding='same'),\n",
        "        #nn.BatchNorm2d(200),\n",
        "        nn.ReLU(),\n",
        "        #nn.Dropout2d(p=0.1),\n",
        "        \n",
        "        # 6th layer\n",
        "        nn.Conv2d(300, 400, (3,3), padding='same'),\n",
        "        #nn.BatchNorm2d(250),\n",
        "        nn.ReLU(),\n",
        "        #nn.Dropout2d(p=0.1),\n",
        "        nn.MaxPool2d(2),\n",
        "        \n",
        "        # 7th layer - 4x4\n",
        "        nn.Flatten(),\n",
        "        nn.Linear(400*4*4, 1000),\n",
        "        nn.ReLU(),\n",
        "        #nn.Dropout(p=0.2),\n",
        "        \n",
        "        # 8th layer\n",
        "        nn.Linear(1000, 500),\n",
        "        nn.ReLU(),\n",
        "        #nn.Dropout(p=0.2),\n",
        "        nn.Linear(500, 100)\n",
        "    )\n",
        "\n",
        "\n",
        "  # Forward propagation\n",
        "  def forward(self, x):\n",
        "    x = self.basic_conv_net(x)\n",
        "    #x = self.flatten(x)\n",
        "    #x = self.output(x)\n",
        "    return x\n",
        "      "
      ],
      "execution_count": 819,
      "outputs": []
    },
    {
      "cell_type": "code",
      "metadata": {
        "id": "6F10JyiGceOB"
      },
      "source": [
        "# This is the current winner for best performing architecture\n",
        "\n",
        "# Define the model\n",
        "class basicConvNet(nn.Module):\n",
        "  def __init__(self, name, dropout_conv=0.1, dropout_linear=0.2):\n",
        "    super(basicConvNet, self).__init__()\n",
        "    self.name = name\n",
        "    self.basic_conv_net = nn.Sequential(\n",
        "        # 1st layer\n",
        "        nn.Conv2d(3, 50, (3,3), padding='same'),\n",
        "        nn.BatchNorm2d(50),\n",
        "        nn.ReLU(),\n",
        "        nn.Dropout2d(p=dropout_conv),\n",
        "        \n",
        "        # 2nd layer\n",
        "        nn.Conv2d(50, 100, (3,3), padding='same'),\n",
        "        nn.BatchNorm2d(100),\n",
        "        nn.ReLU(),\n",
        "        nn.Dropout2d(p=dropout_conv),\n",
        "        nn.MaxPool2d(2),\n",
        "        \n",
        "        # 3rd layer - 16x16\n",
        "        nn.Conv2d(100, 150, (3,3), padding='same'),\n",
        "        nn.BatchNorm2d(150),\n",
        "        nn.ReLU(),\n",
        "        nn.Dropout2d(p=dropout_conv),\n",
        "        \n",
        "        # 4th layer\n",
        "        nn.Conv2d(150, 200, (3,3), padding='same'),\n",
        "        nn.BatchNorm2d(200),\n",
        "        nn.ReLU(),\n",
        "        nn.Dropout2d(p=dropout_conv),\n",
        "        nn.MaxPool2d(2),\n",
        "        \n",
        "        # 5th layer - 8x8\n",
        "        nn.Conv2d(200, 300, (3,3), padding='same'),\n",
        "        nn.BatchNorm2d(300),\n",
        "        nn.ReLU(),\n",
        "        nn.Dropout2d(p=dropout_conv),\n",
        "        \n",
        "        # 6th layer\n",
        "        nn.Conv2d(300, 400, (3,3), padding='same'),\n",
        "        nn.BatchNorm2d(400),\n",
        "        nn.ReLU(),\n",
        "        nn.Dropout2d(p=dropout_conv),\n",
        "        nn.MaxPool2d(2),\n",
        "        \n",
        "        # 7th layer - 4x4\n",
        "        nn.Flatten(),\n",
        "        nn.Linear(400*4*4, 1000),\n",
        "        nn.ReLU(),\n",
        "        nn.Dropout(p=dropout_linear),\n",
        "        \n",
        "        # 8th layer\n",
        "        nn.Linear(1000, 500),\n",
        "        nn.ReLU(),\n",
        "        nn.Dropout(p=dropout_linear),\n",
        "        nn.Linear(500, 100)\n",
        "    )\n",
        "\n",
        "\n",
        "  # Forward propagation\n",
        "  def forward(self, x):\n",
        "    x = self.basic_conv_net(x)\n",
        "    #x = self.flatten(x)\n",
        "    #x = self.output(x)\n",
        "    return x\n",
        "      "
      ],
      "execution_count": 820,
      "outputs": []
    },
    {
      "cell_type": "code",
      "metadata": {
        "id": "rQGk95EKWan5"
      },
      "source": [
        "# Training loop\n",
        "def train(dataloader, batch_size, model, loss_fn, optimizer):\n",
        "  num_batches = len(dataloader)\n",
        "  size = num_batches * batch_size\n",
        "  model.train()\n",
        "  for batch, (X, y) in enumerate(dataloader):\n",
        "    X, y = X.to(device), y.to(device)\n",
        "\n",
        "    # Compute prediction error\n",
        "    pred = model(X)\n",
        "    loss = loss_fn(pred, y)\n",
        "\n",
        "    # Backprop\n",
        "    optimizer.zero_grad()\n",
        "    loss.backward()\n",
        "    optimizer.step()\n",
        "\n",
        "    if batch % 100 == 0:\n",
        "      loss, current = loss.item(), batch * len(X)\n",
        "      print(f\"loss: {loss:>7f} [{current:>5d}/{size:>5d}]\")"
      ],
      "execution_count": 821,
      "outputs": []
    },
    {
      "cell_type": "code",
      "metadata": {
        "id": "4I_S627HXLWz"
      },
      "source": [
        "# Test function\n",
        "def test(dataloader, model, loss_fn):\n",
        "  size = len(dataloader.dataset)\n",
        "  num_batches = len(dataloader)\n",
        "  model.eval()\n",
        "  test_loss, correct = 0, 0\n",
        "  with torch.no_grad():\n",
        "    for X, y in dataloader:\n",
        "      X, y = X.to(device), y.to(device)\n",
        "      pred = model(X)\n",
        "      test_loss += loss_fn(pred, y).item()\n",
        "      correct += (pred.argmax(1) == y).type(torch.float).sum().item()\n",
        "  test_loss /= num_batches\n",
        "  correct /= size\n",
        "  print(f\"Test Error: \\n Accuracy: {(100*correct):>0.1f}%, Avg loss: {test_loss:>8f} \\n\")\n",
        "  return test_loss"
      ],
      "execution_count": 822,
      "outputs": []
    },
    {
      "cell_type": "code",
      "metadata": {
        "id": "0zYjxXdFgV9z"
      },
      "source": [
        "# Validation function\n",
        "def validation(dataloader, batch_size, model, loss_fn):\n",
        "  num_batches = len(dataloader)\n",
        "  size = num_batches * batch_size\n",
        "  model.eval()\n",
        "  val_loss, num_correct = 0, 0\n",
        "  with torch.no_grad():\n",
        "    for X, y in dataloader:\n",
        "      X, y = X.to(device), y.to(device)\n",
        "      pred = model(X)\n",
        "      val_loss += loss_fn(pred, y).item()\n",
        "      num_correct += (pred.argmax(1) == y).type(torch.float).sum().item()\n",
        "  val_loss /= num_batches\n",
        "  accuracy = num_correct / size\n",
        "  print(f\"Validation Error: \\n Validation accuracy: {(100 * accuracy):>0.1f}%, Validation loss: {val_loss:>8f} \\n\")\n",
        "  return val_loss"
      ],
      "execution_count": 823,
      "outputs": []
    },
    {
      "cell_type": "code",
      "metadata": {
        "id": "uypo30igYE2G"
      },
      "source": [
        "def training_loop(n_epochs, model, train_data, valid_data, batch_size,\n",
        "                  loss_function, optimizer, scheduler=None,\n",
        "                  early_stopping=False, patience=10):\n",
        "  current_epoch = 0\n",
        "  best_epoch = 0\n",
        "  best_loss = float('inf')\n",
        "  patience_counter = 0\n",
        "\n",
        "  for e in range(n_epochs):\n",
        "    print(f\"\\nEpoch {e+1}\\n----------------------------\")\n",
        "    # Iterate epoch counter\n",
        "    current_epoch += 1\n",
        "\n",
        "    train(train_data, batch_size, model, loss_function, optimizer)\n",
        "    val_loss = validation(valid_data, batch_size, model, loss_function)\n",
        "\n",
        "    # Iterate scheduler (this is set up for ReduceLROnPlateau)\n",
        "    if scheduler is not None:\n",
        "      scheduler.step(val_loss)\n",
        "\n",
        "    # If early_stopping check test_loss\n",
        "    if early_stopping:\n",
        "      # case: test loss beats the current best loss\n",
        "      if val_loss < best_loss:\n",
        "        # store loss\n",
        "        best_loss = val_loss\n",
        "\n",
        "        # reset patience counter\n",
        "        patience_counter = 0\n",
        "\n",
        "        # store model and epoch number\n",
        "        print(\"Storing new best model.\")\n",
        "        best_model_state_dict = copy.deepcopy(model.state_dict)\n",
        "        best_epoch = current_epoch\n",
        "\n",
        "      # Case: patience limit not yet reached => iterate patience counter\n",
        "      elif patience_counter < patience - 1:\n",
        "        patience_counter += 1\n",
        "        print(f\"Patience count: {patience_counter}\")\n",
        "\n",
        "      # Case: patience limit reached\n",
        "      else:\n",
        "        print(\"Finished due to early stopping.\")\n",
        "        print(f\"Saving best model: {model.name}_epoch-{best_epoch:03d}\")\n",
        "        torch.save(best_model_state_dict, f'{model.name}_epoch-{best_epoch:03d}')\n",
        "        break\n",
        "\n",
        "  # If we get here, we did not stop early - save best model\n",
        "  if early_stopping:\n",
        "    print(f\"Saving best model: {model.name}_epoch-{best_epoch:03d}\")\n",
        "    torch.save(best_model_state_dict, f'{model.name}_epoch-{best_epoch:03d}')"
      ],
      "execution_count": 824,
      "outputs": []
    },
    {
      "cell_type": "code",
      "metadata": {
        "id": "hfMapknHYDYO"
      },
      "source": [
        "n_epochs = 10"
      ],
      "execution_count": 825,
      "outputs": []
    },
    {
      "cell_type": "code",
      "metadata": {
        "id": "fLQYaHdZTnJK",
        "colab": {
          "base_uri": "https://localhost:8080/"
        },
        "outputId": "1e5839fd-c3ed-48be-efe2-f242669db211"
      },
      "source": [
        "model = basicConvNet(name='eight-layer', dropout_conv=0.1, dropout_linear=0.15).to(device)\n",
        "num_param = sum(p.numel() for p in model.parameters())\n",
        "num_param_trainable = sum(p.numel() for p in model.parameters() if p.requires_grad)\n",
        "print(f\"Total number of parameters: {num_param:,}. \\nNumber of trainable parameters: {num_param_trainable:,}\")"
      ],
      "execution_count": 826,
      "outputs": [
        {
          "output_type": "stream",
          "name": "stdout",
          "text": [
            "Total number of parameters: 9,026,550. \n",
            "Number of trainable parameters: 9,026,550\n"
          ]
        }
      ]
    },
    {
      "cell_type": "code",
      "metadata": {
        "id": "deD1sei_WLmX"
      },
      "source": [
        "# Loss function\n",
        "loss_fn = nn.CrossEntropyLoss()\n",
        "\n",
        "# Optimizer\n",
        "optimizer = torch.optim.Adam(model.parameters(), lr=5e-4)\n",
        "\n",
        "# Scheduler\n",
        "scheduler = torch.optim.lr_scheduler.ReduceLROnPlateau(optimizer=optimizer, mode='min', patience=5)"
      ],
      "execution_count": 827,
      "outputs": []
    },
    {
      "cell_type": "code",
      "metadata": {
        "id": "JxAb2cyfCYXq",
        "colab": {
          "base_uri": "https://localhost:8080/"
        },
        "outputId": "9c02c788-eedb-4d01-8bd1-e9dc2fd9e265"
      },
      "source": [
        "training_loop(n_epochs, model, train_dataloader, valid_dataloader, batch_size,\n",
        "              loss_fn, optimizer, early_stopping=True, patience=10)"
      ],
      "execution_count": 828,
      "outputs": [
        {
          "output_type": "stream",
          "name": "stdout",
          "text": [
            "\n",
            "Epoch 1\n",
            "----------------------------\n",
            "loss: 4.578192 [    0/40000]\n",
            "loss: 4.395377 [10000/40000]\n",
            "loss: 4.364967 [20000/40000]\n",
            "loss: 4.324454 [30000/40000]\n",
            "Validation Error: \n",
            " Validation accuracy: 8.6%, Validation loss: 3.938735 \n",
            "\n",
            "Storing new best model.\n",
            "\n",
            "Epoch 2\n",
            "----------------------------\n",
            "loss: 4.317693 [    0/40000]\n",
            "loss: 4.078455 [10000/40000]\n",
            "loss: 4.254336 [20000/40000]\n",
            "loss: 4.101210 [30000/40000]\n",
            "Validation Error: \n",
            " Validation accuracy: 13.3%, Validation loss: 3.657996 \n",
            "\n",
            "Storing new best model.\n",
            "\n",
            "Epoch 3\n",
            "----------------------------\n",
            "loss: 3.708447 [    0/40000]\n",
            "loss: 3.804767 [10000/40000]\n",
            "loss: 3.933840 [20000/40000]\n",
            "loss: 3.743944 [30000/40000]\n",
            "Validation Error: \n",
            " Validation accuracy: 17.7%, Validation loss: 3.413558 \n",
            "\n",
            "Storing new best model.\n",
            "\n",
            "Epoch 4\n",
            "----------------------------\n",
            "loss: 3.738631 [    0/40000]\n",
            "loss: 3.746750 [10000/40000]\n",
            "loss: 3.611654 [20000/40000]\n",
            "loss: 3.834175 [30000/40000]\n",
            "Validation Error: \n",
            " Validation accuracy: 20.2%, Validation loss: 3.240830 \n",
            "\n",
            "Storing new best model.\n",
            "\n",
            "Epoch 5\n",
            "----------------------------\n",
            "loss: 3.666302 [    0/40000]\n",
            "loss: 3.592736 [10000/40000]\n",
            "loss: 3.445704 [20000/40000]\n",
            "loss: 3.485434 [30000/40000]\n",
            "Validation Error: \n",
            " Validation accuracy: 24.7%, Validation loss: 3.031169 \n",
            "\n",
            "Storing new best model.\n",
            "\n",
            "Epoch 6\n",
            "----------------------------\n",
            "loss: 3.464408 [    0/40000]\n",
            "loss: 3.431415 [10000/40000]\n",
            "loss: 3.398156 [20000/40000]\n",
            "loss: 3.566425 [30000/40000]\n",
            "Validation Error: \n",
            " Validation accuracy: 26.2%, Validation loss: 2.936369 \n",
            "\n",
            "Storing new best model.\n",
            "\n",
            "Epoch 7\n",
            "----------------------------\n",
            "loss: 3.410198 [    0/40000]\n",
            "loss: 3.468139 [10000/40000]\n",
            "loss: 3.414180 [20000/40000]\n",
            "loss: 3.473315 [30000/40000]\n",
            "Validation Error: \n",
            " Validation accuracy: 29.0%, Validation loss: 2.808380 \n",
            "\n",
            "Storing new best model.\n",
            "\n",
            "Epoch 8\n",
            "----------------------------\n",
            "loss: 2.957180 [    0/40000]\n",
            "loss: 3.194953 [10000/40000]\n",
            "loss: 3.182654 [20000/40000]\n",
            "loss: 3.167291 [30000/40000]\n",
            "Validation Error: \n",
            " Validation accuracy: 31.1%, Validation loss: 2.708717 \n",
            "\n",
            "Storing new best model.\n",
            "\n",
            "Epoch 9\n",
            "----------------------------\n",
            "loss: 3.183101 [    0/40000]\n",
            "loss: 3.220715 [10000/40000]\n",
            "loss: 3.314242 [20000/40000]\n",
            "loss: 3.212035 [30000/40000]\n",
            "Validation Error: \n",
            " Validation accuracy: 32.1%, Validation loss: 2.649930 \n",
            "\n",
            "Storing new best model.\n",
            "\n",
            "Epoch 10\n",
            "----------------------------\n",
            "loss: 3.219379 [    0/40000]\n",
            "loss: 2.998345 [10000/40000]\n",
            "loss: 3.028250 [20000/40000]\n",
            "loss: 3.275755 [30000/40000]\n",
            "Validation Error: \n",
            " Validation accuracy: 33.5%, Validation loss: 2.592667 \n",
            "\n",
            "Storing new best model.\n",
            "Saving best model: eight-layer_epoch-010\n"
          ]
        }
      ]
    }
  ]
}