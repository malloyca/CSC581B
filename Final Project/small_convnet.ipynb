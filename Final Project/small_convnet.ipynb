{
  "nbformat": 4,
  "nbformat_minor": 0,
  "metadata": {
    "colab": {
      "name": "small_convnet.ipynb",
      "provenance": [],
      "authorship_tag": "ABX9TyM0b5N+TSst66/VhUqCd06P",
      "include_colab_link": true
    },
    "kernelspec": {
      "name": "python3",
      "display_name": "Python 3"
    },
    "language_info": {
      "name": "python"
    },
    "accelerator": "GPU"
  },
  "cells": [
    {
      "cell_type": "markdown",
      "metadata": {
        "id": "view-in-github",
        "colab_type": "text"
      },
      "source": [
        "<a href=\"https://colab.research.google.com/github/malloyca/CSC581B/blob/main/Final%20Project/small_convnet.ipynb\" target=\"_parent\"><img src=\"https://colab.research.google.com/assets/colab-badge.svg\" alt=\"Open In Colab\"/></a>"
      ]
    },
    {
      "cell_type": "markdown",
      "metadata": {
        "id": "9PEXOKNd_15u"
      },
      "source": [
        "# Notes\n",
        "\n",
        "- Complete trial with eight layer model\n",
        "- Add batch normalization\n",
        "- Add more feedback to early stopping\n",
        "  - accuracy and loss for that epoch\n",
        "- Ideas for improving the performance"
      ]
    },
    {
      "cell_type": "code",
      "metadata": {
        "id": "NI3XLmYiD-UJ"
      },
      "source": [
        "# imports\n",
        "import torch\n",
        "from torch import nn\n",
        "from torch.utils.data import DataLoader, SubsetRandomSampler\n",
        "from torchvision.datasets import CIFAR100\n",
        "from torchvision import transforms\n",
        "from sklearn.model_selection import train_test_split\n",
        "import matplotlib.pyplot as plt\n",
        "import copy\n",
        "import numpy as np\n",
        "import random\n"
      ],
      "execution_count": 90,
      "outputs": []
    },
    {
      "cell_type": "markdown",
      "metadata": {
        "id": "EA_RvpFUR5tN"
      },
      "source": [
        "This cell sets up the data augmentation methods."
      ]
    },
    {
      "cell_type": "code",
      "metadata": {
        "id": "RRfG8ELjN_qA"
      },
      "source": [
        "# data augmentation transforms\n",
        "data_augmentation_transform = transforms.Compose([\n",
        "  transforms.RandomHorizontalFlip(p=0.5),\n",
        "  transforms.RandomRotation(degrees=30),\n",
        "  transforms.RandomCrop(32, padding=2),\n",
        "  transforms.ColorJitter(brightness=0.25, contrast=0.5, saturation=0.25, hue = 0.15),\n",
        "  transforms.RandomGrayscale(p=0.2),\n",
        "  transforms.ToTensor(),\n",
        "  transforms.Normalize(\n",
        "      mean = [0.5071, 0.4867, 0.4408],\n",
        "      std = [0.2675, 0.2565, 0.2761]\n",
        "  ),\n",
        "  transforms.RandomErasing(p=.35),\n",
        "])"
      ],
      "execution_count": 91,
      "outputs": []
    },
    {
      "cell_type": "code",
      "metadata": {
        "id": "pZn5fsDvPkXt"
      },
      "source": [
        "# non-augmentation transform (with data normalization)\n",
        "normalize_transform = transforms.Compose([\n",
        "  transforms.ToTensor(),\n",
        "  transforms.Normalize(\n",
        "      mean = [0.5071, 0.4867, 0.4408],\n",
        "      std = [0.2675, 0.2565, 0.2761]\n",
        "  )\n",
        "])"
      ],
      "execution_count": 92,
      "outputs": []
    },
    {
      "cell_type": "code",
      "metadata": {
        "colab": {
          "base_uri": "https://localhost:8080/"
        },
        "id": "BuXW8boJEcrA",
        "outputId": "4bb49b65-6e07-4847-dbfb-2034cad7d810"
      },
      "source": [
        "# Load the training data (CIFAR10 to start)\n",
        "training_data_with_augmentation = CIFAR100(\n",
        "    root = \"data\",\n",
        "    train = True,\n",
        "    download = True,\n",
        "    transform = data_augmentation_transform,\n",
        ")\n",
        "\n",
        "training_data_without_augmentation = CIFAR100(\n",
        "    root = \"data\",\n",
        "    train = True,\n",
        "    download = True,\n",
        "    transform = normalize_transform,\n",
        ")\n",
        "\n",
        "# this is necessary to prevent the data augmentation transforms from being applied to the validation set\n",
        "validation_data = CIFAR100(\n",
        "    root = \"data\",\n",
        "    train = True,\n",
        "    download = True,\n",
        "    transform = normalize_transform,\n",
        ")\n",
        "\n",
        "# Load the test data\n",
        "test_data = CIFAR100(\n",
        "    root = \"data\",\n",
        "    train = False,\n",
        "    download = True,\n",
        "    transform = transforms.ToTensor()\n",
        ")"
      ],
      "execution_count": 93,
      "outputs": [
        {
          "output_type": "stream",
          "name": "stdout",
          "text": [
            "Files already downloaded and verified\n",
            "Files already downloaded and verified\n",
            "Files already downloaded and verified\n",
            "Files already downloaded and verified\n"
          ]
        }
      ]
    },
    {
      "cell_type": "code",
      "metadata": {
        "id": "YyVJ8ne8xjKt"
      },
      "source": [
        "training_targets = training_data_with_augmentation.targets"
      ],
      "execution_count": 94,
      "outputs": []
    },
    {
      "cell_type": "code",
      "metadata": {
        "id": "mMQ119G7xmDK"
      },
      "source": [
        "train_split_index, valid_split_index = train_test_split(\n",
        "    np.arange(len(training_targets)), test_size=0.2, stratify=training_targets\n",
        ")"
      ],
      "execution_count": 95,
      "outputs": []
    },
    {
      "cell_type": "code",
      "metadata": {
        "id": "BZ2dy9pmEwz6"
      },
      "source": [
        "batch_size = 100\n",
        "\n",
        "# Create data loaders\n",
        "train_augmentation_dataloader = DataLoader(training_data_with_augmentation, batch_size=batch_size,\n",
        "                              sampler=SubsetRandomSampler(train_split_index))\n",
        "train_no_augmentation_dataloader = DataLoader(training_data_without_augmentation, batch_size=batch_size,\n",
        "                              sampler=SubsetRandomSampler(train_split_index))\n",
        "valid_dataloader = DataLoader(validation_data, batch_size=batch_size,\n",
        "                              sampler=SubsetRandomSampler(valid_split_index))\n",
        "test_dataloader = DataLoader(test_data, batch_size=batch_size)"
      ],
      "execution_count": 96,
      "outputs": []
    },
    {
      "cell_type": "code",
      "metadata": {
        "id": "PmbWieKHz-sO"
      },
      "source": [
        "train_status = True"
      ],
      "execution_count": 97,
      "outputs": []
    },
    {
      "cell_type": "code",
      "metadata": {
        "id": "mE6plIy9E2D_"
      },
      "source": [
        "if not train_status:\n",
        "  # Check that it is splitting the data properly\n",
        "  train_length = 0\n",
        "  for _, y in train_augmentation_dataloader:\n",
        "    train_length += len(y)\n",
        "  print(f\"Length of training (augmentation) split: {train_length}\")\n",
        "\n",
        "  train_aug_length = 0\n",
        "  for _, y in train_no_augmentation_dataloader:\n",
        "    train_aug_length += len(y)\n",
        "  print(f\"Length of training (no augmentation) split: {train_aug_length}\")\n",
        "\n",
        "  valid_length = 0\n",
        "  for _, y in valid_dataloader:\n",
        "    valid_length += len(y)\n",
        "  print(f\"Length of validation split: {valid_length}\")\n",
        "\n",
        "  test_length = 0\n",
        "  for _, y in test_dataloader:\n",
        "    test_length += len(y)\n",
        "  print(f\"Length of test split: {test_length}\")"
      ],
      "execution_count": 98,
      "outputs": []
    },
    {
      "cell_type": "code",
      "metadata": {
        "id": "QG4cwo9Ox9-Z"
      },
      "source": [
        "if not train_status:\n",
        "  # Check that there are 100 instances of a random class in the validation set\n",
        "  count = 0\n",
        "  test_class = random.randint(0,99)\n",
        "  for _, y in valid_dataloader:\n",
        "    for target in y:\n",
        "      if int(target.numpy()) == test_class:\n",
        "        count += 1\n",
        "\n",
        "  print(count)"
      ],
      "execution_count": 99,
      "outputs": []
    },
    {
      "cell_type": "markdown",
      "metadata": {
        "id": "PGQGFOcoFAeO"
      },
      "source": [
        "# Building basic convolutional neural nets"
      ]
    },
    {
      "cell_type": "code",
      "metadata": {
        "colab": {
          "base_uri": "https://localhost:8080/"
        },
        "id": "tuGLhBqQE_xI",
        "outputId": "83c155c3-3226-4756-ddfb-70c85b233d9b"
      },
      "source": [
        "device = \"cuda\" if torch.cuda.is_available() else \"cpu\"\n",
        "print(device)"
      ],
      "execution_count": 36,
      "outputs": [
        {
          "output_type": "stream",
          "name": "stdout",
          "text": [
            "cuda\n"
          ]
        }
      ]
    },
    {
      "cell_type": "code",
      "metadata": {
        "id": "0H5TNXTJE4Nd"
      },
      "source": [
        "# Define the model\n",
        "class basicConvNet(nn.Module):\n",
        "  def __init__(self, name):\n",
        "    super(basicConvNet, self).__init__()\n",
        "    self.name = name\n",
        "    self.basic_conv_net = nn.Sequential(\n",
        "        # 1st layer\n",
        "        nn.Conv2d(3, 50, (3,3), padding='same'),\n",
        "        #nn.BatchNorm2d(50),\n",
        "        nn.ReLU(),\n",
        "        #nn.Dropout2d(p=0.1),\n",
        "        \n",
        "        # 2nd layer\n",
        "        nn.Conv2d(50, 75, (3,3), padding='same'),\n",
        "        #nn.BatchNorm2d(75),\n",
        "        nn.ReLU(),\n",
        "        #nn.Dropout2d(p=0.1),\n",
        "        nn.MaxPool2d(2),\n",
        "        \n",
        "        # 3rd layer - 16x16\n",
        "        nn.Conv2d(75, 100, (3,3), padding='same'),\n",
        "        #nn.BatchNorm2d(100),\n",
        "        nn.ReLU(),\n",
        "        #nn.Dropout2d(p=0.1),\n",
        "        \n",
        "        # 4th layer\n",
        "        nn.Conv2d(100, 150, (3,3), padding='same'),\n",
        "        #nn.BatchNorm2d(150),\n",
        "        nn.ReLU(),\n",
        "        #nn.Dropout2d(p=0.1),\n",
        "        nn.MaxPool2d(2),\n",
        "        \n",
        "        # 5th layer - 8x8\n",
        "        nn.Conv2d(150, 200, (3,3), padding='same'),\n",
        "        #nn.BatchNorm2d(200),\n",
        "        nn.ReLU(),\n",
        "        #nn.Dropout2d(p=0.1),\n",
        "        \n",
        "        # 6th layer\n",
        "        nn.Conv2d(200, 250, (3,3), padding='same'),\n",
        "        #nn.BatchNorm2d(250),\n",
        "        nn.ReLU(),\n",
        "        #nn.Dropout2d(p=0.1),\n",
        "        nn.MaxPool2d(2),\n",
        "        \n",
        "        # 7th layer - 4x4\n",
        "        nn.Flatten(),\n",
        "        nn.Linear(250*4*4, 1000),\n",
        "        nn.ReLU(),\n",
        "        #nn.Dropout(p=0.2),\n",
        "        \n",
        "        # 8th layer\n",
        "        nn.Linear(1000, 500),\n",
        "        nn.ReLU(),\n",
        "        #nn.Dropout(p=0.2),\n",
        "        nn.Linear(500, 100)\n",
        "    )\n",
        "\n",
        "\n",
        "  # Forward propagation\n",
        "  def forward(self, x):\n",
        "    x = self.basic_conv_net(x)\n",
        "    #x = self.flatten(x)\n",
        "    #x = self.output(x)\n",
        "    return x\n",
        "      "
      ],
      "execution_count": 37,
      "outputs": []
    },
    {
      "cell_type": "code",
      "metadata": {
        "id": "5rlWHC2OdR3e"
      },
      "source": [
        "# Define the model\n",
        "class basicConvNet(nn.Module):\n",
        "  def __init__(self, name):\n",
        "    super(basicConvNet, self).__init__()\n",
        "    self.name = name\n",
        "    self.basic_conv_net = nn.Sequential(\n",
        "        # 1st layer\n",
        "        nn.Conv2d(3, 100, (3,3), padding='same'),\n",
        "        #nn.BatchNorm2d(50),\n",
        "        nn.ReLU(),\n",
        "        #nn.Dropout2d(p=0.1),\n",
        "        \n",
        "        # 2nd layer\n",
        "        nn.Conv2d(100, 150, (3,3), padding='same'),\n",
        "        #nn.BatchNorm2d(75),\n",
        "        nn.ReLU(),\n",
        "        #nn.Dropout2d(p=0.1),\n",
        "        nn.MaxPool2d(2),\n",
        "        \n",
        "        # 3rd layer - 16x16\n",
        "        nn.Conv2d(150, 200, (3,3), padding='same'),\n",
        "        #nn.BatchNorm2d(100),\n",
        "        nn.ReLU(),\n",
        "        #nn.Dropout2d(p=0.1),\n",
        "        \n",
        "        # 4th layer\n",
        "        nn.Conv2d(200, 250, (3,3), padding='same'),\n",
        "        #nn.BatchNorm2d(150),\n",
        "        nn.ReLU(),\n",
        "        #nn.Dropout2d(p=0.1),\n",
        "        nn.MaxPool2d(2),\n",
        "        \n",
        "        # 5th layer - 8x8\n",
        "        nn.Conv2d(250, 300, (3,3), padding='same'),\n",
        "        #nn.BatchNorm2d(200),\n",
        "        nn.ReLU(),\n",
        "        #nn.Dropout2d(p=0.1),\n",
        "        \n",
        "        # 6th layer\n",
        "        nn.Conv2d(300, 400, (3,3), padding='same'),\n",
        "        #nn.BatchNorm2d(250),\n",
        "        nn.ReLU(),\n",
        "        #nn.Dropout2d(p=0.1),\n",
        "        nn.MaxPool2d(2),\n",
        "        \n",
        "        # 7th layer - 4x4\n",
        "        nn.Flatten(),\n",
        "        nn.Linear(400*4*4, 1000),\n",
        "        nn.ReLU(),\n",
        "        #nn.Dropout(p=0.2),\n",
        "        \n",
        "        # 8th layer\n",
        "        nn.Linear(1000, 500),\n",
        "        nn.ReLU(),\n",
        "        #nn.Dropout(p=0.2),\n",
        "        nn.Linear(500, 100)\n",
        "    )\n",
        "\n",
        "\n",
        "  # Forward propagation\n",
        "  def forward(self, x):\n",
        "    x = self.basic_conv_net(x)\n",
        "    #x = self.flatten(x)\n",
        "    #x = self.output(x)\n",
        "    return x\n",
        "      "
      ],
      "execution_count": 38,
      "outputs": []
    },
    {
      "cell_type": "code",
      "metadata": {
        "id": "6F10JyiGceOB"
      },
      "source": [
        "# This is the current winner for best performing architecture\n",
        "\n",
        "# Define the model\n",
        "class basicConvNet(nn.Module):\n",
        "  def __init__(self, name, dropout_conv=0.1, dropout_linear=0.2):\n",
        "    super(basicConvNet, self).__init__()\n",
        "    self.name = name\n",
        "    self.basic_conv_net = nn.Sequential(\n",
        "        # 1st layer\n",
        "        nn.Conv2d(3, 50, (3,3), padding='same'),\n",
        "        nn.BatchNorm2d(50),\n",
        "        nn.ReLU(),\n",
        "        nn.Dropout2d(p=dropout_conv),\n",
        "        \n",
        "        # 2nd layer\n",
        "        nn.Conv2d(50, 100, (3,3), padding='same'),\n",
        "        nn.BatchNorm2d(100),\n",
        "        nn.ReLU(),\n",
        "        nn.Dropout2d(p=dropout_conv),\n",
        "        nn.MaxPool2d(2),\n",
        "        \n",
        "        # 3rd layer - 16x16\n",
        "        nn.Conv2d(100, 150, (3,3), padding='same'),\n",
        "        nn.BatchNorm2d(150),\n",
        "        nn.ReLU(),\n",
        "        nn.Dropout2d(p=dropout_conv),\n",
        "        \n",
        "        # 4th layer\n",
        "        nn.Conv2d(150, 200, (3,3), padding='same'),\n",
        "        nn.BatchNorm2d(200),\n",
        "        nn.ReLU(),\n",
        "        nn.Dropout2d(p=dropout_conv),\n",
        "        nn.MaxPool2d(2),\n",
        "        \n",
        "        # 5th layer - 8x8\n",
        "        nn.Conv2d(200, 300, (3,3), padding='same'),\n",
        "        nn.BatchNorm2d(300),\n",
        "        nn.ReLU(),\n",
        "        nn.Dropout2d(p=dropout_conv),\n",
        "        \n",
        "        # 6th layer\n",
        "        nn.Conv2d(300, 400, (3,3), padding='same'),\n",
        "        nn.BatchNorm2d(400),\n",
        "        nn.ReLU(),\n",
        "        nn.Dropout2d(p=dropout_conv),\n",
        "        nn.MaxPool2d(2),\n",
        "        \n",
        "        # 7th layer - 4x4\n",
        "        nn.Flatten(),\n",
        "        nn.Linear(400*4*4, 1000),\n",
        "        nn.ReLU(),\n",
        "        nn.Dropout(p=dropout_linear),\n",
        "        \n",
        "        # 8th layer\n",
        "        nn.Linear(1000, 500),\n",
        "        nn.ReLU(),\n",
        "        nn.Dropout(p=dropout_linear),\n",
        "        nn.Linear(500, 100)\n",
        "    )\n",
        "\n",
        "\n",
        "  # Forward propagation\n",
        "  def forward(self, x):\n",
        "    x = self.basic_conv_net(x)\n",
        "    #x = self.flatten(x)\n",
        "    #x = self.output(x)\n",
        "    return x\n",
        "      "
      ],
      "execution_count": 39,
      "outputs": []
    },
    {
      "cell_type": "code",
      "metadata": {
        "id": "dIdV7BIM0bAI"
      },
      "source": [
        "# Training function\n",
        "def train(dataloader, batch_size, model, loss_fn, optimizer):\n",
        "  num_batches = len(dataloader)\n",
        "  size = num_batches * batch_size\n",
        "  model.train()\n",
        "  train_loss, num_correct = 0, 0\n",
        "  for batch, (X, y) in enumerate(dataloader):\n",
        "    X, y = X.to(device), y.to(device)\n",
        "\n",
        "    # Compute prediction error\n",
        "    pred = model(X)\n",
        "    loss = loss_fn(pred, y)\n",
        "\n",
        "    # Backprop\n",
        "    optimizer.zero_grad()\n",
        "    loss.backward()\n",
        "    optimizer.step()\n",
        "\n",
        "    # Track train_loss and accuracy\n",
        "    train_loss += loss.item()\n",
        "    num_correct += (pred.argmax(1) == y).type(torch.float).sum().item()\n",
        "\n",
        "    if batch % 100 == 0:\n",
        "      loss, current = loss.item(), batch * len(X)\n",
        "      print(f\"loss: {loss:>7f} [{current:>5d}/{size:>5d}]\")\n",
        "\n",
        "  train_loss /= num_batches\n",
        "  accuracy = num_correct / size\n",
        "  return train_loss, accuracy"
      ],
      "execution_count": 41,
      "outputs": []
    },
    {
      "cell_type": "code",
      "metadata": {
        "id": "WgoNmE080eAr"
      },
      "source": [
        "# Validation function\n",
        "def validation(dataloader, batch_size, model, loss_fn):\n",
        "  num_batches = len(dataloader)\n",
        "  size = num_batches * batch_size\n",
        "  model.eval()\n",
        "  val_loss, num_correct = 0, 0\n",
        "  with torch.no_grad():\n",
        "    for X, y in dataloader:\n",
        "      X, y = X.to(device), y.to(device)\n",
        "      pred = model(X)\n",
        "      val_loss += loss_fn(pred, y).item()\n",
        "      num_correct += (pred.argmax(1) == y).type(torch.float).sum().item()\n",
        "  val_loss /= num_batches\n",
        "  accuracy = num_correct / size\n",
        "  print(f\"Validation Error: \\n Validation accuracy: {(100 * accuracy):>0.1f}%, Validation loss: {val_loss:>8f} \\n\")\n",
        "  return val_loss, accuracy"
      ],
      "execution_count": 43,
      "outputs": []
    },
    {
      "cell_type": "code",
      "metadata": {
        "id": "4I_S627HXLWz"
      },
      "source": [
        "# Test function\n",
        "def test(dataloader, model, loss_fn):\n",
        "  size = len(dataloader.dataset)\n",
        "  num_batches = len(dataloader)\n",
        "  model.eval()\n",
        "  test_loss, correct = 0, 0\n",
        "  with torch.no_grad():\n",
        "    for X, y in dataloader:\n",
        "      X, y = X.to(device), y.to(device)\n",
        "      pred = model(X)\n",
        "      test_loss += loss_fn(pred, y).item()\n",
        "      correct += (pred.argmax(1) == y).type(torch.float).sum().item()\n",
        "  test_loss /= num_batches\n",
        "  correct /= size\n",
        "  print(f\"Test Error: \\n Accuracy: {(100*correct):>0.1f}%, Avg loss: {test_loss:>8f} \\n\")\n",
        "  return test_loss"
      ],
      "execution_count": 44,
      "outputs": []
    },
    {
      "cell_type": "code",
      "metadata": {
        "id": "F97ruax40jdF"
      },
      "source": [
        "def training_loop(n_epochs, model, train_data, valid_data, batch_size,\n",
        "                  loss_function, optimizer, scheduler=None,\n",
        "                  early_stopping=False, patience=10):\n",
        "  current_epoch = 0\n",
        "  best_epoch = 0\n",
        "  best_loss = float('inf')\n",
        "  patience_counter = 0\n",
        "\n",
        "  train_losses = []\n",
        "  train_accuracies = []\n",
        "  val_losses = []\n",
        "  val_accuracies = []\n",
        "\n",
        "  for e in range(n_epochs):\n",
        "    print(f\"\\nEpoch {e+1}\\n----------------------------\")\n",
        "    # Iterate epoch counter\n",
        "    current_epoch += 1\n",
        "\n",
        "    train_loss, train_accuracy = train(train_data, batch_size, model, loss_function, optimizer)\n",
        "    val_loss, val_accuracy = validation(valid_data, batch_size, model, loss_function)\n",
        "\n",
        "    train_losses.append(train_loss)\n",
        "    train_accuracies.append(train_accuracy)\n",
        "    val_losses.append(val_loss)\n",
        "    val_accuracies.append(val_accuracy)\n",
        "\n",
        "    # Iterate scheduler (this is set up for ReduceLROnPlateau)\n",
        "    if scheduler is not None:\n",
        "      scheduler.step(val_loss)\n",
        "\n",
        "    # If early_stopping check test_loss\n",
        "    if early_stopping:\n",
        "      # case: test loss beats the current best loss\n",
        "      if val_loss < best_loss:\n",
        "        # store loss\n",
        "        best_loss = val_loss\n",
        "\n",
        "        # reset patience counter\n",
        "        patience_counter = 0\n",
        "\n",
        "        # store model and epoch number\n",
        "        print(\"Storing new best model.\")\n",
        "        best_model_state_dict = copy.deepcopy(model.state_dict)\n",
        "        best_epoch = current_epoch\n",
        "\n",
        "      # Case: patience limit not yet reached => iterate patience counter\n",
        "      elif patience_counter < patience - 1:\n",
        "        patience_counter += 1\n",
        "        print(f\"Patience count: {patience_counter}\")\n",
        "\n",
        "      # Case: patience limit reached\n",
        "      else:\n",
        "        print(\"Finished due to early stopping.\")\n",
        "        print(f\"Saving best model: {model.name}_epoch-{best_epoch:03d}\")\n",
        "        torch.save(best_model_state_dict, f'{model.name}_epoch-{best_epoch:03d}')\n",
        "        break\n",
        "\n",
        "  # If we get here, we did not stop early - save best model\n",
        "  if early_stopping:\n",
        "    print(f\"Saving best model: {model.name}_epoch-{best_epoch:03d}\")\n",
        "    torch.save(best_model_state_dict, f'{model.name}_epoch-{best_epoch:03d}')\n",
        "  else:\n",
        "    print()\n",
        "\n",
        "  return train_losses, train_accuracies, val_losses, val_accuracies"
      ],
      "execution_count": 45,
      "outputs": []
    },
    {
      "cell_type": "markdown",
      "metadata": {
        "id": "RNLss4MUiX4T"
      },
      "source": [
        "# Training"
      ]
    },
    {
      "cell_type": "code",
      "metadata": {
        "id": "hfMapknHYDYO"
      },
      "source": [
        "n_epochs = 100"
      ],
      "execution_count": 115,
      "outputs": []
    },
    {
      "cell_type": "code",
      "metadata": {
        "id": "fLQYaHdZTnJK",
        "colab": {
          "base_uri": "https://localhost:8080/"
        },
        "outputId": "0168c3b0-4586-4229-d770-3d98b0aacdbe"
      },
      "source": [
        "model = basicConvNet(name='eight-layer', dropout_conv=0.1, dropout_linear=0.15).to(device)\n",
        "num_param = sum(p.numel() for p in model.parameters())\n",
        "print(f\"Total number of parameters: {num_param:,}\")"
      ],
      "execution_count": 116,
      "outputs": [
        {
          "output_type": "stream",
          "name": "stdout",
          "text": [
            "Total number of parameters: 9,026,550\n"
          ]
        }
      ]
    },
    {
      "cell_type": "code",
      "metadata": {
        "id": "XvIelsOD0sc0",
        "outputId": "6643f447-1092-47cc-fe9b-8e5903b0081e",
        "colab": {
          "base_uri": "https://localhost:8080/"
        }
      },
      "source": [
        "model_aug = basicConvNet(name='eight-layer', dropout_conv=0.1, dropout_linear=0.15).to(device)\n",
        "num_param = sum(p.numel() for p in model_aug.parameters())\n",
        "print(f\"Total number of parameters: {num_param:,}\")"
      ],
      "execution_count": 117,
      "outputs": [
        {
          "output_type": "stream",
          "name": "stdout",
          "text": [
            "Total number of parameters: 9,026,550\n"
          ]
        }
      ]
    },
    {
      "cell_type": "code",
      "metadata": {
        "id": "deD1sei_WLmX"
      },
      "source": [
        "# Loss function\n",
        "loss_fn = nn.CrossEntropyLoss()\n",
        "loss_fn_aug = nn.CrossEntropyLoss()\n",
        "\n",
        "# Optimizer\n",
        "optimizer = torch.optim.Adam(model.parameters(), lr=5e-5)\n",
        "optimizer_aug = torch.optim.Adam(model_aug.parameters(), lr=5e-5)\n",
        "\n",
        "# Scheduler\n",
        "scheduler = torch.optim.lr_scheduler.ReduceLROnPlateau(optimizer=optimizer, mode='min', patience=5)\n",
        "scheduler_aug = torch.optim.lr_scheduler.ReduceLROnPlateau(optimizer=optimizer_aug, mode='min', patience=5)"
      ],
      "execution_count": 118,
      "outputs": []
    },
    {
      "cell_type": "code",
      "metadata": {
        "id": "JxAb2cyfCYXq",
        "colab": {
          "base_uri": "https://localhost:8080/"
        },
        "outputId": "1fa68041-7253-4243-9b37-09d88facd3f5"
      },
      "source": [
        "train_loss, train_accuracy, val_loss, val_accuracy = training_loop(n_epochs, model, train_no_augmentation_dataloader, valid_dataloader, batch_size,\n",
        "              loss_fn, optimizer, scheduler, early_stopping=True, patience=10)"
      ],
      "execution_count": null,
      "outputs": [
        {
          "output_type": "stream",
          "name": "stdout",
          "text": [
            "\n",
            "Epoch 1\n",
            "----------------------------\n",
            "loss: 4.612765 [    0/40000]\n",
            "loss: 4.470747 [10000/40000]\n",
            "loss: 3.906359 [20000/40000]\n",
            "loss: 3.933793 [30000/40000]\n"
          ]
        }
      ]
    },
    {
      "cell_type": "markdown",
      "metadata": {
        "id": "bRD_BDOsv65u"
      },
      "source": [
        "### LR results after 3 epochs\n",
        "- `1e-1` => no learning\n",
        "- `1e-2` => no learning\n",
        "- `1e-3` => 12.6% / 3.714641\n",
        "- `1e-4` => 20.5% / 3.270644\n",
        "- `5e-5` => \n",
        "- `1e-5` => 14.5% / 3.715099"
      ]
    },
    {
      "cell_type": "code",
      "metadata": {
        "id": "iWZrvns_Yu7k"
      },
      "source": [
        "plt.figure(figsize=(15,8))\n",
        "plt.title(f\"Train and Validation Loss for {model.name}\")\n",
        "plt.plot(val_loss, label=\"val_loss\")\n",
        "plt.plot(train_loss, label=\"train_loss\")\n",
        "plt.xlabel(\"Epochs\")\n",
        "plt.ylabel(\"Loss\")\n",
        "plt.legend()\n",
        "plt.show"
      ],
      "execution_count": null,
      "outputs": []
    },
    {
      "cell_type": "code",
      "metadata": {
        "id": "5rqz0EbDYuxV"
      },
      "source": [
        "plt.figure(figsize=(15,8))\n",
        "plt.title(f\"Train and Validation Accuracy for {model.name}\")\n",
        "plt.plot(val_accuracy, label=\"val_accuracy\")\n",
        "plt.plot(train_accuracy, label=\"train_accuracy\")\n",
        "plt.xlabel(\"Epochs\")\n",
        "plt.ylabel(\"Accuracy\")\n",
        "plt.legend()\n",
        "plt.show"
      ],
      "execution_count": null,
      "outputs": []
    },
    {
      "cell_type": "markdown",
      "metadata": {
        "id": "fHn-Ptmp1woP"
      },
      "source": [
        "## Training with data augmentation"
      ]
    },
    {
      "cell_type": "code",
      "metadata": {
        "id": "Iu03I6r11FfU"
      },
      "source": [
        "train_loss_aug, train_accuracy_aug, val_loss_aug, val_accuracy_aug = training_loop(n_epochs, model_aug, train_augmentation_dataloader, valid_dataloader, batch_size,\n",
        "              loss_fn_aug, optimizer_aug, scheduler_aug, early_stopping=True, patience=10)"
      ],
      "execution_count": null,
      "outputs": []
    },
    {
      "cell_type": "code",
      "metadata": {
        "id": "UpXxINeY1lxW"
      },
      "source": [
        "plt.figure(figsize=(15,8))\n",
        "plt.title(f\"Train and Validation Loss for {model.name} with Data Augmentation\")\n",
        "plt.plot(val_loss_aug, label=\"val_loss\")\n",
        "plt.plot(train_loss_aug, label=\"train_loss\")\n",
        "plt.xlabel(\"Epochs\")\n",
        "plt.ylabel(\"Loss\")\n",
        "plt.legend()\n",
        "plt.show"
      ],
      "execution_count": null,
      "outputs": []
    },
    {
      "cell_type": "code",
      "metadata": {
        "id": "pY9gXnTQ1lcW"
      },
      "source": [
        "plt.figure(figsize=(15,8))\n",
        "plt.title(f\"Train and Validation Accuracy for {model.name}\")\n",
        "plt.plot(val_accuracy_aug, label=\"val_accuracy\")\n",
        "plt.plot(train_accuracy_aug, label=\"train_accuracy\")\n",
        "plt.xlabel(\"Epochs\")\n",
        "plt.ylabel(\"Accuracy\")\n",
        "plt.legend()\n",
        "plt.show"
      ],
      "execution_count": null,
      "outputs": []
    },
    {
      "cell_type": "markdown",
      "metadata": {
        "id": "F2IwyMMPYOLz"
      },
      "source": [
        "# Results\n",
        "\n",
        "---\n",
        "\n",
        "Model with data augmentation and `lr=5e-4` for 50 epochs: **Validation accuracy: 54.7%, Validation loss: 1.657589**."
      ]
    },
    {
      "cell_type": "code",
      "metadata": {
        "id": "D_ri8CWh0rXR",
        "outputId": "c169d164-e782-442c-9c92-09971c7dcad7",
        "colab": {
          "base_uri": "https://localhost:8080/",
          "height": 530
        }
      },
      "source": [
        "plt.figure(figsize=(15,8))\n",
        "plt.title(f\"Train and Validation Loss for {model.name}\")\n",
        "plt.plot(val_loss, label=\"val_loss\")\n",
        "plt.plot(train_loss, label=\"train_loss\")\n",
        "plt.xlabel(\"Epochs\")\n",
        "plt.ylabel(\"Loss\")\n",
        "plt.legend()\n",
        "plt.show"
      ],
      "execution_count": 37,
      "outputs": [
        {
          "output_type": "execute_result",
          "data": {
            "text/plain": [
              "<function matplotlib.pyplot.show>"
            ]
          },
          "metadata": {},
          "execution_count": 37
        },
        {
          "output_type": "display_data",
          "data": {
            "image/png": "[encoded data removed]",
            "text/plain": [
              "<Figure size 1080x576 with 1 Axes>"
            ]
          },
          "metadata": {
            "needs_background": "light"
          }
        }
      ]
    },
    {
      "cell_type": "code",
      "metadata": {
        "id": "-l6VMiao0wDA",
        "outputId": "9340f963-29d0-4bbb-8b84-d88572c0f094",
        "colab": {
          "base_uri": "https://localhost:8080/",
          "height": 530
        }
      },
      "source": [
        "plt.figure(figsize=(15,8))\n",
        "plt.title(f\"Train and Validation Accuracy for {model.name}\")\n",
        "plt.plot(val_accuracy, label=\"val_accuracy\")\n",
        "plt.plot(train_accuracy, label=\"train_accuracy\")\n",
        "plt.xlabel(\"Epochs\")\n",
        "plt.ylabel(\"Accuracy\")\n",
        "plt.legend()\n",
        "plt.show"
      ],
      "execution_count": 38,
      "outputs": [
        {
          "output_type": "execute_result",
          "data": {
            "text/plain": [
              "<function matplotlib.pyplot.show>"
            ]
          },
          "metadata": {},
          "execution_count": 38
        },
        {
          "output_type": "display_data",
          "data": {
            "image/png": "[encoded data removed]",
            "text/plain": [
              "<Figure size 1080x576 with 1 Axes>"
            ]
          },
          "metadata": {
            "needs_background": "light"
          }
        }
      ]
    },
    {
      "cell_type": "code",
      "metadata": {
        "id": "kfyRkLvV0zE2"
      },
      "source": [
        ""
      ],
      "execution_count": null,
      "outputs": []
    }
  ]
}