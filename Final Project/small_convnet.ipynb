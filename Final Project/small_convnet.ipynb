{
  "nbformat": 4,
  "nbformat_minor": 0,
  "metadata": {
    "colab": {
      "name": "small_convnet.ipynb",
      "provenance": [],
      "authorship_tag": "ABX9TyOwr+1wejwIwRq55ltCMSrO",
      "include_colab_link": true
    },
    "kernelspec": {
      "name": "python3",
      "display_name": "Python 3"
    },
    "language_info": {
      "name": "python"
    },
    "accelerator": "GPU"
  },
  "cells": [
    {
      "cell_type": "markdown",
      "metadata": {
        "id": "view-in-github",
        "colab_type": "text"
      },
      "source": [
        "<a href=\"https://colab.research.google.com/github/malloyca/CSC581B/blob/main/Final%20Project/small_convnet.ipynb\" target=\"_parent\"><img src=\"https://colab.research.google.com/assets/colab-badge.svg\" alt=\"Open In Colab\"/></a>"
      ]
    },
    {
      "cell_type": "markdown",
      "metadata": {
        "id": "9PEXOKNd_15u"
      },
      "source": [
        "# Notes\n",
        "\n",
        "- Complete trial with eight layer model\n",
        "- Add more feedback to early stopping\n",
        "  - accuracy and loss for that epoch\n",
        "- Ideas for improving the performance"
      ]
    },
    {
      "cell_type": "code",
      "metadata": {
        "id": "NI3XLmYiD-UJ"
      },
      "source": [
        "# imports\n",
        "import torch\n",
        "from torch import nn\n",
        "from torch.utils.data import DataLoader, SubsetRandomSampler\n",
        "from torchvision import datasets\n",
        "from torchvision.transforms import ToTensor, Compose, Normalize\n",
        "from sklearn.model_selection import train_test_split\n",
        "import matplotlib.pyplot as plt\n",
        "import copy\n",
        "import numpy as np\n"
      ],
      "execution_count": 1,
      "outputs": []
    },
    {
      "cell_type": "code",
      "metadata": {
        "colab": {
          "base_uri": "https://localhost:8080/"
        },
        "id": "BuXW8boJEcrA",
        "outputId": "6de2c0a1-ac4e-4ac1-b007-c5ddd6d5ad6c"
      },
      "source": [
        "# Load the training data (CIFAR10 to start)\n",
        "training_data = datasets.CIFAR100(\n",
        "    root = \"data\",\n",
        "    train = True,\n",
        "    download = True,\n",
        "    transform = Compose([ToTensor(),\n",
        "                        Normalize([0.5071, 0.4867, 0.4408],\n",
        "                                  [0.2675, 0.2565, 0.2761])])\n",
        ")\n",
        "\n",
        "# Load the test data\n",
        "test_data = datasets.CIFAR100(\n",
        "    root = \"data\",\n",
        "    train = False,\n",
        "    download = True,\n",
        "    transform = ToTensor()\n",
        ")"
      ],
      "execution_count": 2,
      "outputs": [
        {
          "output_type": "stream",
          "name": "stdout",
          "text": [
            "Files already downloaded and verified\n",
            "Files already downloaded and verified\n"
          ]
        }
      ]
    },
    {
      "cell_type": "code",
      "metadata": {
        "id": "YyVJ8ne8xjKt"
      },
      "source": [
        "training_targets = training_data.targets"
      ],
      "execution_count": 3,
      "outputs": []
    },
    {
      "cell_type": "code",
      "metadata": {
        "id": "mMQ119G7xmDK"
      },
      "source": [
        "train_split_index, valid_split_index = train_test_split(\n",
        "    np.arange(len(training_targets)), test_size=0.2, stratify=training_targets\n",
        ")"
      ],
      "execution_count": 4,
      "outputs": []
    },
    {
      "cell_type": "code",
      "metadata": {
        "id": "BZ2dy9pmEwz6"
      },
      "source": [
        "batch_size = 100\n",
        "\n",
        "# Create data loaders\n",
        "train_dataloader = DataLoader(training_data, batch_size=batch_size,\n",
        "                              sampler=SubsetRandomSampler(train_split_index))\n",
        "valid_dataloader = DataLoader(training_data, batch_size=batch_size,\n",
        "                              sampler=SubsetRandomSampler(valid_split_index))\n",
        "test_dataloader = DataLoader(test_data, batch_size=batch_size)"
      ],
      "execution_count": 5,
      "outputs": []
    },
    {
      "cell_type": "code",
      "metadata": {
        "colab": {
          "base_uri": "https://localhost:8080/"
        },
        "id": "mE6plIy9E2D_",
        "outputId": "d9655960-70a8-483f-8500-86f80bf6a9cc"
      },
      "source": [
        "# Check that it is splitting the data properly\n",
        "train_length = 0\n",
        "for _, y in train_dataloader:\n",
        "  train_length += len(y)\n",
        "print(f\"Length of training split: {train_length}\")\n",
        "\n",
        "valid_length = 0\n",
        "for _, y in valid_dataloader:\n",
        "  valid_length += len(y)\n",
        "print(f\"Length of validation split: {valid_length}\")\n",
        "\n",
        "test_length = 0\n",
        "for _, y in test_dataloader:\n",
        "  test_length += len(y)\n",
        "print(f\"Length of test split: {test_length}\")"
      ],
      "execution_count": 6,
      "outputs": [
        {
          "output_type": "stream",
          "name": "stdout",
          "text": [
            "Length of training split: 40000\n",
            "Length of validation split: 10000\n",
            "Length of test split: 10000\n"
          ]
        }
      ]
    },
    {
      "cell_type": "code",
      "metadata": {
        "id": "QG4cwo9Ox9-Z",
        "outputId": "d61dbb08-8162-4bfc-f58b-e5bb5625ab57",
        "colab": {
          "base_uri": "https://localhost:8080/"
        }
      },
      "source": [
        "# Check that there are 100 instances of each class in the validation set\n",
        "count = 0\n",
        "for _, y in valid_dataloader:\n",
        "  for target in y:\n",
        "    if int(target.numpy()) == 0:\n",
        "      count += 1\n",
        "\n",
        "print(count)"
      ],
      "execution_count": 7,
      "outputs": [
        {
          "output_type": "stream",
          "name": "stdout",
          "text": [
            "100\n"
          ]
        }
      ]
    },
    {
      "cell_type": "markdown",
      "metadata": {
        "id": "PGQGFOcoFAeO"
      },
      "source": [
        "# Building basic convolutional neural nets"
      ]
    },
    {
      "cell_type": "code",
      "metadata": {
        "colab": {
          "base_uri": "https://localhost:8080/"
        },
        "id": "tuGLhBqQE_xI",
        "outputId": "6177d37d-8f49-4f37-ce3e-745bc6345b87"
      },
      "source": [
        "device = \"cuda\" if torch.cuda.is_available() else \"cpu\"\n",
        "print(device)"
      ],
      "execution_count": 8,
      "outputs": [
        {
          "output_type": "stream",
          "name": "stdout",
          "text": [
            "cuda\n"
          ]
        }
      ]
    },
    {
      "cell_type": "code",
      "metadata": {
        "id": "0H5TNXTJE4Nd"
      },
      "source": [
        "# Define the model\n",
        "class basicConvNet(nn.Module):\n",
        "  def __init__(self, name):\n",
        "    super(basicConvNet, self).__init__()\n",
        "    self.name = name\n",
        "    self.basic_conv_net = nn.Sequential(\n",
        "        # 1st layer\n",
        "        nn.Conv2d(3, 256, (3,3), padding='same'),\n",
        "        nn.ReLU(),\n",
        "        # 2nd layer\n",
        "        nn.Conv2d(256, 128, (3,3), padding='same'),\n",
        "        nn.ReLU(),\n",
        "        nn.MaxPool2d(2),\n",
        "        # 3rd layer - 16x16\n",
        "        nn.Conv2d(128, 64, (3,3), padding='same'),\n",
        "        nn.ReLU(),\n",
        "        # 4th layer\n",
        "        nn.Conv2d(64, 32, (3,3), padding='same'),\n",
        "        nn.ReLU(),\n",
        "        nn.MaxPool2d(2),\n",
        "        # 5th layer - 8x8\n",
        "        nn.Conv2d(32, 32, (3,3), padding='same'),\n",
        "        nn.ReLU(),\n",
        "        # 6th layer\n",
        "        nn.Conv2d(32, 16, (3,3), padding='same'),\n",
        "        nn.ReLU(),\n",
        "        nn.MaxPool2d(2),\n",
        "        # 7th layer - 4x4\n",
        "        nn.Conv2d(16, 16, (3,3), padding='same'),\n",
        "        nn.ReLU(),\n",
        "        # 8th layer\n",
        "        nn.Conv2d(16, 16, (3,3), padding='same'),\n",
        "        nn.ReLU(),\n",
        "    )\n",
        "    self.flatten = nn.Flatten()\n",
        "    self.output = nn.Linear(16*4*4, 100)\n",
        "\n",
        "  # Forward propagation\n",
        "  def forward(self, x):\n",
        "    x = self.basic_conv_net(x)\n",
        "    x = self.flatten(x)\n",
        "    x = self.output(x)\n",
        "    return x\n",
        "      "
      ],
      "execution_count": 29,
      "outputs": []
    },
    {
      "cell_type": "markdown",
      "metadata": {
        "id": "iAZtckp9BsSU"
      },
      "source": [
        "#### Six layer model\n",
        "\n",
        "        # 1st layer\n",
        "        nn.Conv2d(3, 256, (3,3), padding='same'),\n",
        "        nn.ReLU(),\n",
        "        nn.MaxPool2d(2),\n",
        "        # 2nd layer\n",
        "        nn.Conv2d(256, 128, (3,3), padding='same'),\n",
        "        nn.ReLU(),\n",
        "        nn.MaxPool2d(2),\n",
        "        # 3rd layer\n",
        "        nn.Conv2d(128, 64, (3,3), padding='same'),\n",
        "        nn.ReLU(),\n",
        "        nn.MaxPool2d(2),\n",
        "        # 4th layer\n",
        "        nn.Conv2d(64, 32, (3,3), padding='same'),\n",
        "        nn.ReLU(),\n",
        "        #nn.MaxPool2d((2,2)),\n",
        "        # 5th layer\n",
        "        nn.Conv2d(32, 32, (3,3), padding='same'),\n",
        "        nn.ReLU(),\n",
        "        #nn.MaxPool2d((2,2)),\n",
        "        # 6th layer\n",
        "        nn.Conv2d(32, 16, (3,3), padding='same'),\n",
        "        nn.ReLU(),"
      ]
    },
    {
      "cell_type": "code",
      "metadata": {
        "id": "rQGk95EKWan5"
      },
      "source": [
        "# Training loop\n",
        "def train(dataloader, model, loss_fn, optimizer):\n",
        "  size = len(dataloader.dataset)\n",
        "  model.train()\n",
        "  for batch, (X, y) in enumerate(dataloader):\n",
        "    X, y = X.to(device), y.to(device)\n",
        "\n",
        "    # Compute prediction error\n",
        "    pred = model(X)\n",
        "    loss = loss_fn(pred, y)\n",
        "\n",
        "    # Backprop\n",
        "    optimizer.zero_grad()\n",
        "    loss.backward()\n",
        "    optimizer.step()\n",
        "\n",
        "    if batch % 100 == 0:\n",
        "      loss, current = loss.item(), batch * len(X)\n",
        "      print(f\"loss: {loss:>7f} [{current:>5d}/{size:>5d}]\")"
      ],
      "execution_count": 10,
      "outputs": []
    },
    {
      "cell_type": "code",
      "metadata": {
        "id": "4I_S627HXLWz"
      },
      "source": [
        "# Test function\n",
        "def test(dataloader, model, loss_fn):\n",
        "  size = len(dataloader.dataset)\n",
        "  num_batches = len(dataloader)\n",
        "  model.eval()\n",
        "  test_loss, correct = 0, 0\n",
        "  with torch.no_grad():\n",
        "    for X, y in dataloader:\n",
        "      X, y = X.to(device), y.to(device)\n",
        "      pred = model(X)\n",
        "      test_loss += loss_fn(pred, y).item()\n",
        "      correct += (pred.argmax(1) == y).type(torch.float).sum().item()\n",
        "  test_loss /= num_batches\n",
        "  correct /= size\n",
        "  print(f\"Test Error: \\n Accuracy: {(100*correct):>0.1f}%, Avg loss: {test_loss:>8f} \\n\")\n",
        "  return test_loss"
      ],
      "execution_count": 11,
      "outputs": []
    },
    {
      "cell_type": "code",
      "metadata": {
        "id": "hfMapknHYDYO"
      },
      "source": [
        "n_epochs = 100"
      ],
      "execution_count": 12,
      "outputs": []
    },
    {
      "cell_type": "code",
      "metadata": {
        "id": "uypo30igYE2G"
      },
      "source": [
        "def training_loop(n_epochs, model, train_data, test_data, loss_function,\n",
        "                  optimizer, early_stopping=False, patience=10):\n",
        "  current_epoch = 0\n",
        "  best_epoch = 0\n",
        "  best_loss = float('inf')\n",
        "  patience_counter = 0\n",
        "\n",
        "  for e in range(n_epochs):\n",
        "    print(f\"\\nEpoch {e+1}\\n----------------------------\")\n",
        "    train(train_data, model, loss_function, optimizer)\n",
        "    test_loss = test(test_data, model, loss_function)\n",
        "\n",
        "    # Iterate epoch counter\n",
        "    current_epoch += 1\n",
        "\n",
        "    # If early_stopping check test_loss\n",
        "    if early_stopping:\n",
        "      # case: test loss beats the current best loss\n",
        "      if test_loss < best_loss:\n",
        "        # store loss\n",
        "        best_loss = test_loss\n",
        "\n",
        "        # reset patience counter\n",
        "        patience_counter = 0\n",
        "\n",
        "        # store model and epoch number\n",
        "        print(\"Storing new best model.\")\n",
        "        best_model_state_dict = copy.deepcopy(model.state_dict)\n",
        "        best_epoch = current_epoch\n",
        "\n",
        "      # Case: patience limit not yet reached => iterate patience counter\n",
        "      elif patience_counter < patience - 1:\n",
        "        patience_counter += 1\n",
        "        print(f\"Patience count: {patience_counter}\")\n",
        "\n",
        "      # Case: patience limit reached\n",
        "      else:\n",
        "        print(\"Finished due to early stopping.\")\n",
        "        print(f\"Saving best model: {model.name}_epoch-{best_epoch:03d}\")\n",
        "        torch.save(best_model_state_dict, f'{model.name}_epoch-{best_epoch:03d}')\n",
        "        break\n",
        "\n",
        "  # If we get here, we did not stop early - save best model\n",
        "  if early_stopping:\n",
        "    print(f\"Saving best model: {model.name}_epoch-{best_epoch:03d}\")\n",
        "    torch.save(best_model_state_dict, f'{model.name}_epoch-{best_epoch:03d}')"
      ],
      "execution_count": 13,
      "outputs": []
    },
    {
      "cell_type": "code",
      "metadata": {
        "id": "fLQYaHdZTnJK"
      },
      "source": [
        "model = basicConvNet('eight-layer').to(device)"
      ],
      "execution_count": 33,
      "outputs": []
    },
    {
      "cell_type": "code",
      "metadata": {
        "id": "deD1sei_WLmX"
      },
      "source": [
        "# Loss function\n",
        "loss_fn = nn.CrossEntropyLoss()\n",
        "\n",
        "# Optimizer\n",
        "optimizer = torch.optim.SGD(model.parameters(), lr=1e-1)"
      ],
      "execution_count": 34,
      "outputs": []
    },
    {
      "cell_type": "code",
      "metadata": {
        "colab": {
          "base_uri": "https://localhost:8080/",
          "height": 1000
        },
        "id": "k6WkrJ5QYgri",
        "outputId": "38228630-e9ce-49c4-dc80-5453454416af"
      },
      "source": [
        "training_loop(n_epochs, model, train_dataloader, valid_dataloader, loss_fn,\n",
        "              optimizer, early_stopping=True)"
      ],
      "execution_count": 35,
      "outputs": [
        {
          "output_type": "stream",
          "name": "stdout",
          "text": [
            "\n",
            "Epoch 1\n",
            "----------------------------\n",
            "loss: 4.605928 [    0/50000]\n",
            "loss: 4.608476 [10000/50000]\n",
            "loss: 4.604364 [20000/50000]\n",
            "loss: 4.603601 [30000/50000]\n",
            "Test Error: \n",
            " Accuracy: 0.2%, Avg loss: 4.605181 \n",
            "\n",
            "Storing new best model.\n",
            "\n",
            "Epoch 2\n",
            "----------------------------\n",
            "loss: 4.603875 [    0/50000]\n",
            "loss: 4.604411 [10000/50000]\n",
            "loss: 4.603657 [20000/50000]\n",
            "loss: 4.596471 [30000/50000]\n",
            "Test Error: \n",
            " Accuracy: 0.5%, Avg loss: 4.527261 \n",
            "\n",
            "Storing new best model.\n",
            "\n",
            "Epoch 3\n",
            "----------------------------\n",
            "loss: 4.555882 [    0/50000]\n",
            "loss: 4.468088 [10000/50000]\n",
            "loss: 4.484347 [20000/50000]\n",
            "loss: 4.400254 [30000/50000]\n",
            "Test Error: \n",
            " Accuracy: 1.2%, Avg loss: 4.222248 \n",
            "\n",
            "Storing new best model.\n",
            "\n",
            "Epoch 4\n",
            "----------------------------\n",
            "loss: 4.212809 [    0/50000]\n",
            "loss: 4.226405 [10000/50000]\n",
            "loss: 3.940852 [20000/50000]\n",
            "loss: 3.950976 [30000/50000]\n",
            "Test Error: \n",
            " Accuracy: 1.9%, Avg loss: 3.939277 \n",
            "\n",
            "Storing new best model.\n",
            "\n",
            "Epoch 5\n",
            "----------------------------\n",
            "loss: 4.081413 [    0/50000]\n",
            "loss: 4.139066 [10000/50000]\n",
            "loss: 3.926541 [20000/50000]\n",
            "loss: 3.669839 [30000/50000]\n",
            "Test Error: \n",
            " Accuracy: 2.4%, Avg loss: 3.746618 \n",
            "\n",
            "Storing new best model.\n",
            "\n",
            "Epoch 6\n",
            "----------------------------\n",
            "loss: 3.785220 [    0/50000]\n",
            "loss: 3.682405 [10000/50000]\n",
            "loss: 3.661109 [20000/50000]\n",
            "loss: 3.594737 [30000/50000]\n",
            "Test Error: \n",
            " Accuracy: 3.2%, Avg loss: 3.564607 \n",
            "\n",
            "Storing new best model.\n",
            "\n",
            "Epoch 7\n",
            "----------------------------\n",
            "loss: 3.560427 [    0/50000]\n",
            "loss: 3.394050 [10000/50000]\n",
            "loss: 3.507791 [20000/50000]\n",
            "loss: 3.528861 [30000/50000]\n",
            "Test Error: \n",
            " Accuracy: 3.7%, Avg loss: 3.390065 \n",
            "\n",
            "Storing new best model.\n",
            "\n",
            "Epoch 8\n",
            "----------------------------\n",
            "loss: 3.191101 [    0/50000]\n",
            "loss: 3.180560 [10000/50000]\n",
            "loss: 3.448958 [20000/50000]\n",
            "loss: 2.990329 [30000/50000]\n"
          ]
        },
        {
          "output_type": "error",
          "ename": "KeyboardInterrupt",
          "evalue": "ignored",
          "traceback": [
            "\u001b[0;31m---------------------------------------------------------------------------\u001b[0m",
            "\u001b[0;31mKeyboardInterrupt\u001b[0m                         Traceback (most recent call last)",
            "\u001b[0;32m<ipython-input-35-01291b5a5d6a>\u001b[0m in \u001b[0;36m<module>\u001b[0;34m()\u001b[0m\n\u001b[1;32m      1\u001b[0m training_loop(n_epochs, model, train_dataloader, valid_dataloader, loss_fn,\n\u001b[0;32m----> 2\u001b[0;31m               optimizer, early_stopping=True)\n\u001b[0m",
            "\u001b[0;32m<ipython-input-13-0ce3f2bebc9c>\u001b[0m in \u001b[0;36mtraining_loop\u001b[0;34m(n_epochs, model, train_data, test_data, loss_function, optimizer, early_stopping, patience)\u001b[0m\n\u001b[1;32m      8\u001b[0m   \u001b[0;32mfor\u001b[0m \u001b[0me\u001b[0m \u001b[0;32min\u001b[0m \u001b[0mrange\u001b[0m\u001b[0;34m(\u001b[0m\u001b[0mn_epochs\u001b[0m\u001b[0;34m)\u001b[0m\u001b[0;34m:\u001b[0m\u001b[0;34m\u001b[0m\u001b[0;34m\u001b[0m\u001b[0m\n\u001b[1;32m      9\u001b[0m     \u001b[0mprint\u001b[0m\u001b[0;34m(\u001b[0m\u001b[0;34mf\"\\nEpoch {e+1}\\n----------------------------\"\u001b[0m\u001b[0;34m)\u001b[0m\u001b[0;34m\u001b[0m\u001b[0;34m\u001b[0m\u001b[0m\n\u001b[0;32m---> 10\u001b[0;31m     \u001b[0mtrain\u001b[0m\u001b[0;34m(\u001b[0m\u001b[0mtrain_data\u001b[0m\u001b[0;34m,\u001b[0m \u001b[0mmodel\u001b[0m\u001b[0;34m,\u001b[0m \u001b[0mloss_function\u001b[0m\u001b[0;34m,\u001b[0m \u001b[0moptimizer\u001b[0m\u001b[0;34m)\u001b[0m\u001b[0;34m\u001b[0m\u001b[0;34m\u001b[0m\u001b[0m\n\u001b[0m\u001b[1;32m     11\u001b[0m     \u001b[0mtest_loss\u001b[0m \u001b[0;34m=\u001b[0m \u001b[0mtest\u001b[0m\u001b[0;34m(\u001b[0m\u001b[0mtest_data\u001b[0m\u001b[0;34m,\u001b[0m \u001b[0mmodel\u001b[0m\u001b[0;34m,\u001b[0m \u001b[0mloss_function\u001b[0m\u001b[0;34m)\u001b[0m\u001b[0;34m\u001b[0m\u001b[0;34m\u001b[0m\u001b[0m\n\u001b[1;32m     12\u001b[0m \u001b[0;34m\u001b[0m\u001b[0m\n",
            "\u001b[0;32m<ipython-input-10-737242d4f6e4>\u001b[0m in \u001b[0;36mtrain\u001b[0;34m(dataloader, model, loss_fn, optimizer)\u001b[0m\n\u001b[1;32m      4\u001b[0m   \u001b[0mmodel\u001b[0m\u001b[0;34m.\u001b[0m\u001b[0mtrain\u001b[0m\u001b[0;34m(\u001b[0m\u001b[0;34m)\u001b[0m\u001b[0;34m\u001b[0m\u001b[0;34m\u001b[0m\u001b[0m\n\u001b[1;32m      5\u001b[0m   \u001b[0;32mfor\u001b[0m \u001b[0mbatch\u001b[0m\u001b[0;34m,\u001b[0m \u001b[0;34m(\u001b[0m\u001b[0mX\u001b[0m\u001b[0;34m,\u001b[0m \u001b[0my\u001b[0m\u001b[0;34m)\u001b[0m \u001b[0;32min\u001b[0m \u001b[0menumerate\u001b[0m\u001b[0;34m(\u001b[0m\u001b[0mdataloader\u001b[0m\u001b[0;34m)\u001b[0m\u001b[0;34m:\u001b[0m\u001b[0;34m\u001b[0m\u001b[0;34m\u001b[0m\u001b[0m\n\u001b[0;32m----> 6\u001b[0;31m     \u001b[0mX\u001b[0m\u001b[0;34m,\u001b[0m \u001b[0my\u001b[0m \u001b[0;34m=\u001b[0m \u001b[0mX\u001b[0m\u001b[0;34m.\u001b[0m\u001b[0mto\u001b[0m\u001b[0;34m(\u001b[0m\u001b[0mdevice\u001b[0m\u001b[0;34m)\u001b[0m\u001b[0;34m,\u001b[0m \u001b[0my\u001b[0m\u001b[0;34m.\u001b[0m\u001b[0mto\u001b[0m\u001b[0;34m(\u001b[0m\u001b[0mdevice\u001b[0m\u001b[0;34m)\u001b[0m\u001b[0;34m\u001b[0m\u001b[0;34m\u001b[0m\u001b[0m\n\u001b[0m\u001b[1;32m      7\u001b[0m \u001b[0;34m\u001b[0m\u001b[0m\n\u001b[1;32m      8\u001b[0m     \u001b[0;31m# Compute prediction error\u001b[0m\u001b[0;34m\u001b[0m\u001b[0;34m\u001b[0m\u001b[0;34m\u001b[0m\u001b[0m\n",
            "\u001b[0;31mKeyboardInterrupt\u001b[0m: "
          ]
        }
      ]
    },
    {
      "cell_type": "markdown",
      "metadata": {
        "id": "ag8mS2tK0Sl-"
      },
      "source": [
        "# Results on CIFAR100:"
      ]
    },
    {
      "cell_type": "markdown",
      "metadata": {
        "id": "iflio0cX0U_5"
      },
      "source": [
        "## Eight layer model\n",
        "\n",
        "### Architecture\n",
        "        # 1st layer\n",
        "        nn.Conv2d(3, 256, (3,3), padding='same'),\n",
        "        nn.ReLU(),\n",
        "        # 2nd layer\n",
        "        nn.Conv2d(256, 128, (3,3), padding='same'),\n",
        "        nn.ReLU(),\n",
        "        nn.MaxPool2d(2),\n",
        "        # 3rd layer - 16x16\n",
        "        nn.Conv2d(128, 64, (3,3), padding='same'),\n",
        "        nn.ReLU(),\n",
        "        # 4th layer\n",
        "        nn.Conv2d(64, 32, (3,3), padding='same'),\n",
        "        nn.ReLU(),\n",
        "        nn.MaxPool2d(2),\n",
        "        # 5th layer - 8x8\n",
        "        nn.Conv2d(32, 32, (3,3), padding='same'),\n",
        "        nn.ReLU(),\n",
        "        # 6th layer\n",
        "        nn.Conv2d(32, 16, (3,3), padding='same'),\n",
        "        nn.ReLU(),\n",
        "        nn.MaxPool2d(2),\n",
        "        # 7th layer - 4x4\n",
        "        nn.Conv2d(16, 16, (3,3), padding='same'),\n",
        "        nn.ReLU(),\n",
        "        # 8th layer\n",
        "        nn.Conv2d(16, 16, (3,3), padding='same'),\n",
        "        nn.ReLU(),\n",
        "\n",
        "### Trials\n",
        "- \n",
        "\n",
        "## Six layer model\n",
        "\n",
        "### Architecture\n",
        "- 32 x 32 x 256 conv, ReLU - (3,3), 256\n",
        "- Maxpool (2,2)\n",
        "- 16 x 16 x 128 conv, ReLU - (3,3), 128\n",
        "- Maxpool (2,2)\n",
        "- 8 x 8 x 64 conv, ReLU - (3,3), 64\n",
        "- Maxpool (2,2)\n",
        "- 4 x 4 x 32 conv, ReLU - (3,3), 32\n",
        "- 4 x 4 x 16 conv, ReLU - (3,3), 16\n",
        "- Flatten\n",
        "- Fully connect layer (256, 100)\n",
        "\n",
        "### Trials\n",
        "- 7.3% / 2.499734\n",
        "  - SGD\n",
        "  - `lr = 5e-2`\n",
        "  - Validation accuracy - 7.3% @ 20 epochs\n",
        "  - Avg loss - 2.499734\n",
        "- 7.4% / 2.490613\n",
        "  - SGD\n",
        "  - `lr = 1e-2`\n",
        "  - Validation accuracy - 7.4% @ 65 epochs\n",
        "  - Avg loss - 2.490613\n"
      ]
    },
    {
      "cell_type": "markdown",
      "metadata": {
        "id": "KK31_tvQLkRo"
      },
      "source": [
        "# Results on CIFAR10:"
      ]
    },
    {
      "cell_type": "markdown",
      "metadata": {
        "id": "53YZcWbELoEm"
      },
      "source": [
        "## Six layer model (current best)\n",
        "- Test accuracy: 72.7%\n",
        "- Avg loss: 1.733851\n",
        "\n",
        "Architecture:\n",
        "- 32 x 32 x 256 conv, ReLU - (3,3), 256\n",
        "- Maxpool (2,2)\n",
        "- 16 x 16 x 128 conv, ReLU - (3,3), 128\n",
        "- Maxpool (2,2)\n",
        "- 8 x 8 x 64 conv, ReLU - (3,3), 64\n",
        "- Maxpool (2,2)\n",
        "- 4 x 4 x 32 conv, ReLU - (3,3), 32\n",
        "- 4 x 4 x 16 conv, ReLU - (3,3), 16\n",
        "- Flatten\n",
        "- Fully connect layer (256, 10)"
      ]
    },
    {
      "cell_type": "code",
      "metadata": {
        "id": "imBDYEwbYp2V"
      },
      "source": [
        " "
      ],
      "execution_count": null,
      "outputs": []
    }
  ]
}