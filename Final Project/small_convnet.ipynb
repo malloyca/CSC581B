{
  "nbformat": 4,
  "nbformat_minor": 0,
  "metadata": {
    "colab": {
      "name": "small_convnet.ipynb",
      "provenance": [],
      "authorship_tag": "ABX9TyOqNLz9NUSV0mX+01OHXBxd",
      "include_colab_link": true
    },
    "kernelspec": {
      "name": "python3",
      "display_name": "Python 3"
    },
    "language_info": {
      "name": "python"
    },
    "accelerator": "GPU",
    "widgets": {
      "application/vnd.jupyter.widget-state+json": {
        "1549076193ce48aa908293ccd0c3bdea": {
          "model_module": "@jupyter-widgets/controls",
          "model_name": "HBoxModel",
          "model_module_version": "1.5.0",
          "state": {
            "_view_name": "HBoxView",
            "_dom_classes": [],
            "_model_name": "HBoxModel",
            "_view_module": "@jupyter-widgets/controls",
            "_model_module_version": "1.5.0",
            "_view_count": null,
            "_view_module_version": "1.5.0",
            "box_style": "",
            "layout": "IPY_MODEL_fcd9ab4a2b9746419fca1d91ff583b50",
            "_model_module": "@jupyter-widgets/controls",
            "children": [
              "IPY_MODEL_c64286dd98a143c7a3948009e5f37927",
              "IPY_MODEL_73446859fb9844d09e3ba7368fe32940",
              "IPY_MODEL_c3a67cfeb8f549318094ca209550c076"
            ]
          }
        },
        "fcd9ab4a2b9746419fca1d91ff583b50": {
          "model_module": "@jupyter-widgets/base",
          "model_name": "LayoutModel",
          "model_module_version": "1.2.0",
          "state": {
            "_view_name": "LayoutView",
            "grid_template_rows": null,
            "right": null,
            "justify_content": null,
            "_view_module": "@jupyter-widgets/base",
            "overflow": null,
            "_model_module_version": "1.2.0",
            "_view_count": null,
            "flex_flow": null,
            "width": null,
            "min_width": null,
            "border": null,
            "align_items": null,
            "bottom": null,
            "_model_module": "@jupyter-widgets/base",
            "top": null,
            "grid_column": null,
            "overflow_y": null,
            "overflow_x": null,
            "grid_auto_flow": null,
            "grid_area": null,
            "grid_template_columns": null,
            "flex": null,
            "_model_name": "LayoutModel",
            "justify_items": null,
            "grid_row": null,
            "max_height": null,
            "align_content": null,
            "visibility": null,
            "align_self": null,
            "height": null,
            "min_height": null,
            "padding": null,
            "grid_auto_rows": null,
            "grid_gap": null,
            "max_width": null,
            "order": null,
            "_view_module_version": "1.2.0",
            "grid_template_areas": null,
            "object_position": null,
            "object_fit": null,
            "grid_auto_columns": null,
            "margin": null,
            "display": null,
            "left": null
          }
        },
        "c64286dd98a143c7a3948009e5f37927": {
          "model_module": "@jupyter-widgets/controls",
          "model_name": "HTMLModel",
          "model_module_version": "1.5.0",
          "state": {
            "_view_name": "HTMLView",
            "style": "IPY_MODEL_852073c06e3f41458e8dc1370001fe22",
            "_dom_classes": [],
            "description": "",
            "_model_name": "HTMLModel",
            "placeholder": "​",
            "_view_module": "@jupyter-widgets/controls",
            "_model_module_version": "1.5.0",
            "value": "",
            "_view_count": null,
            "_view_module_version": "1.5.0",
            "description_tooltip": null,
            "_model_module": "@jupyter-widgets/controls",
            "layout": "IPY_MODEL_846b5a7f25354d7289f651dc2213d1e2"
          }
        },
        "73446859fb9844d09e3ba7368fe32940": {
          "model_module": "@jupyter-widgets/controls",
          "model_name": "FloatProgressModel",
          "model_module_version": "1.5.0",
          "state": {
            "_view_name": "ProgressView",
            "style": "IPY_MODEL_314b0deb3c044fb68064f307eda4ec6d",
            "_dom_classes": [],
            "description": "",
            "_model_name": "FloatProgressModel",
            "bar_style": "success",
            "max": 169001437,
            "_view_module": "@jupyter-widgets/controls",
            "_model_module_version": "1.5.0",
            "value": 169001437,
            "_view_count": null,
            "_view_module_version": "1.5.0",
            "orientation": "horizontal",
            "min": 0,
            "description_tooltip": null,
            "_model_module": "@jupyter-widgets/controls",
            "layout": "IPY_MODEL_41d157908de74edb827063d5e4b2df06"
          }
        },
        "c3a67cfeb8f549318094ca209550c076": {
          "model_module": "@jupyter-widgets/controls",
          "model_name": "HTMLModel",
          "model_module_version": "1.5.0",
          "state": {
            "_view_name": "HTMLView",
            "style": "IPY_MODEL_2a7b7598a3fe40f0abbfeed8fd8f869a",
            "_dom_classes": [],
            "description": "",
            "_model_name": "HTMLModel",
            "placeholder": "​",
            "_view_module": "@jupyter-widgets/controls",
            "_model_module_version": "1.5.0",
            "value": " 169001984/? [00:03&lt;00:00, 52812289.10it/s]",
            "_view_count": null,
            "_view_module_version": "1.5.0",
            "description_tooltip": null,
            "_model_module": "@jupyter-widgets/controls",
            "layout": "IPY_MODEL_ce8a45532f364b44ba91e690f1167284"
          }
        },
        "852073c06e3f41458e8dc1370001fe22": {
          "model_module": "@jupyter-widgets/controls",
          "model_name": "DescriptionStyleModel",
          "model_module_version": "1.5.0",
          "state": {
            "_view_name": "StyleView",
            "_model_name": "DescriptionStyleModel",
            "description_width": "",
            "_view_module": "@jupyter-widgets/base",
            "_model_module_version": "1.5.0",
            "_view_count": null,
            "_view_module_version": "1.2.0",
            "_model_module": "@jupyter-widgets/controls"
          }
        },
        "846b5a7f25354d7289f651dc2213d1e2": {
          "model_module": "@jupyter-widgets/base",
          "model_name": "LayoutModel",
          "model_module_version": "1.2.0",
          "state": {
            "_view_name": "LayoutView",
            "grid_template_rows": null,
            "right": null,
            "justify_content": null,
            "_view_module": "@jupyter-widgets/base",
            "overflow": null,
            "_model_module_version": "1.2.0",
            "_view_count": null,
            "flex_flow": null,
            "width": null,
            "min_width": null,
            "border": null,
            "align_items": null,
            "bottom": null,
            "_model_module": "@jupyter-widgets/base",
            "top": null,
            "grid_column": null,
            "overflow_y": null,
            "overflow_x": null,
            "grid_auto_flow": null,
            "grid_area": null,
            "grid_template_columns": null,
            "flex": null,
            "_model_name": "LayoutModel",
            "justify_items": null,
            "grid_row": null,
            "max_height": null,
            "align_content": null,
            "visibility": null,
            "align_self": null,
            "height": null,
            "min_height": null,
            "padding": null,
            "grid_auto_rows": null,
            "grid_gap": null,
            "max_width": null,
            "order": null,
            "_view_module_version": "1.2.0",
            "grid_template_areas": null,
            "object_position": null,
            "object_fit": null,
            "grid_auto_columns": null,
            "margin": null,
            "display": null,
            "left": null
          }
        },
        "314b0deb3c044fb68064f307eda4ec6d": {
          "model_module": "@jupyter-widgets/controls",
          "model_name": "ProgressStyleModel",
          "model_module_version": "1.5.0",
          "state": {
            "_view_name": "StyleView",
            "_model_name": "ProgressStyleModel",
            "description_width": "",
            "_view_module": "@jupyter-widgets/base",
            "_model_module_version": "1.5.0",
            "_view_count": null,
            "_view_module_version": "1.2.0",
            "bar_color": null,
            "_model_module": "@jupyter-widgets/controls"
          }
        },
        "41d157908de74edb827063d5e4b2df06": {
          "model_module": "@jupyter-widgets/base",
          "model_name": "LayoutModel",
          "model_module_version": "1.2.0",
          "state": {
            "_view_name": "LayoutView",
            "grid_template_rows": null,
            "right": null,
            "justify_content": null,
            "_view_module": "@jupyter-widgets/base",
            "overflow": null,
            "_model_module_version": "1.2.0",
            "_view_count": null,
            "flex_flow": null,
            "width": null,
            "min_width": null,
            "border": null,
            "align_items": null,
            "bottom": null,
            "_model_module": "@jupyter-widgets/base",
            "top": null,
            "grid_column": null,
            "overflow_y": null,
            "overflow_x": null,
            "grid_auto_flow": null,
            "grid_area": null,
            "grid_template_columns": null,
            "flex": null,
            "_model_name": "LayoutModel",
            "justify_items": null,
            "grid_row": null,
            "max_height": null,
            "align_content": null,
            "visibility": null,
            "align_self": null,
            "height": null,
            "min_height": null,
            "padding": null,
            "grid_auto_rows": null,
            "grid_gap": null,
            "max_width": null,
            "order": null,
            "_view_module_version": "1.2.0",
            "grid_template_areas": null,
            "object_position": null,
            "object_fit": null,
            "grid_auto_columns": null,
            "margin": null,
            "display": null,
            "left": null
          }
        },
        "2a7b7598a3fe40f0abbfeed8fd8f869a": {
          "model_module": "@jupyter-widgets/controls",
          "model_name": "DescriptionStyleModel",
          "model_module_version": "1.5.0",
          "state": {
            "_view_name": "StyleView",
            "_model_name": "DescriptionStyleModel",
            "description_width": "",
            "_view_module": "@jupyter-widgets/base",
            "_model_module_version": "1.5.0",
            "_view_count": null,
            "_view_module_version": "1.2.0",
            "_model_module": "@jupyter-widgets/controls"
          }
        },
        "ce8a45532f364b44ba91e690f1167284": {
          "model_module": "@jupyter-widgets/base",
          "model_name": "LayoutModel",
          "model_module_version": "1.2.0",
          "state": {
            "_view_name": "LayoutView",
            "grid_template_rows": null,
            "right": null,
            "justify_content": null,
            "_view_module": "@jupyter-widgets/base",
            "overflow": null,
            "_model_module_version": "1.2.0",
            "_view_count": null,
            "flex_flow": null,
            "width": null,
            "min_width": null,
            "border": null,
            "align_items": null,
            "bottom": null,
            "_model_module": "@jupyter-widgets/base",
            "top": null,
            "grid_column": null,
            "overflow_y": null,
            "overflow_x": null,
            "grid_auto_flow": null,
            "grid_area": null,
            "grid_template_columns": null,
            "flex": null,
            "_model_name": "LayoutModel",
            "justify_items": null,
            "grid_row": null,
            "max_height": null,
            "align_content": null,
            "visibility": null,
            "align_self": null,
            "height": null,
            "min_height": null,
            "padding": null,
            "grid_auto_rows": null,
            "grid_gap": null,
            "max_width": null,
            "order": null,
            "_view_module_version": "1.2.0",
            "grid_template_areas": null,
            "object_position": null,
            "object_fit": null,
            "grid_auto_columns": null,
            "margin": null,
            "display": null,
            "left": null
          }
        }
      }
    }
  },
  "cells": [
    {
      "cell_type": "markdown",
      "metadata": {
        "id": "view-in-github",
        "colab_type": "text"
      },
      "source": [
        "<a href=\"https://colab.research.google.com/github/malloyca/CSC581B/blob/main/Final%20Project/small_convnet.ipynb\" target=\"_parent\"><img src=\"https://colab.research.google.com/assets/colab-badge.svg\" alt=\"Open In Colab\"/></a>"
      ]
    },
    {
      "cell_type": "markdown",
      "metadata": {
        "id": "9PEXOKNd_15u"
      },
      "source": [
        "# Notes\n",
        "\n",
        "- Complete trial with eight layer model\n",
        "- Add batch normalization\n",
        "- Add more feedback to early stopping\n",
        "  - accuracy and loss for that epoch\n",
        "- Ideas for improving the performance"
      ]
    },
    {
      "cell_type": "code",
      "metadata": {
        "id": "NI3XLmYiD-UJ"
      },
      "source": [
        "# imports\n",
        "import torch\n",
        "from torch import nn\n",
        "from torch.utils.data import DataLoader, SubsetRandomSampler\n",
        "from torchvision import datasets\n",
        "from torchvision.transforms import ToTensor, Compose, Normalize\n",
        "from sklearn.model_selection import train_test_split\n",
        "import matplotlib.pyplot as plt\n",
        "import copy\n",
        "import numpy as np\n"
      ],
      "execution_count": 1,
      "outputs": []
    },
    {
      "cell_type": "code",
      "metadata": {
        "colab": {
          "base_uri": "https://localhost:8080/",
          "height": 100,
          "referenced_widgets": [
            "1549076193ce48aa908293ccd0c3bdea",
            "fcd9ab4a2b9746419fca1d91ff583b50",
            "c64286dd98a143c7a3948009e5f37927",
            "73446859fb9844d09e3ba7368fe32940",
            "c3a67cfeb8f549318094ca209550c076",
            "852073c06e3f41458e8dc1370001fe22",
            "846b5a7f25354d7289f651dc2213d1e2",
            "314b0deb3c044fb68064f307eda4ec6d",
            "41d157908de74edb827063d5e4b2df06",
            "2a7b7598a3fe40f0abbfeed8fd8f869a",
            "ce8a45532f364b44ba91e690f1167284"
          ]
        },
        "id": "BuXW8boJEcrA",
        "outputId": "257919cd-402f-4771-97a9-a879cde8ceca"
      },
      "source": [
        "# Load the training data (CIFAR10 to start)\n",
        "training_data = datasets.CIFAR100(\n",
        "    root = \"data\",\n",
        "    train = True,\n",
        "    download = True,\n",
        "    transform = Compose([ToTensor(),\n",
        "                        Normalize([0.5071, 0.4867, 0.4408],\n",
        "                                  [0.2675, 0.2565, 0.2761])])\n",
        ")\n",
        "\n",
        "# Load the test data\n",
        "test_data = datasets.CIFAR100(\n",
        "    root = \"data\",\n",
        "    train = False,\n",
        "    download = True,\n",
        "    transform = ToTensor()\n",
        ")"
      ],
      "execution_count": 2,
      "outputs": [
        {
          "output_type": "stream",
          "name": "stdout",
          "text": [
            "Downloading https://www.cs.toronto.edu/~kriz/cifar-100-python.tar.gz to data/cifar-100-python.tar.gz\n"
          ]
        },
        {
          "output_type": "display_data",
          "data": {
            "application/vnd.jupyter.widget-view+json": {
              "model_id": "1549076193ce48aa908293ccd0c3bdea",
              "version_minor": 0,
              "version_major": 2
            },
            "text/plain": [
              "  0%|          | 0/169001437 [00:00<?, ?it/s]"
            ]
          },
          "metadata": {}
        },
        {
          "output_type": "stream",
          "name": "stdout",
          "text": [
            "Extracting data/cifar-100-python.tar.gz to data\n",
            "Files already downloaded and verified\n"
          ]
        }
      ]
    },
    {
      "cell_type": "code",
      "metadata": {
        "id": "YyVJ8ne8xjKt"
      },
      "source": [
        "training_targets = training_data.targets"
      ],
      "execution_count": 3,
      "outputs": []
    },
    {
      "cell_type": "code",
      "metadata": {
        "id": "mMQ119G7xmDK"
      },
      "source": [
        "train_split_index, valid_split_index = train_test_split(\n",
        "    np.arange(len(training_targets)), test_size=0.2, stratify=training_targets\n",
        ")"
      ],
      "execution_count": 4,
      "outputs": []
    },
    {
      "cell_type": "code",
      "metadata": {
        "id": "BZ2dy9pmEwz6"
      },
      "source": [
        "batch_size = 100\n",
        "\n",
        "# Create data loaders\n",
        "train_dataloader = DataLoader(training_data, batch_size=batch_size,\n",
        "                              sampler=SubsetRandomSampler(train_split_index))\n",
        "valid_dataloader = DataLoader(training_data, batch_size=batch_size,\n",
        "                              sampler=SubsetRandomSampler(valid_split_index))\n",
        "test_dataloader = DataLoader(test_data, batch_size=batch_size)"
      ],
      "execution_count": 5,
      "outputs": []
    },
    {
      "cell_type": "code",
      "metadata": {
        "colab": {
          "base_uri": "https://localhost:8080/"
        },
        "id": "mE6plIy9E2D_",
        "outputId": "e271523c-62bc-46a8-e708-67eb8a531b06"
      },
      "source": [
        "# Check that it is splitting the data properly\n",
        "train_length = 0\n",
        "for _, y in train_dataloader:\n",
        "  train_length += len(y)\n",
        "print(f\"Length of training split: {train_length}\")\n",
        "\n",
        "valid_length = 0\n",
        "for _, y in valid_dataloader:\n",
        "  valid_length += len(y)\n",
        "print(f\"Length of validation split: {valid_length}\")\n",
        "\n",
        "test_length = 0\n",
        "for _, y in test_dataloader:\n",
        "  test_length += len(y)\n",
        "print(f\"Length of test split: {test_length}\")"
      ],
      "execution_count": 6,
      "outputs": [
        {
          "output_type": "stream",
          "name": "stdout",
          "text": [
            "Length of training split: 40000\n",
            "Length of validation split: 10000\n",
            "Length of test split: 10000\n"
          ]
        }
      ]
    },
    {
      "cell_type": "code",
      "metadata": {
        "colab": {
          "base_uri": "https://localhost:8080/"
        },
        "id": "QG4cwo9Ox9-Z",
        "outputId": "d4bf6694-5be2-4093-e96a-ed81c80b983b"
      },
      "source": [
        "# Check that there are 100 instances of each class in the validation set\n",
        "count = 0\n",
        "for _, y in valid_dataloader:\n",
        "  for target in y:\n",
        "    if int(target.numpy()) == 0:\n",
        "      count += 1\n",
        "\n",
        "print(count)"
      ],
      "execution_count": 7,
      "outputs": [
        {
          "output_type": "stream",
          "name": "stdout",
          "text": [
            "100\n"
          ]
        }
      ]
    },
    {
      "cell_type": "markdown",
      "metadata": {
        "id": "PGQGFOcoFAeO"
      },
      "source": [
        "# Building basic convolutional neural nets"
      ]
    },
    {
      "cell_type": "code",
      "metadata": {
        "colab": {
          "base_uri": "https://localhost:8080/"
        },
        "id": "tuGLhBqQE_xI",
        "outputId": "2fcfc9eb-52c6-4919-ca13-8e595fc9c34c"
      },
      "source": [
        "device = \"cuda\" if torch.cuda.is_available() else \"cpu\"\n",
        "print(device)"
      ],
      "execution_count": 8,
      "outputs": [
        {
          "output_type": "stream",
          "name": "stdout",
          "text": [
            "cuda\n"
          ]
        }
      ]
    },
    {
      "cell_type": "code",
      "metadata": {
        "id": "0H5TNXTJE4Nd"
      },
      "source": [
        "# Define the model\n",
        "class basicConvNet(nn.Module):\n",
        "  def __init__(self, name):\n",
        "    super(basicConvNet, self).__init__()\n",
        "    self.name = name\n",
        "    self.basic_conv_net = nn.Sequential(\n",
        "        # 1st layer\n",
        "        nn.Conv2d(3, 256, (3,3), padding='same'),\n",
        "        nn.BatchNorm2d(256),\n",
        "        nn.ReLU(),\n",
        "        # 2nd layer\n",
        "        nn.Conv2d(256, 128, (3,3), padding='same'),\n",
        "        nn.BatchNorm2d(128),\n",
        "        nn.ReLU(),\n",
        "        nn.MaxPool2d(2),\n",
        "        # 3rd layer - 16x16\n",
        "        nn.Conv2d(128, 64, (3,3), padding='same'),\n",
        "        nn.BatchNorm2d(64),\n",
        "        nn.ReLU(),\n",
        "        # 4th layer\n",
        "        nn.Conv2d(64, 32, (3,3), padding='same'),\n",
        "        nn.BatchNorm2d(32),\n",
        "        nn.ReLU(),\n",
        "        nn.MaxPool2d(2),\n",
        "        # 5th layer - 8x8\n",
        "        nn.Conv2d(32, 32, (3,3), padding='same'),\n",
        "        nn.BatchNorm2d(32),\n",
        "        nn.ReLU(),\n",
        "        # 6th layer\n",
        "        nn.Conv2d(32, 16, (3,3), padding='same'),\n",
        "        nn.BatchNorm2d(16),\n",
        "        nn.ReLU(),\n",
        "        nn.MaxPool2d(2),\n",
        "        # 7th layer - 4x4\n",
        "        nn.Conv2d(16, 16, (3,3), padding='same'),\n",
        "        nn.BatchNorm2d(16),\n",
        "        nn.ReLU(),\n",
        "        # 8th layer\n",
        "        nn.Conv2d(16, 16, (3,3), padding='same'),\n",
        "        nn.BatchNorm2d(16),\n",
        "        nn.ReLU(),\n",
        "    )\n",
        "    self.flatten = nn.Flatten()\n",
        "    self.output = nn.Linear(16*4*4, 100)\n",
        "\n",
        "  # Forward propagation\n",
        "  def forward(self, x):\n",
        "    x = self.basic_conv_net(x)\n",
        "    x = self.flatten(x)\n",
        "    x = self.output(x)\n",
        "    return x\n",
        "      "
      ],
      "execution_count": 9,
      "outputs": []
    },
    {
      "cell_type": "markdown",
      "metadata": {
        "id": "iAZtckp9BsSU"
      },
      "source": [
        "#### Six layer model\n",
        "\n",
        "        # 1st layer\n",
        "        nn.Conv2d(3, 256, (3,3), padding='same'),\n",
        "        nn.ReLU(),\n",
        "        nn.MaxPool2d(2),\n",
        "        # 2nd layer\n",
        "        nn.Conv2d(256, 128, (3,3), padding='same'),\n",
        "        nn.ReLU(),\n",
        "        nn.MaxPool2d(2),\n",
        "        # 3rd layer\n",
        "        nn.Conv2d(128, 64, (3,3), padding='same'),\n",
        "        nn.ReLU(),\n",
        "        nn.MaxPool2d(2),\n",
        "        # 4th layer\n",
        "        nn.Conv2d(64, 32, (3,3), padding='same'),\n",
        "        nn.ReLU(),\n",
        "        #nn.MaxPool2d((2,2)),\n",
        "        # 5th layer\n",
        "        nn.Conv2d(32, 32, (3,3), padding='same'),\n",
        "        nn.ReLU(),\n",
        "        #nn.MaxPool2d((2,2)),\n",
        "        # 6th layer\n",
        "        nn.Conv2d(32, 16, (3,3), padding='same'),\n",
        "        nn.ReLU(),"
      ]
    },
    {
      "cell_type": "code",
      "metadata": {
        "id": "rQGk95EKWan5"
      },
      "source": [
        "# Training loop\n",
        "def train(dataloader, model, loss_fn, optimizer):\n",
        "  size = len(dataloader.dataset)\n",
        "  model.train()\n",
        "  for batch, (X, y) in enumerate(dataloader):\n",
        "    X, y = X.to(device), y.to(device)\n",
        "\n",
        "    # Compute prediction error\n",
        "    pred = model(X)\n",
        "    loss = loss_fn(pred, y)\n",
        "\n",
        "    # Backprop\n",
        "    optimizer.zero_grad()\n",
        "    loss.backward()\n",
        "    optimizer.step()\n",
        "\n",
        "    if batch % 100 == 0:\n",
        "      loss, current = loss.item(), batch * len(X)\n",
        "      print(f\"loss: {loss:>7f} [{current:>5d}/{size:>5d}]\")"
      ],
      "execution_count": 10,
      "outputs": []
    },
    {
      "cell_type": "code",
      "metadata": {
        "id": "4I_S627HXLWz"
      },
      "source": [
        "# Test function\n",
        "def test(dataloader, model, loss_fn):\n",
        "  size = len(dataloader.dataset)\n",
        "  num_batches = len(dataloader)\n",
        "  model.eval()\n",
        "  test_loss, correct = 0, 0\n",
        "  with torch.no_grad():\n",
        "    for X, y in dataloader:\n",
        "      X, y = X.to(device), y.to(device)\n",
        "      pred = model(X)\n",
        "      test_loss += loss_fn(pred, y).item()\n",
        "      correct += (pred.argmax(1) == y).type(torch.float).sum().item()\n",
        "  test_loss /= num_batches\n",
        "  correct /= size\n",
        "  print(f\"Test Error: \\n Accuracy: {(100*correct):>0.1f}%, Avg loss: {test_loss:>8f} \\n\")\n",
        "  return test_loss"
      ],
      "execution_count": 11,
      "outputs": []
    },
    {
      "cell_type": "code",
      "metadata": {
        "id": "hfMapknHYDYO"
      },
      "source": [
        "n_epochs = 100"
      ],
      "execution_count": 12,
      "outputs": []
    },
    {
      "cell_type": "code",
      "metadata": {
        "id": "uypo30igYE2G"
      },
      "source": [
        "def training_loop(n_epochs, model, train_data, test_data, loss_function,\n",
        "                  optimizer, early_stopping=False, patience=10):\n",
        "  current_epoch = 0\n",
        "  best_epoch = 0\n",
        "  best_loss = float('inf')\n",
        "  patience_counter = 0\n",
        "\n",
        "  for e in range(n_epochs):\n",
        "    print(f\"\\nEpoch {e+1}\\n----------------------------\")\n",
        "    train(train_data, model, loss_function, optimizer)\n",
        "    test_loss = test(test_data, model, loss_function)\n",
        "\n",
        "    # Iterate epoch counter\n",
        "    current_epoch += 1\n",
        "\n",
        "    # If early_stopping check test_loss\n",
        "    if early_stopping:\n",
        "      # case: test loss beats the current best loss\n",
        "      if test_loss < best_loss:\n",
        "        # store loss\n",
        "        best_loss = test_loss\n",
        "\n",
        "        # reset patience counter\n",
        "        patience_counter = 0\n",
        "\n",
        "        # store model and epoch number\n",
        "        print(\"Storing new best model.\")\n",
        "        best_model_state_dict = copy.deepcopy(model.state_dict)\n",
        "        best_epoch = current_epoch\n",
        "\n",
        "      # Case: patience limit not yet reached => iterate patience counter\n",
        "      elif patience_counter < patience - 1:\n",
        "        patience_counter += 1\n",
        "        print(f\"Patience count: {patience_counter}\")\n",
        "\n",
        "      # Case: patience limit reached\n",
        "      else:\n",
        "        print(\"Finished due to early stopping.\")\n",
        "        print(f\"Saving best model: {model.name}_epoch-{best_epoch:03d}\")\n",
        "        torch.save(best_model_state_dict, f'{model.name}_epoch-{best_epoch:03d}')\n",
        "        break\n",
        "\n",
        "  # If we get here, we did not stop early - save best model\n",
        "  if early_stopping:\n",
        "    print(f\"Saving best model: {model.name}_epoch-{best_epoch:03d}\")\n",
        "    torch.save(best_model_state_dict, f'{model.name}_epoch-{best_epoch:03d}')"
      ],
      "execution_count": 13,
      "outputs": []
    },
    {
      "cell_type": "code",
      "metadata": {
        "id": "fLQYaHdZTnJK"
      },
      "source": [
        "model = basicConvNet('eight-layer').to(device)"
      ],
      "execution_count": 17,
      "outputs": []
    },
    {
      "cell_type": "code",
      "metadata": {
        "id": "deD1sei_WLmX"
      },
      "source": [
        "# Loss function\n",
        "loss_fn = nn.CrossEntropyLoss()\n",
        "\n",
        "# Optimizer\n",
        "optimizer = torch.optim.SGD(model.parameters(), lr=1e-1)"
      ],
      "execution_count": 18,
      "outputs": []
    },
    {
      "cell_type": "code",
      "metadata": {
        "colab": {
          "base_uri": "https://localhost:8080/",
          "height": 1000
        },
        "id": "k6WkrJ5QYgri",
        "outputId": "15a7ed20-f72a-4745-fa87-cf797ea481fc"
      },
      "source": [
        "training_loop(n_epochs, model, train_dataloader, valid_dataloader, loss_fn,\n",
        "              optimizer, early_stopping=True)"
      ],
      "execution_count": 19,
      "outputs": [
        {
          "output_type": "stream",
          "name": "stdout",
          "text": [
            "\n",
            "Epoch 1\n",
            "----------------------------\n",
            "loss: 4.694826 [    0/50000]\n",
            "loss: 4.002997 [10000/50000]\n",
            "loss: 3.723794 [20000/50000]\n",
            "loss: 3.675746 [30000/50000]\n",
            "Test Error: \n",
            " Accuracy: 3.6%, Avg loss: 3.415369 \n",
            "\n",
            "Storing new best model.\n",
            "\n",
            "Epoch 2\n",
            "----------------------------\n",
            "loss: 3.112849 [    0/50000]\n",
            "loss: 3.100106 [10000/50000]\n",
            "loss: 3.153837 [20000/50000]\n",
            "loss: 3.073881 [30000/50000]\n",
            "Test Error: \n",
            " Accuracy: 4.1%, Avg loss: 3.282987 \n",
            "\n",
            "Storing new best model.\n",
            "\n",
            "Epoch 3\n",
            "----------------------------\n",
            "loss: 2.901283 [    0/50000]\n",
            "loss: 2.641885 [10000/50000]\n",
            "loss: 2.953137 [20000/50000]\n",
            "loss: 2.697954 [30000/50000]\n",
            "Test Error: \n",
            " Accuracy: 4.8%, Avg loss: 3.114553 \n",
            "\n",
            "Storing new best model.\n",
            "\n",
            "Epoch 4\n",
            "----------------------------\n",
            "loss: 2.337440 [    0/50000]\n",
            "loss: 2.417640 [10000/50000]\n",
            "loss: 2.465428 [20000/50000]\n",
            "loss: 2.132274 [30000/50000]\n",
            "Test Error: \n",
            " Accuracy: 6.6%, Avg loss: 2.611512 \n",
            "\n",
            "Storing new best model.\n",
            "\n",
            "Epoch 5\n",
            "----------------------------\n",
            "loss: 2.287745 [    0/50000]\n",
            "loss: 2.356705 [10000/50000]\n",
            "loss: 2.138300 [20000/50000]\n",
            "loss: 2.192832 [30000/50000]\n",
            "Test Error: \n",
            " Accuracy: 7.0%, Avg loss: 2.486071 \n",
            "\n",
            "Storing new best model.\n",
            "\n",
            "Epoch 6\n",
            "----------------------------\n",
            "loss: 2.588817 [    0/50000]\n",
            "loss: 2.107700 [10000/50000]\n",
            "loss: 1.952633 [20000/50000]\n",
            "loss: 2.179897 [30000/50000]\n",
            "Test Error: \n",
            " Accuracy: 7.0%, Avg loss: 2.520166 \n",
            "\n",
            "Patience count: 1\n",
            "\n",
            "Epoch 7\n",
            "----------------------------\n",
            "loss: 1.832567 [    0/50000]\n",
            "loss: 2.215913 [10000/50000]\n",
            "loss: 2.311930 [20000/50000]\n",
            "loss: 1.905803 [30000/50000]\n",
            "Test Error: \n",
            " Accuracy: 7.6%, Avg loss: 2.369910 \n",
            "\n",
            "Storing new best model.\n",
            "\n",
            "Epoch 8\n",
            "----------------------------\n",
            "loss: 1.824097 [    0/50000]\n",
            "loss: 1.857826 [10000/50000]\n",
            "loss: 1.822452 [20000/50000]\n",
            "loss: 2.330381 [30000/50000]\n",
            "Test Error: \n",
            " Accuracy: 7.9%, Avg loss: 2.283920 \n",
            "\n",
            "Storing new best model.\n",
            "\n",
            "Epoch 9\n",
            "----------------------------\n",
            "loss: 2.104869 [    0/50000]\n",
            "loss: 2.049233 [10000/50000]\n",
            "loss: 1.900485 [20000/50000]\n",
            "loss: 1.854588 [30000/50000]\n",
            "Test Error: \n",
            " Accuracy: 7.8%, Avg loss: 2.353611 \n",
            "\n",
            "Patience count: 1\n",
            "\n",
            "Epoch 10\n",
            "----------------------------\n",
            "loss: 1.686540 [    0/50000]\n",
            "loss: 1.757362 [10000/50000]\n",
            "loss: 1.824802 [20000/50000]\n",
            "loss: 1.633337 [30000/50000]\n",
            "Test Error: \n",
            " Accuracy: 7.7%, Avg loss: 2.438959 \n",
            "\n",
            "Patience count: 2\n",
            "\n",
            "Epoch 11\n",
            "----------------------------\n",
            "loss: 1.660789 [    0/50000]\n",
            "loss: 1.491679 [10000/50000]\n",
            "loss: 1.674893 [20000/50000]\n",
            "loss: 1.720490 [30000/50000]\n",
            "Test Error: \n",
            " Accuracy: 8.2%, Avg loss: 2.274223 \n",
            "\n",
            "Storing new best model.\n",
            "\n",
            "Epoch 12\n",
            "----------------------------\n",
            "loss: 1.434150 [    0/50000]\n",
            "loss: 1.335541 [10000/50000]\n",
            "loss: 1.581646 [20000/50000]\n",
            "loss: 1.568491 [30000/50000]\n",
            "Test Error: \n",
            " Accuracy: 7.7%, Avg loss: 2.479835 \n",
            "\n",
            "Patience count: 1\n",
            "\n",
            "Epoch 13\n",
            "----------------------------\n",
            "loss: 1.553350 [    0/50000]\n",
            "loss: 1.809353 [10000/50000]\n"
          ]
        },
        {
          "output_type": "error",
          "ename": "KeyboardInterrupt",
          "evalue": "ignored",
          "traceback": [
            "\u001b[0;31m---------------------------------------------------------------------------\u001b[0m",
            "\u001b[0;31mKeyboardInterrupt\u001b[0m                         Traceback (most recent call last)",
            "\u001b[0;32m<ipython-input-19-01291b5a5d6a>\u001b[0m in \u001b[0;36m<module>\u001b[0;34m()\u001b[0m\n\u001b[1;32m      1\u001b[0m training_loop(n_epochs, model, train_dataloader, valid_dataloader, loss_fn,\n\u001b[0;32m----> 2\u001b[0;31m               optimizer, early_stopping=True)\n\u001b[0m",
            "\u001b[0;32m<ipython-input-13-0ce3f2bebc9c>\u001b[0m in \u001b[0;36mtraining_loop\u001b[0;34m(n_epochs, model, train_data, test_data, loss_function, optimizer, early_stopping, patience)\u001b[0m\n\u001b[1;32m      8\u001b[0m   \u001b[0;32mfor\u001b[0m \u001b[0me\u001b[0m \u001b[0;32min\u001b[0m \u001b[0mrange\u001b[0m\u001b[0;34m(\u001b[0m\u001b[0mn_epochs\u001b[0m\u001b[0;34m)\u001b[0m\u001b[0;34m:\u001b[0m\u001b[0;34m\u001b[0m\u001b[0;34m\u001b[0m\u001b[0m\n\u001b[1;32m      9\u001b[0m     \u001b[0mprint\u001b[0m\u001b[0;34m(\u001b[0m\u001b[0;34mf\"\\nEpoch {e+1}\\n----------------------------\"\u001b[0m\u001b[0;34m)\u001b[0m\u001b[0;34m\u001b[0m\u001b[0;34m\u001b[0m\u001b[0m\n\u001b[0;32m---> 10\u001b[0;31m     \u001b[0mtrain\u001b[0m\u001b[0;34m(\u001b[0m\u001b[0mtrain_data\u001b[0m\u001b[0;34m,\u001b[0m \u001b[0mmodel\u001b[0m\u001b[0;34m,\u001b[0m \u001b[0mloss_function\u001b[0m\u001b[0;34m,\u001b[0m \u001b[0moptimizer\u001b[0m\u001b[0;34m)\u001b[0m\u001b[0;34m\u001b[0m\u001b[0;34m\u001b[0m\u001b[0m\n\u001b[0m\u001b[1;32m     11\u001b[0m     \u001b[0mtest_loss\u001b[0m \u001b[0;34m=\u001b[0m \u001b[0mtest\u001b[0m\u001b[0;34m(\u001b[0m\u001b[0mtest_data\u001b[0m\u001b[0;34m,\u001b[0m \u001b[0mmodel\u001b[0m\u001b[0;34m,\u001b[0m \u001b[0mloss_function\u001b[0m\u001b[0;34m)\u001b[0m\u001b[0;34m\u001b[0m\u001b[0;34m\u001b[0m\u001b[0m\n\u001b[1;32m     12\u001b[0m \u001b[0;34m\u001b[0m\u001b[0m\n",
            "\u001b[0;32m<ipython-input-10-737242d4f6e4>\u001b[0m in \u001b[0;36mtrain\u001b[0;34m(dataloader, model, loss_fn, optimizer)\u001b[0m\n\u001b[1;32m      4\u001b[0m   \u001b[0mmodel\u001b[0m\u001b[0;34m.\u001b[0m\u001b[0mtrain\u001b[0m\u001b[0;34m(\u001b[0m\u001b[0;34m)\u001b[0m\u001b[0;34m\u001b[0m\u001b[0;34m\u001b[0m\u001b[0m\n\u001b[1;32m      5\u001b[0m   \u001b[0;32mfor\u001b[0m \u001b[0mbatch\u001b[0m\u001b[0;34m,\u001b[0m \u001b[0;34m(\u001b[0m\u001b[0mX\u001b[0m\u001b[0;34m,\u001b[0m \u001b[0my\u001b[0m\u001b[0;34m)\u001b[0m \u001b[0;32min\u001b[0m \u001b[0menumerate\u001b[0m\u001b[0;34m(\u001b[0m\u001b[0mdataloader\u001b[0m\u001b[0;34m)\u001b[0m\u001b[0;34m:\u001b[0m\u001b[0;34m\u001b[0m\u001b[0;34m\u001b[0m\u001b[0m\n\u001b[0;32m----> 6\u001b[0;31m     \u001b[0mX\u001b[0m\u001b[0;34m,\u001b[0m \u001b[0my\u001b[0m \u001b[0;34m=\u001b[0m \u001b[0mX\u001b[0m\u001b[0;34m.\u001b[0m\u001b[0mto\u001b[0m\u001b[0;34m(\u001b[0m\u001b[0mdevice\u001b[0m\u001b[0;34m)\u001b[0m\u001b[0;34m,\u001b[0m \u001b[0my\u001b[0m\u001b[0;34m.\u001b[0m\u001b[0mto\u001b[0m\u001b[0;34m(\u001b[0m\u001b[0mdevice\u001b[0m\u001b[0;34m)\u001b[0m\u001b[0;34m\u001b[0m\u001b[0;34m\u001b[0m\u001b[0m\n\u001b[0m\u001b[1;32m      7\u001b[0m \u001b[0;34m\u001b[0m\u001b[0m\n\u001b[1;32m      8\u001b[0m     \u001b[0;31m# Compute prediction error\u001b[0m\u001b[0;34m\u001b[0m\u001b[0;34m\u001b[0m\u001b[0;34m\u001b[0m\u001b[0m\n",
            "\u001b[0;31mKeyboardInterrupt\u001b[0m: "
          ]
        }
      ]
    },
    {
      "cell_type": "markdown",
      "metadata": {
        "id": "ag8mS2tK0Sl-"
      },
      "source": [
        "# Results on CIFAR100:"
      ]
    },
    {
      "cell_type": "markdown",
      "metadata": {
        "id": "iflio0cX0U_5"
      },
      "source": [
        "## Eight layer model\n",
        "\n",
        "### Architecture\n",
        "        # 1st layer\n",
        "        nn.Conv2d(3, 256, (3,3), padding='same'),\n",
        "        nn.BatchNorm2d(256),\n",
        "        nn.ReLU(),\n",
        "        # 2nd layer\n",
        "        nn.Conv2d(256, 128, (3,3), padding='same'),\n",
        "        nn.BatchNorm2d(128),\n",
        "        nn.ReLU(),\n",
        "        nn.MaxPool2d(2),\n",
        "        # 3rd layer - 16x16\n",
        "        nn.Conv2d(128, 64, (3,3), padding='same'),\n",
        "        nn.BatchNorm2d(64),\n",
        "        nn.ReLU(),\n",
        "        # 4th layer\n",
        "        nn.Conv2d(64, 32, (3,3), padding='same'),\n",
        "        nn.BatchNorm2d(32),\n",
        "        nn.ReLU(),\n",
        "        nn.MaxPool2d(2),\n",
        "        # 5th layer - 8x8\n",
        "        nn.Conv2d(32, 32, (3,3), padding='same'),\n",
        "        nn.BatchNorm2d(32),\n",
        "        nn.ReLU(),\n",
        "        # 6th layer\n",
        "        nn.Conv2d(32, 16, (3,3), padding='same'),\n",
        "        nn.BatchNorm2d(16),\n",
        "        nn.ReLU(),\n",
        "        nn.MaxPool2d(2),\n",
        "        # 7th layer - 4x4\n",
        "        nn.Conv2d(16, 16, (3,3), padding='same'),\n",
        "        nn.BatchNorm2d(16),\n",
        "        nn.ReLU(),\n",
        "        # 8th layer\n",
        "        nn.Conv2d(16, 16, (3,3), padding='same'),\n",
        "        nn.BatchNorm2d(16),\n",
        "        nn.ReLU(),\n",
        "\n",
        "### Results\n",
        "- LR = 1e-1\n",
        "- Accuracy: 8.2%, Avg loss: 2.274223 @ 11 epochs => decrease learning rate\n",
        "\n",
        "\n",
        "### Architecture\n",
        "        # 1st layer\n",
        "        nn.Conv2d(3, 256, (3,3), padding='same'),\n",
        "        nn.ReLU(),\n",
        "        # 2nd layer\n",
        "        nn.Conv2d(256, 128, (3,3), padding='same'),\n",
        "        nn.ReLU(),\n",
        "        nn.MaxPool2d(2),\n",
        "        # 3rd layer - 16x16\n",
        "        nn.Conv2d(128, 64, (3,3), padding='same'),\n",
        "        nn.ReLU(),\n",
        "        # 4th layer\n",
        "        nn.Conv2d(64, 32, (3,3), padding='same'),\n",
        "        nn.ReLU(),\n",
        "        nn.MaxPool2d(2),\n",
        "        # 5th layer - 8x8\n",
        "        nn.Conv2d(32, 32, (3,3), padding='same'),\n",
        "        nn.ReLU(),\n",
        "        # 6th layer\n",
        "        nn.Conv2d(32, 16, (3,3), padding='same'),\n",
        "        nn.ReLU(),\n",
        "        nn.MaxPool2d(2),\n",
        "        # 7th layer - 4x4\n",
        "        nn.Conv2d(16, 16, (3,3), padding='same'),\n",
        "        nn.ReLU(),\n",
        "        # 8th layer\n",
        "        nn.Conv2d(16, 16, (3,3), padding='same'),\n",
        "        nn.ReLU(),\n",
        "\n",
        "### Trials\n",
        "- Accuracy: 6.6%, Avg loss: 2.713449 @ 27 epochs\n",
        "\n",
        "## Six layer model\n",
        "\n",
        "### Architecture\n",
        "- 32 x 32 x 256 conv, ReLU - (3,3), 256\n",
        "- Maxpool (2,2)\n",
        "- 16 x 16 x 128 conv, ReLU - (3,3), 128\n",
        "- Maxpool (2,2)\n",
        "- 8 x 8 x 64 conv, ReLU - (3,3), 64\n",
        "- Maxpool (2,2)\n",
        "- 4 x 4 x 32 conv, ReLU - (3,3), 32\n",
        "- 4 x 4 x 16 conv, ReLU - (3,3), 16\n",
        "- Flatten\n",
        "- Fully connect layer (256, 100)\n",
        "\n",
        "### Trials\n",
        "- 7.3% / 2.499734\n",
        "  - SGD\n",
        "  - `lr = 5e-2`\n",
        "  - Validation accuracy - 7.3% @ 20 epochs\n",
        "  - Avg loss - 2.499734\n",
        "- 7.4% / 2.490613\n",
        "  - SGD\n",
        "  - `lr = 1e-2`\n",
        "  - Validation accuracy - 7.4% @ 65 epochs\n",
        "  - Avg loss - 2.490613\n"
      ]
    },
    {
      "cell_type": "markdown",
      "metadata": {
        "id": "KK31_tvQLkRo"
      },
      "source": [
        "# Results on CIFAR10:"
      ]
    },
    {
      "cell_type": "markdown",
      "metadata": {
        "id": "53YZcWbELoEm"
      },
      "source": [
        "## Six layer model (current best)\n",
        "- Test accuracy 72.7%\n",
        "- Avg loss 1.733851\n",
        "\n",
        "### Architecture\n",
        "    # 1st layer\n",
        "    nn.Conv2d(3, 256, (3,3), padding='same'),\n",
        "    nn.ReLU(),\n",
        "    nn.MaxPool2d(2),\n",
        "    # 2nd layer\n",
        "    nn.Conv2d(256, 128, (3,3), padding='same'),\n",
        "    nn.ReLU(),\n",
        "    nn.MaxPool2d(2),\n",
        "    # 3rd layer\n",
        "    nn.Conv2d(128, 64, (3,3), padding='same'),\n",
        "    nn.ReLU(),\n",
        "    nn.MaxPool2d(2),\n",
        "    # 4th layer\n",
        "    nn.Conv2d(64, 32, (3,3), padding='same'),\n",
        "    nn.ReLU(),\n",
        "    #nn.MaxPool2d((2,2)),\n",
        "    # 5th layer\n",
        "    nn.Conv2d(32, 32, (3,3), padding='same'),\n",
        "    nn.ReLU(),\n",
        "    #nn.MaxPool2d((2,2)),\n",
        "    # 6th layer\n",
        "    nn.Conv2d(32, 16, (3,3), padding='same'),\n",
        "    nn.ReLU(),"
      ]
    },
    {
      "cell_type": "code",
      "metadata": {
        "id": "imBDYEwbYp2V"
      },
      "source": [
        " "
      ],
      "execution_count": null,
      "outputs": []
    }
  ]
}