{
  "nbformat": 4,
  "nbformat_minor": 0,
  "metadata": {
    "colab": {
      "name": "small_convnet.ipynb",
      "provenance": [],
      "authorship_tag": "ABX9TyO3+ZjlGK44lPBgpkFr+9V/",
      "include_colab_link": true
    },
    "kernelspec": {
      "name": "python3",
      "display_name": "Python 3"
    },
    "language_info": {
      "name": "python"
    },
    "accelerator": "GPU",
    "widgets": {
      "application/vnd.jupyter.widget-state+json": {
        "fe30c3a89d834e91a8af59ed3fef266c": {
          "model_module": "@jupyter-widgets/controls",
          "model_name": "HBoxModel",
          "model_module_version": "1.5.0",
          "state": {
            "_view_name": "HBoxView",
            "_dom_classes": [],
            "_model_name": "HBoxModel",
            "_view_module": "@jupyter-widgets/controls",
            "_model_module_version": "1.5.0",
            "_view_count": null,
            "_view_module_version": "1.5.0",
            "box_style": "",
            "layout": "IPY_MODEL_264e2b08e90e4878b9aa4fe1e1660f37",
            "_model_module": "@jupyter-widgets/controls",
            "children": [
              "IPY_MODEL_1166d93d835f47dea04bb9b0d1029dc6",
              "IPY_MODEL_611651b026b947baa8eb530bdf648c5a",
              "IPY_MODEL_ee059b5994794236931c519a901d9640"
            ]
          }
        },
        "264e2b08e90e4878b9aa4fe1e1660f37": {
          "model_module": "@jupyter-widgets/base",
          "model_name": "LayoutModel",
          "model_module_version": "1.2.0",
          "state": {
            "_view_name": "LayoutView",
            "grid_template_rows": null,
            "right": null,
            "justify_content": null,
            "_view_module": "@jupyter-widgets/base",
            "overflow": null,
            "_model_module_version": "1.2.0",
            "_view_count": null,
            "flex_flow": null,
            "width": null,
            "min_width": null,
            "border": null,
            "align_items": null,
            "bottom": null,
            "_model_module": "@jupyter-widgets/base",
            "top": null,
            "grid_column": null,
            "overflow_y": null,
            "overflow_x": null,
            "grid_auto_flow": null,
            "grid_area": null,
            "grid_template_columns": null,
            "flex": null,
            "_model_name": "LayoutModel",
            "justify_items": null,
            "grid_row": null,
            "max_height": null,
            "align_content": null,
            "visibility": null,
            "align_self": null,
            "height": null,
            "min_height": null,
            "padding": null,
            "grid_auto_rows": null,
            "grid_gap": null,
            "max_width": null,
            "order": null,
            "_view_module_version": "1.2.0",
            "grid_template_areas": null,
            "object_position": null,
            "object_fit": null,
            "grid_auto_columns": null,
            "margin": null,
            "display": null,
            "left": null
          }
        },
        "1166d93d835f47dea04bb9b0d1029dc6": {
          "model_module": "@jupyter-widgets/controls",
          "model_name": "HTMLModel",
          "model_module_version": "1.5.0",
          "state": {
            "_view_name": "HTMLView",
            "style": "IPY_MODEL_7d047c7737134577a4e7bf823059df02",
            "_dom_classes": [],
            "description": "",
            "_model_name": "HTMLModel",
            "placeholder": "​",
            "_view_module": "@jupyter-widgets/controls",
            "_model_module_version": "1.5.0",
            "value": "",
            "_view_count": null,
            "_view_module_version": "1.5.0",
            "description_tooltip": null,
            "_model_module": "@jupyter-widgets/controls",
            "layout": "IPY_MODEL_46593a74ad5941a7850ac08f4055a439"
          }
        },
        "611651b026b947baa8eb530bdf648c5a": {
          "model_module": "@jupyter-widgets/controls",
          "model_name": "FloatProgressModel",
          "model_module_version": "1.5.0",
          "state": {
            "_view_name": "ProgressView",
            "style": "IPY_MODEL_abd38f1e52d54878b5a6a93a69d8ce50",
            "_dom_classes": [],
            "description": "",
            "_model_name": "FloatProgressModel",
            "bar_style": "success",
            "max": 169001437,
            "_view_module": "@jupyter-widgets/controls",
            "_model_module_version": "1.5.0",
            "value": 169001437,
            "_view_count": null,
            "_view_module_version": "1.5.0",
            "orientation": "horizontal",
            "min": 0,
            "description_tooltip": null,
            "_model_module": "@jupyter-widgets/controls",
            "layout": "IPY_MODEL_94149026f4e3478da555ea4c04b437d7"
          }
        },
        "ee059b5994794236931c519a901d9640": {
          "model_module": "@jupyter-widgets/controls",
          "model_name": "HTMLModel",
          "model_module_version": "1.5.0",
          "state": {
            "_view_name": "HTMLView",
            "style": "IPY_MODEL_5b0e0552ac004fc99a7eaf7ed38f1d2e",
            "_dom_classes": [],
            "description": "",
            "_model_name": "HTMLModel",
            "placeholder": "​",
            "_view_module": "@jupyter-widgets/controls",
            "_model_module_version": "1.5.0",
            "value": " 169001984/? [00:10&lt;00:00, 16759608.23it/s]",
            "_view_count": null,
            "_view_module_version": "1.5.0",
            "description_tooltip": null,
            "_model_module": "@jupyter-widgets/controls",
            "layout": "IPY_MODEL_468565a8339243d9bcfa61ec3c32929c"
          }
        },
        "7d047c7737134577a4e7bf823059df02": {
          "model_module": "@jupyter-widgets/controls",
          "model_name": "DescriptionStyleModel",
          "model_module_version": "1.5.0",
          "state": {
            "_view_name": "StyleView",
            "_model_name": "DescriptionStyleModel",
            "description_width": "",
            "_view_module": "@jupyter-widgets/base",
            "_model_module_version": "1.5.0",
            "_view_count": null,
            "_view_module_version": "1.2.0",
            "_model_module": "@jupyter-widgets/controls"
          }
        },
        "46593a74ad5941a7850ac08f4055a439": {
          "model_module": "@jupyter-widgets/base",
          "model_name": "LayoutModel",
          "model_module_version": "1.2.0",
          "state": {
            "_view_name": "LayoutView",
            "grid_template_rows": null,
            "right": null,
            "justify_content": null,
            "_view_module": "@jupyter-widgets/base",
            "overflow": null,
            "_model_module_version": "1.2.0",
            "_view_count": null,
            "flex_flow": null,
            "width": null,
            "min_width": null,
            "border": null,
            "align_items": null,
            "bottom": null,
            "_model_module": "@jupyter-widgets/base",
            "top": null,
            "grid_column": null,
            "overflow_y": null,
            "overflow_x": null,
            "grid_auto_flow": null,
            "grid_area": null,
            "grid_template_columns": null,
            "flex": null,
            "_model_name": "LayoutModel",
            "justify_items": null,
            "grid_row": null,
            "max_height": null,
            "align_content": null,
            "visibility": null,
            "align_self": null,
            "height": null,
            "min_height": null,
            "padding": null,
            "grid_auto_rows": null,
            "grid_gap": null,
            "max_width": null,
            "order": null,
            "_view_module_version": "1.2.0",
            "grid_template_areas": null,
            "object_position": null,
            "object_fit": null,
            "grid_auto_columns": null,
            "margin": null,
            "display": null,
            "left": null
          }
        },
        "abd38f1e52d54878b5a6a93a69d8ce50": {
          "model_module": "@jupyter-widgets/controls",
          "model_name": "ProgressStyleModel",
          "model_module_version": "1.5.0",
          "state": {
            "_view_name": "StyleView",
            "_model_name": "ProgressStyleModel",
            "description_width": "",
            "_view_module": "@jupyter-widgets/base",
            "_model_module_version": "1.5.0",
            "_view_count": null,
            "_view_module_version": "1.2.0",
            "bar_color": null,
            "_model_module": "@jupyter-widgets/controls"
          }
        },
        "94149026f4e3478da555ea4c04b437d7": {
          "model_module": "@jupyter-widgets/base",
          "model_name": "LayoutModel",
          "model_module_version": "1.2.0",
          "state": {
            "_view_name": "LayoutView",
            "grid_template_rows": null,
            "right": null,
            "justify_content": null,
            "_view_module": "@jupyter-widgets/base",
            "overflow": null,
            "_model_module_version": "1.2.0",
            "_view_count": null,
            "flex_flow": null,
            "width": null,
            "min_width": null,
            "border": null,
            "align_items": null,
            "bottom": null,
            "_model_module": "@jupyter-widgets/base",
            "top": null,
            "grid_column": null,
            "overflow_y": null,
            "overflow_x": null,
            "grid_auto_flow": null,
            "grid_area": null,
            "grid_template_columns": null,
            "flex": null,
            "_model_name": "LayoutModel",
            "justify_items": null,
            "grid_row": null,
            "max_height": null,
            "align_content": null,
            "visibility": null,
            "align_self": null,
            "height": null,
            "min_height": null,
            "padding": null,
            "grid_auto_rows": null,
            "grid_gap": null,
            "max_width": null,
            "order": null,
            "_view_module_version": "1.2.0",
            "grid_template_areas": null,
            "object_position": null,
            "object_fit": null,
            "grid_auto_columns": null,
            "margin": null,
            "display": null,
            "left": null
          }
        },
        "5b0e0552ac004fc99a7eaf7ed38f1d2e": {
          "model_module": "@jupyter-widgets/controls",
          "model_name": "DescriptionStyleModel",
          "model_module_version": "1.5.0",
          "state": {
            "_view_name": "StyleView",
            "_model_name": "DescriptionStyleModel",
            "description_width": "",
            "_view_module": "@jupyter-widgets/base",
            "_model_module_version": "1.5.0",
            "_view_count": null,
            "_view_module_version": "1.2.0",
            "_model_module": "@jupyter-widgets/controls"
          }
        },
        "468565a8339243d9bcfa61ec3c32929c": {
          "model_module": "@jupyter-widgets/base",
          "model_name": "LayoutModel",
          "model_module_version": "1.2.0",
          "state": {
            "_view_name": "LayoutView",
            "grid_template_rows": null,
            "right": null,
            "justify_content": null,
            "_view_module": "@jupyter-widgets/base",
            "overflow": null,
            "_model_module_version": "1.2.0",
            "_view_count": null,
            "flex_flow": null,
            "width": null,
            "min_width": null,
            "border": null,
            "align_items": null,
            "bottom": null,
            "_model_module": "@jupyter-widgets/base",
            "top": null,
            "grid_column": null,
            "overflow_y": null,
            "overflow_x": null,
            "grid_auto_flow": null,
            "grid_area": null,
            "grid_template_columns": null,
            "flex": null,
            "_model_name": "LayoutModel",
            "justify_items": null,
            "grid_row": null,
            "max_height": null,
            "align_content": null,
            "visibility": null,
            "align_self": null,
            "height": null,
            "min_height": null,
            "padding": null,
            "grid_auto_rows": null,
            "grid_gap": null,
            "max_width": null,
            "order": null,
            "_view_module_version": "1.2.0",
            "grid_template_areas": null,
            "object_position": null,
            "object_fit": null,
            "grid_auto_columns": null,
            "margin": null,
            "display": null,
            "left": null
          }
        }
      }
    }
  },
  "cells": [
    {
      "cell_type": "markdown",
      "metadata": {
        "id": "view-in-github",
        "colab_type": "text"
      },
      "source": [
        "<a href=\"https://colab.research.google.com/github/malloyca/CSC581B/blob/main/Final%20Project/small_convnet.ipynb\" target=\"_parent\"><img src=\"https://colab.research.google.com/assets/colab-badge.svg\" alt=\"Open In Colab\"/></a>"
      ]
    },
    {
      "cell_type": "markdown",
      "metadata": {
        "id": "9PEXOKNd_15u"
      },
      "source": [
        "# Notes\n",
        "\n",
        "- Complete trial with eight layer model\n",
        "- Add batch normalization\n",
        "- Add more feedback to early stopping\n",
        "  - accuracy and loss for that epoch\n",
        "- Ideas for improving the performance"
      ]
    },
    {
      "cell_type": "code",
      "metadata": {
        "id": "NI3XLmYiD-UJ"
      },
      "source": [
        "# imports\n",
        "import torch\n",
        "from torch import nn\n",
        "from torch.utils.data import DataLoader, SubsetRandomSampler\n",
        "from torchvision.datasets import CIFAR100\n",
        "from torchvision.transforms import ToTensor, Compose, Normalize\n",
        "from sklearn.model_selection import train_test_split\n",
        "import matplotlib.pyplot as plt\n",
        "import copy\n",
        "import numpy as np\n",
        "import random\n"
      ],
      "execution_count": 21,
      "outputs": []
    },
    {
      "cell_type": "code",
      "metadata": {
        "colab": {
          "base_uri": "https://localhost:8080/",
          "height": 100,
          "referenced_widgets": [
            "fe30c3a89d834e91a8af59ed3fef266c",
            "264e2b08e90e4878b9aa4fe1e1660f37",
            "1166d93d835f47dea04bb9b0d1029dc6",
            "611651b026b947baa8eb530bdf648c5a",
            "ee059b5994794236931c519a901d9640",
            "7d047c7737134577a4e7bf823059df02",
            "46593a74ad5941a7850ac08f4055a439",
            "abd38f1e52d54878b5a6a93a69d8ce50",
            "94149026f4e3478da555ea4c04b437d7",
            "5b0e0552ac004fc99a7eaf7ed38f1d2e",
            "468565a8339243d9bcfa61ec3c32929c"
          ]
        },
        "id": "BuXW8boJEcrA",
        "outputId": "580bef94-d8c0-47cd-ccdd-e4fce280c00c"
      },
      "source": [
        "# Load the training data (CIFAR10 to start)\n",
        "training_data = CIFAR100(\n",
        "    root = \"data\",\n",
        "    train = True,\n",
        "    download = True,\n",
        "    transform = Compose([\n",
        "                         ToTensor(),\n",
        "                         Normalize(\n",
        "                             [0.5071, 0.4867, 0.4408],\n",
        "                             [0.2675, 0.2565, 0.2761]\n",
        "                         )\n",
        "    ])\n",
        ")\n",
        "\n",
        "# Load the test data\n",
        "test_data = CIFAR100(\n",
        "    root = \"data\",\n",
        "    train = False,\n",
        "    download = True,\n",
        "    transform = ToTensor()\n",
        ")"
      ],
      "execution_count": 5,
      "outputs": [
        {
          "output_type": "stream",
          "name": "stdout",
          "text": [
            "Downloading https://www.cs.toronto.edu/~kriz/cifar-100-python.tar.gz to data/cifar-100-python.tar.gz\n"
          ]
        },
        {
          "output_type": "display_data",
          "data": {
            "application/vnd.jupyter.widget-view+json": {
              "model_id": "fe30c3a89d834e91a8af59ed3fef266c",
              "version_minor": 0,
              "version_major": 2
            },
            "text/plain": [
              "  0%|          | 0/169001437 [00:00<?, ?it/s]"
            ]
          },
          "metadata": {}
        },
        {
          "output_type": "stream",
          "name": "stdout",
          "text": [
            "Extracting data/cifar-100-python.tar.gz to data\n",
            "Files already downloaded and verified\n"
          ]
        }
      ]
    },
    {
      "cell_type": "code",
      "metadata": {
        "id": "YyVJ8ne8xjKt"
      },
      "source": [
        "training_targets = training_data.targets"
      ],
      "execution_count": 6,
      "outputs": []
    },
    {
      "cell_type": "code",
      "metadata": {
        "id": "mMQ119G7xmDK"
      },
      "source": [
        "train_split_index, valid_split_index = train_test_split(\n",
        "    np.arange(len(training_targets)), test_size=0.2, stratify=training_targets\n",
        ")"
      ],
      "execution_count": 7,
      "outputs": []
    },
    {
      "cell_type": "code",
      "metadata": {
        "id": "BZ2dy9pmEwz6"
      },
      "source": [
        "batch_size = 100\n",
        "\n",
        "# Create data loaders\n",
        "train_dataloader = DataLoader(training_data, batch_size=batch_size,\n",
        "                              sampler=SubsetRandomSampler(train_split_index))\n",
        "valid_dataloader = DataLoader(training_data, batch_size=batch_size,\n",
        "                              sampler=SubsetRandomSampler(valid_split_index))\n",
        "test_dataloader = DataLoader(test_data, batch_size=batch_size)"
      ],
      "execution_count": 8,
      "outputs": []
    },
    {
      "cell_type": "code",
      "metadata": {
        "colab": {
          "base_uri": "https://localhost:8080/"
        },
        "id": "mE6plIy9E2D_",
        "outputId": "846559d7-320f-44e0-d3c0-de17950aeab7"
      },
      "source": [
        "# Check that it is splitting the data properly\n",
        "train_length = 0\n",
        "for _, y in train_dataloader:\n",
        "  train_length += len(y)\n",
        "print(f\"Length of training split: {train_length}\")\n",
        "\n",
        "valid_length = 0\n",
        "for _, y in valid_dataloader:\n",
        "  valid_length += len(y)\n",
        "print(f\"Length of validation split: {valid_length}\")\n",
        "\n",
        "test_length = 0\n",
        "for _, y in test_dataloader:\n",
        "  test_length += len(y)\n",
        "print(f\"Length of test split: {test_length}\")"
      ],
      "execution_count": 9,
      "outputs": [
        {
          "output_type": "stream",
          "name": "stdout",
          "text": [
            "Length of training split: 40000\n",
            "Length of validation split: 10000\n",
            "Length of test split: 10000\n"
          ]
        }
      ]
    },
    {
      "cell_type": "code",
      "metadata": {
        "colab": {
          "base_uri": "https://localhost:8080/"
        },
        "id": "QG4cwo9Ox9-Z",
        "outputId": "edd05fb5-f3d8-46f8-cf9d-f09937d6b634"
      },
      "source": [
        "# Check that there are 100 instances of a random class in the validation set\n",
        "count = 0\n",
        "test_class = random.randint(0,99)\n",
        "for _, y in valid_dataloader:\n",
        "  for target in y:\n",
        "    if int(target.numpy()) == test_class:\n",
        "      count += 1\n",
        "\n",
        "print(count)"
      ],
      "execution_count": 10,
      "outputs": [
        {
          "output_type": "stream",
          "name": "stdout",
          "text": [
            "100\n"
          ]
        }
      ]
    },
    {
      "cell_type": "markdown",
      "metadata": {
        "id": "PGQGFOcoFAeO"
      },
      "source": [
        "# Building basic convolutional neural nets"
      ]
    },
    {
      "cell_type": "code",
      "metadata": {
        "colab": {
          "base_uri": "https://localhost:8080/"
        },
        "id": "tuGLhBqQE_xI",
        "outputId": "081692a5-7846-4ec9-9854-fed2750ee53e"
      },
      "source": [
        "device = \"cuda\" if torch.cuda.is_available() else \"cpu\"\n",
        "print(device)"
      ],
      "execution_count": 11,
      "outputs": [
        {
          "output_type": "stream",
          "name": "stdout",
          "text": [
            "cuda\n"
          ]
        }
      ]
    },
    {
      "cell_type": "code",
      "metadata": {
        "id": "0H5TNXTJE4Nd"
      },
      "source": [
        "# Define the model\n",
        "class basicConvNet(nn.Module):\n",
        "  def __init__(self, name):\n",
        "    super(basicConvNet, self).__init__()\n",
        "    self.name = name\n",
        "    self.basic_conv_net = nn.Sequential(\n",
        "        # 1st layer\n",
        "        nn.Conv2d(3, 50, (3,3), padding='same'),\n",
        "        nn.BatchNorm2d(50),\n",
        "        nn.ReLU(),\n",
        "        #nn.Dropout2d(p=0.2),\n",
        "        \n",
        "        # 2nd layer\n",
        "        nn.Conv2d(50, 75, (3,3), padding='same'),\n",
        "        nn.BatchNorm2d(75),\n",
        "        nn.ReLU(),\n",
        "        #nn.Dropout2d(p=0.2),\n",
        "        nn.MaxPool2d(2),\n",
        "        \n",
        "        # 3rd layer - 16x16\n",
        "        nn.Conv2d(75, 100, (3,3), padding='same'),\n",
        "        nn.BatchNorm2d(100),\n",
        "        nn.ReLU(),\n",
        "        #nn.Dropout2d(p=0.2),\n",
        "        \n",
        "        # 4th layer\n",
        "        nn.Conv2d(100, 150, (3,3), padding='same'),\n",
        "        nn.BatchNorm2d(150),\n",
        "        nn.ReLU(),\n",
        "        #nn.Dropout2d(p=0.2),\n",
        "        nn.MaxPool2d(2),\n",
        "        \n",
        "        # 5th layer - 8x8\n",
        "        nn.Conv2d(150, 200, (3,3), padding='same'),\n",
        "        #nn.BatchNorm2d(200),\n",
        "        nn.ReLU(),\n",
        "        #nn.Dropout2d(p=0.2),\n",
        "        \n",
        "        # 6th layer\n",
        "        nn.Conv2d(200, 250, (3,3), padding='same'),\n",
        "        #nn.BatchNorm2d(250),\n",
        "        nn.ReLU(),\n",
        "        #nn.Dropout2d(p=0.2),\n",
        "        nn.MaxPool2d(2),\n",
        "        \n",
        "        # 7th layer - 4x4\n",
        "        nn.Flatten(),\n",
        "        nn.Linear(250*4*4, 1000),\n",
        "        nn.ReLU(),\n",
        "        nn.Dropout2d(p=0.2),\n",
        "        \n",
        "        # 8th layer\n",
        "        nn.Linear(1000, 500),\n",
        "        nn.ReLU(),\n",
        "        nn.Dropout(p=0.2),\n",
        "        nn.Linear(500, 100)\n",
        "    )\n",
        "\n",
        "  # Forward propagation\n",
        "  def forward(self, x):\n",
        "    x = self.basic_conv_net(x)\n",
        "    #x = self.flatten(x)\n",
        "    #x = self.output(x)\n",
        "    return x\n",
        "      "
      ],
      "execution_count": 12,
      "outputs": []
    },
    {
      "cell_type": "code",
      "metadata": {
        "id": "rQGk95EKWan5"
      },
      "source": [
        "# Training loop\n",
        "def train(dataloader, batch_size, model, loss_fn, optimizer):\n",
        "  num_batches = len(dataloader)\n",
        "  size = num_batches * batch_size\n",
        "  model.train()\n",
        "  for batch, (X, y) in enumerate(dataloader):\n",
        "    X, y = X.to(device), y.to(device)\n",
        "\n",
        "    # Compute prediction error\n",
        "    pred = model(X)\n",
        "    loss = loss_fn(pred, y)\n",
        "\n",
        "    # Backprop\n",
        "    optimizer.zero_grad()\n",
        "    loss.backward()\n",
        "    optimizer.step()\n",
        "\n",
        "    if batch % 100 == 0:\n",
        "      loss, current = loss.item(), batch * len(X)\n",
        "      print(f\"loss: {loss:>7f} [{current:>5d}/{size:>5d}]\")"
      ],
      "execution_count": 13,
      "outputs": []
    },
    {
      "cell_type": "code",
      "metadata": {
        "id": "4I_S627HXLWz"
      },
      "source": [
        "# Test function\n",
        "def test(dataloader, model, loss_fn):\n",
        "  size = len(dataloader.dataset)\n",
        "  num_batches = len(dataloader)\n",
        "  model.eval()\n",
        "  test_loss, correct = 0, 0\n",
        "  with torch.no_grad():\n",
        "    for X, y in dataloader:\n",
        "      X, y = X.to(device), y.to(device)\n",
        "      pred = model(X)\n",
        "      test_loss += loss_fn(pred, y).item()\n",
        "      correct += (pred.argmax(1) == y).type(torch.float).sum().item()\n",
        "  test_loss /= num_batches\n",
        "  correct /= size\n",
        "  print(f\"Test Error: \\n Accuracy: {(100*correct):>0.1f}%, Avg loss: {test_loss:>8f} \\n\")\n",
        "  return test_loss"
      ],
      "execution_count": 14,
      "outputs": []
    },
    {
      "cell_type": "code",
      "metadata": {
        "id": "0zYjxXdFgV9z"
      },
      "source": [
        "# Validation function\n",
        "def validation(dataloader, batch_size, model, loss_fn):\n",
        "  num_batches = len(dataloader)\n",
        "  size = num_batches * batch_size\n",
        "  model.eval()\n",
        "  val_loss, num_correct = 0, 0\n",
        "  with torch.no_grad():\n",
        "    for X, y in dataloader:\n",
        "      X, y = X.to(device), y.to(device)\n",
        "      pred = model(X)\n",
        "      val_loss += loss_fn(pred, y).item()\n",
        "      num_correct += (pred.argmax(1) == y).type(torch.float).sum().item()\n",
        "  val_loss /= num_batches\n",
        "  accuracy = num_correct / size\n",
        "  print(f\"Validation Error: \\n Validation accuracy: {(100 * accuracy):>0.1f}%, Validation loss: {val_loss:>8f} \\n\")\n",
        "  return val_loss"
      ],
      "execution_count": 15,
      "outputs": []
    },
    {
      "cell_type": "code",
      "metadata": {
        "id": "hfMapknHYDYO"
      },
      "source": [
        "n_epochs = 20"
      ],
      "execution_count": 16,
      "outputs": []
    },
    {
      "cell_type": "code",
      "metadata": {
        "id": "uypo30igYE2G"
      },
      "source": [
        "def training_loop(n_epochs, model, train_data, valid_data, batch_size,\n",
        "                  loss_function, optimizer, early_stopping=False, patience=10):\n",
        "  current_epoch = 0\n",
        "  best_epoch = 0\n",
        "  best_loss = float('inf')\n",
        "  patience_counter = 0\n",
        "\n",
        "  for e in range(n_epochs):\n",
        "    print(f\"\\nEpoch {e+1}\\n----------------------------\")\n",
        "    train(train_data, batch_size, model, loss_function, optimizer)\n",
        "    val_loss = validation(valid_data, batch_size, model, loss_function)\n",
        "\n",
        "    # Iterate epoch counter\n",
        "    current_epoch += 1\n",
        "\n",
        "    # If early_stopping check test_loss\n",
        "    if early_stopping:\n",
        "      # case: test loss beats the current best loss\n",
        "      if val_loss < best_loss:\n",
        "        # store loss\n",
        "        best_loss = val_loss\n",
        "\n",
        "        # reset patience counter\n",
        "        patience_counter = 0\n",
        "\n",
        "        # store model and epoch number\n",
        "        print(\"Storing new best model.\")\n",
        "        best_model_state_dict = copy.deepcopy(model.state_dict)\n",
        "        best_epoch = current_epoch\n",
        "\n",
        "      # Case: patience limit not yet reached => iterate patience counter\n",
        "      elif patience_counter < patience - 1:\n",
        "        patience_counter += 1\n",
        "        print(f\"Patience count: {patience_counter}\")\n",
        "\n",
        "      # Case: patience limit reached\n",
        "      else:\n",
        "        print(\"Finished due to early stopping.\")\n",
        "        print(f\"Saving best model: {model.name}_epoch-{best_epoch:03d}\")\n",
        "        torch.save(best_model_state_dict, f'{model.name}_epoch-{best_epoch:03d}')\n",
        "        break\n",
        "\n",
        "  # If we get here, we did not stop early - save best model\n",
        "  if early_stopping:\n",
        "    print(f\"Saving best model: {model.name}_epoch-{best_epoch:03d}\")\n",
        "    torch.save(best_model_state_dict, f'{model.name}_epoch-{best_epoch:03d}')"
      ],
      "execution_count": 17,
      "outputs": []
    },
    {
      "cell_type": "code",
      "metadata": {
        "id": "fLQYaHdZTnJK",
        "colab": {
          "base_uri": "https://localhost:8080/"
        },
        "outputId": "5af2e0a9-71ab-4f0e-88e3-efc97bb2e3d1"
      },
      "source": [
        "model = basicConvNet('eight-layer').to(device)\n",
        "model"
      ],
      "execution_count": 41,
      "outputs": [
        {
          "output_type": "execute_result",
          "data": {
            "text/plain": [
              "basicConvNet(\n",
              "  (basic_conv_net): Sequential(\n",
              "    (0): Conv2d(3, 50, kernel_size=(3, 3), stride=(1, 1), padding=same)\n",
              "    (1): BatchNorm2d(50, eps=1e-05, momentum=0.1, affine=True, track_running_stats=True)\n",
              "    (2): ReLU()\n",
              "    (3): Conv2d(50, 75, kernel_size=(3, 3), stride=(1, 1), padding=same)\n",
              "    (4): BatchNorm2d(75, eps=1e-05, momentum=0.1, affine=True, track_running_stats=True)\n",
              "    (5): ReLU()\n",
              "    (6): MaxPool2d(kernel_size=2, stride=2, padding=0, dilation=1, ceil_mode=False)\n",
              "    (7): Conv2d(75, 100, kernel_size=(3, 3), stride=(1, 1), padding=same)\n",
              "    (8): BatchNorm2d(100, eps=1e-05, momentum=0.1, affine=True, track_running_stats=True)\n",
              "    (9): ReLU()\n",
              "    (10): Conv2d(100, 150, kernel_size=(3, 3), stride=(1, 1), padding=same)\n",
              "    (11): BatchNorm2d(150, eps=1e-05, momentum=0.1, affine=True, track_running_stats=True)\n",
              "    (12): ReLU()\n",
              "    (13): MaxPool2d(kernel_size=2, stride=2, padding=0, dilation=1, ceil_mode=False)\n",
              "    (14): Conv2d(150, 200, kernel_size=(3, 3), stride=(1, 1), padding=same)\n",
              "    (15): ReLU()\n",
              "    (16): Conv2d(200, 250, kernel_size=(3, 3), stride=(1, 1), padding=same)\n",
              "    (17): ReLU()\n",
              "    (18): MaxPool2d(kernel_size=2, stride=2, padding=0, dilation=1, ceil_mode=False)\n",
              "    (19): Flatten(start_dim=1, end_dim=-1)\n",
              "    (20): Linear(in_features=4000, out_features=1000, bias=True)\n",
              "    (21): ReLU()\n",
              "    (22): Dropout2d(p=0.2, inplace=False)\n",
              "    (23): Linear(in_features=1000, out_features=500, bias=True)\n",
              "    (24): ReLU()\n",
              "    (25): Dropout(p=0.2, inplace=False)\n",
              "    (26): Linear(in_features=500, out_features=100, bias=True)\n",
              "  )\n",
              ")"
            ]
          },
          "metadata": {},
          "execution_count": 41
        }
      ]
    },
    {
      "cell_type": "code",
      "metadata": {
        "id": "deD1sei_WLmX"
      },
      "source": [
        "# Loss function\n",
        "loss_fn = nn.CrossEntropyLoss()\n",
        "\n",
        "# Optimizer\n",
        "optimizer = torch.optim.Adam(model.parameters(), lr=1e-3)"
      ],
      "execution_count": 42,
      "outputs": []
    },
    {
      "cell_type": "code",
      "metadata": {
        "id": "JxAb2cyfCYXq",
        "colab": {
          "base_uri": "https://localhost:8080/"
        },
        "outputId": "6ed23bba-ab6d-4c64-d71b-0429c3571960"
      },
      "source": [
        "training_loop(n_epochs, model, train_dataloader, valid_dataloader, batch_size,\n",
        "              loss_fn, optimizer, early_stopping=True, patience=5)"
      ],
      "execution_count": 43,
      "outputs": [
        {
          "output_type": "stream",
          "name": "stdout",
          "text": [
            "\n",
            "Epoch 1\n",
            "----------------------------\n",
            "loss: 4.606056 [    0/40000]\n",
            "loss: 4.221524 [10000/40000]\n",
            "loss: 4.004520 [20000/40000]\n",
            "loss: 4.142203 [30000/40000]\n",
            "Validation Error: \n",
            " Validation accuracy: 14.2%, Validation loss: 3.548735 \n",
            "\n",
            "Storing new best model.\n",
            "\n",
            "Epoch 2\n",
            "----------------------------\n",
            "loss: 3.410201 [    0/40000]\n",
            "loss: 3.549615 [10000/40000]\n",
            "loss: 3.267550 [20000/40000]\n",
            "loss: 3.166591 [30000/40000]\n",
            "Validation Error: \n",
            " Validation accuracy: 23.9%, Validation loss: 3.109567 \n",
            "\n",
            "Storing new best model.\n",
            "\n",
            "Epoch 3\n",
            "----------------------------\n",
            "loss: 2.915622 [    0/40000]\n",
            "loss: 2.713314 [10000/40000]\n",
            "loss: 2.980759 [20000/40000]\n",
            "loss: 2.984262 [30000/40000]\n",
            "Validation Error: \n",
            " Validation accuracy: 28.6%, Validation loss: 2.823885 \n",
            "\n",
            "Storing new best model.\n",
            "\n",
            "Epoch 4\n",
            "----------------------------\n",
            "loss: 2.674814 [    0/40000]\n",
            "loss: 2.571637 [10000/40000]\n",
            "loss: 2.515095 [20000/40000]\n",
            "loss: 2.720229 [30000/40000]\n",
            "Validation Error: \n",
            " Validation accuracy: 33.1%, Validation loss: 2.628481 \n",
            "\n",
            "Storing new best model.\n",
            "\n",
            "Epoch 5\n",
            "----------------------------\n",
            "loss: 2.500658 [    0/40000]\n",
            "loss: 2.197387 [10000/40000]\n",
            "loss: 2.305042 [20000/40000]\n",
            "loss: 2.126803 [30000/40000]\n",
            "Validation Error: \n",
            " Validation accuracy: 35.0%, Validation loss: 2.554898 \n",
            "\n",
            "Storing new best model.\n",
            "\n",
            "Epoch 6\n",
            "----------------------------\n",
            "loss: 2.082345 [    0/40000]\n",
            "loss: 1.651359 [10000/40000]\n",
            "loss: 1.972712 [20000/40000]\n",
            "loss: 2.170029 [30000/40000]\n",
            "Validation Error: \n",
            " Validation accuracy: 36.4%, Validation loss: 2.534550 \n",
            "\n",
            "Storing new best model.\n",
            "\n",
            "Epoch 7\n",
            "----------------------------\n",
            "loss: 1.335964 [    0/40000]\n",
            "loss: 1.585795 [10000/40000]\n",
            "loss: 1.890369 [20000/40000]\n",
            "loss: 2.004767 [30000/40000]\n",
            "Validation Error: \n",
            " Validation accuracy: 37.8%, Validation loss: 2.522422 \n",
            "\n",
            "Storing new best model.\n",
            "\n",
            "Epoch 8\n",
            "----------------------------\n",
            "loss: 1.562109 [    0/40000]\n",
            "loss: 1.548011 [10000/40000]\n",
            "loss: 1.284345 [20000/40000]\n",
            "loss: 1.499045 [30000/40000]\n",
            "Validation Error: \n",
            " Validation accuracy: 39.0%, Validation loss: 2.565008 \n",
            "\n",
            "Patience count: 1\n",
            "\n",
            "Epoch 9\n",
            "----------------------------\n",
            "loss: 1.271356 [    0/40000]\n",
            "loss: 1.220981 [10000/40000]\n",
            "loss: 1.440585 [20000/40000]\n",
            "loss: 1.439920 [30000/40000]\n",
            "Validation Error: \n",
            " Validation accuracy: 38.2%, Validation loss: 2.650520 \n",
            "\n",
            "Patience count: 2\n",
            "\n",
            "Epoch 10\n",
            "----------------------------\n",
            "loss: 1.075534 [    0/40000]\n",
            "loss: 1.217816 [10000/40000]\n",
            "loss: 1.176571 [20000/40000]\n",
            "loss: 1.335754 [30000/40000]\n",
            "Validation Error: \n",
            " Validation accuracy: 38.4%, Validation loss: 2.730410 \n",
            "\n",
            "Patience count: 3\n",
            "\n",
            "Epoch 11\n",
            "----------------------------\n",
            "loss: 0.848712 [    0/40000]\n",
            "loss: 0.819464 [10000/40000]\n",
            "loss: 0.830718 [20000/40000]\n",
            "loss: 1.110930 [30000/40000]\n",
            "Validation Error: \n",
            " Validation accuracy: 38.5%, Validation loss: 2.877111 \n",
            "\n",
            "Patience count: 4\n",
            "\n",
            "Epoch 12\n",
            "----------------------------\n",
            "loss: 0.743052 [    0/40000]\n",
            "loss: 0.796228 [10000/40000]\n",
            "loss: 0.671943 [20000/40000]\n",
            "loss: 0.818468 [30000/40000]\n",
            "Validation Error: \n",
            " Validation accuracy: 38.1%, Validation loss: 3.034238 \n",
            "\n",
            "Finished due to early stopping.\n",
            "Saving best model: eight-layer_epoch-007\n",
            "Saving best model: eight-layer_epoch-007\n"
          ]
        }
      ]
    },
    {
      "cell_type": "markdown",
      "metadata": {
        "id": "ag8mS2tK0Sl-"
      },
      "source": [
        "# Results on CIFAR100:"
      ]
    },
    {
      "cell_type": "markdown",
      "metadata": {
        "id": "iflio0cX0U_5"
      },
      "source": [
        "## Eight layer model\n",
        "\n",
        "### architecture\n",
        "        # 1st layer\n",
        "        nn.Conv2d(3, 50, (3,3), padding='same'),\n",
        "        nn.BatchNorm2d(50),\n",
        "        nn.ReLU(),\n",
        "        nn.Dropout2d(p=0.2),\n",
        "        # 2nd layer\n",
        "        nn.Conv2d(50, 75, (3,3), padding='same'),\n",
        "        nn.BatchNorm2d(75),\n",
        "        nn.ReLU(),\n",
        "        nn.Dropout2d(p=0.2),\n",
        "        nn.MaxPool2d(2),\n",
        "        # 3rd layer - 16x16\n",
        "        nn.Conv2d(75, 100, (3,3), padding='same'),\n",
        "        nn.BatchNorm2d(100),\n",
        "        nn.ReLU(),\n",
        "        nn.Dropout2d(p=0.2),\n",
        "        # 4th layer\n",
        "        nn.Conv2d(100, 200, (3,3), padding='same'),\n",
        "        nn.BatchNorm2d(200),\n",
        "        nn.ReLU(),\n",
        "        nn.Dropout2d(p=0.2),\n",
        "        nn.MaxPool2d(2),\n",
        "        # 5th layer - 8x8\n",
        "        nn.Conv2d(200, 100, (3,3), padding='same'),\n",
        "        nn.BatchNorm2d(100),\n",
        "        nn.ReLU(),\n",
        "        nn.Dropout2d(p=0.2),\n",
        "        # 6th layer\n",
        "        nn.Conv2d(100, 75, (3,3), padding='same'),\n",
        "        nn.BatchNorm2d(75),\n",
        "        nn.ReLU(),\n",
        "        nn.Dropout2d(p=0.2),\n",
        "        nn.MaxPool2d(2),\n",
        "        # 7th layer - 4x4\n",
        "        nn.Conv2d(75, 50, (3,3), padding='same'),\n",
        "        nn.BatchNorm2d(50),\n",
        "        nn.ReLU(),\n",
        "        nn.Dropout2d(p=0.2),\n",
        "        # 8th layer\n",
        "        nn.Conv2d(50, 50, (3,3), padding='same'),\n",
        "        nn.BatchNorm2d(50),\n",
        "        nn.ReLU(),\n",
        "        nn.Dropout2d(p=0.2),\n",
        "    )\n",
        "    self.flatten = nn.Flatten()\n",
        "    self.output = nn.Linear(50*4*4, 100)\n",
        "\n",
        "### Trial\n",
        "- SGD lr = 5e-2\n",
        "- Accuracy: 10.1%, Avg loss: 1.910425  @ epoch 56\n",
        "\n",
        "---\n",
        "### Architecture\n",
        "        # 1st layer\n",
        "        nn.Conv2d(3, 50, (3,3), padding='same'),\n",
        "        nn.BatchNorm2d(50),\n",
        "        nn.ReLU(),\n",
        "        # 2nd layer\n",
        "        nn.Conv2d(50, 75, (3,3), padding='same'),\n",
        "        nn.BatchNorm2d(75),\n",
        "        nn.ReLU(),\n",
        "        nn.MaxPool2d(2),\n",
        "        # 3rd layer - 16x16\n",
        "        nn.Conv2d(75, 100, (3,3), padding='same'),\n",
        "        nn.BatchNorm2d(100),\n",
        "        nn.ReLU(),\n",
        "        # 4th layer\n",
        "        nn.Conv2d(100, 200, (3,3), padding='same'),\n",
        "        nn.BatchNorm2d(200),\n",
        "        nn.ReLU(),\n",
        "        nn.MaxPool2d(2),\n",
        "        # 5th layer - 8x8\n",
        "        nn.Conv2d(200, 100, (3,3), padding='same'),\n",
        "        nn.BatchNorm2d(100),\n",
        "        nn.ReLU(),\n",
        "        # 6th layer\n",
        "        nn.Conv2d(100, 75, (3,3), padding='same'),\n",
        "        nn.BatchNorm2d(75),\n",
        "        nn.ReLU(),\n",
        "        nn.MaxPool2d(2),\n",
        "        # 7th layer - 4x4\n",
        "        nn.Conv2d(75, 50, (3,3), padding='same'),\n",
        "        nn.BatchNorm2d(50),\n",
        "        nn.ReLU(),\n",
        "        # 8th layer\n",
        "        nn.Conv2d(50, 50, (3,3), padding='same'),\n",
        "        nn.BatchNorm2d(50),\n",
        "        nn.ReLU(),\n",
        "    )\n",
        "    self.flatten = nn.Flatten()\n",
        "    self.output = nn.Linear(50*4*4, 100)\n",
        "\n",
        "### Trial\n",
        "- SGD lr = 1e-1\n",
        "- Accuracy: 9.3%, Avg loss: 2.115571 @ epoch 7\n",
        "\n",
        "\n",
        "### Architecture\n",
        "        # 1st layer\n",
        "        nn.Conv2d(3, 256, (3,3), padding='same'),\n",
        "        nn.BatchNorm2d(256),\n",
        "        nn.ReLU(),\n",
        "        # 2nd layer\n",
        "        nn.Conv2d(256, 128, (3,3), padding='same'),\n",
        "        nn.BatchNorm2d(128),\n",
        "        nn.ReLU(),\n",
        "        nn.MaxPool2d(2),\n",
        "        # 3rd layer - 16x16\n",
        "        nn.Conv2d(128, 64, (3,3), padding='same'),\n",
        "        nn.BatchNorm2d(64),\n",
        "        nn.ReLU(),\n",
        "        # 4th layer\n",
        "        nn.Conv2d(64, 32, (3,3), padding='same'),\n",
        "        nn.BatchNorm2d(32),\n",
        "        nn.ReLU(),\n",
        "        nn.MaxPool2d(2),\n",
        "        # 5th layer - 8x8\n",
        "        nn.Conv2d(32, 32, (3,3), padding='same'),\n",
        "        nn.BatchNorm2d(32),\n",
        "        nn.ReLU(),\n",
        "        # 6th layer\n",
        "        nn.Conv2d(32, 16, (3,3), padding='same'),\n",
        "        nn.BatchNorm2d(16),\n",
        "        nn.ReLU(),\n",
        "        nn.MaxPool2d(2),\n",
        "        # 7th layer - 4x4\n",
        "        nn.Conv2d(16, 16, (3,3), padding='same'),\n",
        "        nn.BatchNorm2d(16),\n",
        "        nn.ReLU(),\n",
        "        # 8th layer\n",
        "        nn.Conv2d(16, 16, (3,3), padding='same'),\n",
        "        nn.BatchNorm2d(16),\n",
        "        nn.ReLU(),\n",
        "\n",
        "### Results\n",
        "- LR = 1e-1\n",
        "- Accuracy: 8.2%, Avg loss: 2.274223 @ 11 epochs => decrease learning rate\n",
        "\n",
        "\n",
        "### Architecture\n",
        "        # 1st layer\n",
        "        nn.Conv2d(3, 256, (3,3), padding='same'),\n",
        "        nn.ReLU(),\n",
        "        # 2nd layer\n",
        "        nn.Conv2d(256, 128, (3,3), padding='same'),\n",
        "        nn.ReLU(),\n",
        "        nn.MaxPool2d(2),\n",
        "        # 3rd layer - 16x16\n",
        "        nn.Conv2d(128, 64, (3,3), padding='same'),\n",
        "        nn.ReLU(),\n",
        "        # 4th layer\n",
        "        nn.Conv2d(64, 32, (3,3), padding='same'),\n",
        "        nn.ReLU(),\n",
        "        nn.MaxPool2d(2),\n",
        "        # 5th layer - 8x8\n",
        "        nn.Conv2d(32, 32, (3,3), padding='same'),\n",
        "        nn.ReLU(),\n",
        "        # 6th layer\n",
        "        nn.Conv2d(32, 16, (3,3), padding='same'),\n",
        "        nn.ReLU(),\n",
        "        nn.MaxPool2d(2),\n",
        "        # 7th layer - 4x4\n",
        "        nn.Conv2d(16, 16, (3,3), padding='same'),\n",
        "        nn.ReLU(),\n",
        "        # 8th layer\n",
        "        nn.Conv2d(16, 16, (3,3), padding='same'),\n",
        "        nn.ReLU(),\n",
        "\n",
        "### Trials\n",
        "- Accuracy: 6.6%, Avg loss: 2.713449 @ 27 epochs\n",
        "\n",
        "## Six layer model\n",
        "\n",
        "### Architecture\n",
        "- 32 x 32 x 256 conv, ReLU - (3,3), 256\n",
        "- Maxpool (2,2)\n",
        "- 16 x 16 x 128 conv, ReLU - (3,3), 128\n",
        "- Maxpool (2,2)\n",
        "- 8 x 8 x 64 conv, ReLU - (3,3), 64\n",
        "- Maxpool (2,2)\n",
        "- 4 x 4 x 32 conv, ReLU - (3,3), 32\n",
        "- 4 x 4 x 16 conv, ReLU - (3,3), 16\n",
        "- Flatten\n",
        "- Fully connect layer (256, 100)\n",
        "\n",
        "### Trials\n",
        "- 7.3% / 2.499734\n",
        "  - SGD\n",
        "  - `lr = 5e-2`\n",
        "  - Validation accuracy - 7.3% @ 20 epochs\n",
        "  - Avg loss - 2.499734\n",
        "- 7.4% / 2.490613\n",
        "  - SGD\n",
        "  - `lr = 1e-2`\n",
        "  - Validation accuracy - 7.4% @ 65 epochs\n",
        "  - Avg loss - 2.490613\n"
      ]
    },
    {
      "cell_type": "markdown",
      "metadata": {
        "id": "KK31_tvQLkRo"
      },
      "source": [
        "# Results on CIFAR10:"
      ]
    },
    {
      "cell_type": "markdown",
      "metadata": {
        "id": "53YZcWbELoEm"
      },
      "source": [
        "## Six layer model (current best)\n",
        "- Test accuracy 72.7%\n",
        "- Avg loss 1.733851\n",
        "\n",
        "### Architecture\n",
        "    # 1st layer\n",
        "    nn.Conv2d(3, 256, (3,3), padding='same'),\n",
        "    nn.ReLU(),\n",
        "    nn.MaxPool2d(2),\n",
        "    # 2nd layer\n",
        "    nn.Conv2d(256, 128, (3,3), padding='same'),\n",
        "    nn.ReLU(),\n",
        "    nn.MaxPool2d(2),\n",
        "    # 3rd layer\n",
        "    nn.Conv2d(128, 64, (3,3), padding='same'),\n",
        "    nn.ReLU(),\n",
        "    nn.MaxPool2d(2),\n",
        "    # 4th layer\n",
        "    nn.Conv2d(64, 32, (3,3), padding='same'),\n",
        "    nn.ReLU(),\n",
        "    #nn.MaxPool2d((2,2)),\n",
        "    # 5th layer\n",
        "    nn.Conv2d(32, 32, (3,3), padding='same'),\n",
        "    nn.ReLU(),\n",
        "    #nn.MaxPool2d((2,2)),\n",
        "    # 6th layer\n",
        "    nn.Conv2d(32, 16, (3,3), padding='same'),\n",
        "    nn.ReLU(),"
      ]
    },
    {
      "cell_type": "code",
      "metadata": {
        "id": "imBDYEwbYp2V"
      },
      "source": [
        " "
      ],
      "execution_count": null,
      "outputs": []
    }
  ]
}