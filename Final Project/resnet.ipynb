{
  "nbformat": 4,
  "nbformat_minor": 0,
  "metadata": {
    "colab": {
      "name": "resnet.ipynb",
      "provenance": [],
      "authorship_tag": "ABX9TyNDXfbPxCiRD5Qof3Mord6j",
      "include_colab_link": true
    },
    "kernelspec": {
      "name": "python3",
      "display_name": "Python 3"
    },
    "language_info": {
      "name": "python"
    },
    "accelerator": "GPU",
    "widgets": {
      "application/vnd.jupyter.widget-state+json": {
        "6654de51ea6c425e9f627b0386e38f04": {
          "model_module": "@jupyter-widgets/controls",
          "model_name": "HBoxModel",
          "model_module_version": "1.5.0",
          "state": {
            "_view_name": "HBoxView",
            "_dom_classes": [],
            "_model_name": "HBoxModel",
            "_view_module": "@jupyter-widgets/controls",
            "_model_module_version": "1.5.0",
            "_view_count": null,
            "_view_module_version": "1.5.0",
            "box_style": "",
            "layout": "IPY_MODEL_69d99a5e1e004c6f9d03a405723cc3c7",
            "_model_module": "@jupyter-widgets/controls",
            "children": [
              "IPY_MODEL_d06d897357244182983c119432437d3f",
              "IPY_MODEL_22d0b31ff4f547e0b194f8e788b146de",
              "IPY_MODEL_71e9d3af9b134d8bb95b5922b765fde4"
            ]
          }
        },
        "69d99a5e1e004c6f9d03a405723cc3c7": {
          "model_module": "@jupyter-widgets/base",
          "model_name": "LayoutModel",
          "model_module_version": "1.2.0",
          "state": {
            "_view_name": "LayoutView",
            "grid_template_rows": null,
            "right": null,
            "justify_content": null,
            "_view_module": "@jupyter-widgets/base",
            "overflow": null,
            "_model_module_version": "1.2.0",
            "_view_count": null,
            "flex_flow": null,
            "width": null,
            "min_width": null,
            "border": null,
            "align_items": null,
            "bottom": null,
            "_model_module": "@jupyter-widgets/base",
            "top": null,
            "grid_column": null,
            "overflow_y": null,
            "overflow_x": null,
            "grid_auto_flow": null,
            "grid_area": null,
            "grid_template_columns": null,
            "flex": null,
            "_model_name": "LayoutModel",
            "justify_items": null,
            "grid_row": null,
            "max_height": null,
            "align_content": null,
            "visibility": null,
            "align_self": null,
            "height": null,
            "min_height": null,
            "padding": null,
            "grid_auto_rows": null,
            "grid_gap": null,
            "max_width": null,
            "order": null,
            "_view_module_version": "1.2.0",
            "grid_template_areas": null,
            "object_position": null,
            "object_fit": null,
            "grid_auto_columns": null,
            "margin": null,
            "display": null,
            "left": null
          }
        },
        "d06d897357244182983c119432437d3f": {
          "model_module": "@jupyter-widgets/controls",
          "model_name": "HTMLModel",
          "model_module_version": "1.5.0",
          "state": {
            "_view_name": "HTMLView",
            "style": "IPY_MODEL_d23af13a964340b4b5cc34efe6efa723",
            "_dom_classes": [],
            "description": "",
            "_model_name": "HTMLModel",
            "placeholder": "​",
            "_view_module": "@jupyter-widgets/controls",
            "_model_module_version": "1.5.0",
            "value": "",
            "_view_count": null,
            "_view_module_version": "1.5.0",
            "description_tooltip": null,
            "_model_module": "@jupyter-widgets/controls",
            "layout": "IPY_MODEL_0b59ab3125614399ae436c0a7100321b"
          }
        },
        "22d0b31ff4f547e0b194f8e788b146de": {
          "model_module": "@jupyter-widgets/controls",
          "model_name": "FloatProgressModel",
          "model_module_version": "1.5.0",
          "state": {
            "_view_name": "ProgressView",
            "style": "IPY_MODEL_a4dd0dd500b24233adfb565e6fbdc893",
            "_dom_classes": [],
            "description": "",
            "_model_name": "FloatProgressModel",
            "bar_style": "success",
            "max": 169001437,
            "_view_module": "@jupyter-widgets/controls",
            "_model_module_version": "1.5.0",
            "value": 169001437,
            "_view_count": null,
            "_view_module_version": "1.5.0",
            "orientation": "horizontal",
            "min": 0,
            "description_tooltip": null,
            "_model_module": "@jupyter-widgets/controls",
            "layout": "IPY_MODEL_4550f05df3ba424097e14c1c51560058"
          }
        },
        "71e9d3af9b134d8bb95b5922b765fde4": {
          "model_module": "@jupyter-widgets/controls",
          "model_name": "HTMLModel",
          "model_module_version": "1.5.0",
          "state": {
            "_view_name": "HTMLView",
            "style": "IPY_MODEL_00e66aef29e84f8599c6b6167443c0f3",
            "_dom_classes": [],
            "description": "",
            "_model_name": "HTMLModel",
            "placeholder": "​",
            "_view_module": "@jupyter-widgets/controls",
            "_model_module_version": "1.5.0",
            "value": " 169001984/? [00:03&lt;00:00, 53718024.08it/s]",
            "_view_count": null,
            "_view_module_version": "1.5.0",
            "description_tooltip": null,
            "_model_module": "@jupyter-widgets/controls",
            "layout": "IPY_MODEL_e03b9a591ba64adf9e3e0e80f69c05ce"
          }
        },
        "d23af13a964340b4b5cc34efe6efa723": {
          "model_module": "@jupyter-widgets/controls",
          "model_name": "DescriptionStyleModel",
          "model_module_version": "1.5.0",
          "state": {
            "_view_name": "StyleView",
            "_model_name": "DescriptionStyleModel",
            "description_width": "",
            "_view_module": "@jupyter-widgets/base",
            "_model_module_version": "1.5.0",
            "_view_count": null,
            "_view_module_version": "1.2.0",
            "_model_module": "@jupyter-widgets/controls"
          }
        },
        "0b59ab3125614399ae436c0a7100321b": {
          "model_module": "@jupyter-widgets/base",
          "model_name": "LayoutModel",
          "model_module_version": "1.2.0",
          "state": {
            "_view_name": "LayoutView",
            "grid_template_rows": null,
            "right": null,
            "justify_content": null,
            "_view_module": "@jupyter-widgets/base",
            "overflow": null,
            "_model_module_version": "1.2.0",
            "_view_count": null,
            "flex_flow": null,
            "width": null,
            "min_width": null,
            "border": null,
            "align_items": null,
            "bottom": null,
            "_model_module": "@jupyter-widgets/base",
            "top": null,
            "grid_column": null,
            "overflow_y": null,
            "overflow_x": null,
            "grid_auto_flow": null,
            "grid_area": null,
            "grid_template_columns": null,
            "flex": null,
            "_model_name": "LayoutModel",
            "justify_items": null,
            "grid_row": null,
            "max_height": null,
            "align_content": null,
            "visibility": null,
            "align_self": null,
            "height": null,
            "min_height": null,
            "padding": null,
            "grid_auto_rows": null,
            "grid_gap": null,
            "max_width": null,
            "order": null,
            "_view_module_version": "1.2.0",
            "grid_template_areas": null,
            "object_position": null,
            "object_fit": null,
            "grid_auto_columns": null,
            "margin": null,
            "display": null,
            "left": null
          }
        },
        "a4dd0dd500b24233adfb565e6fbdc893": {
          "model_module": "@jupyter-widgets/controls",
          "model_name": "ProgressStyleModel",
          "model_module_version": "1.5.0",
          "state": {
            "_view_name": "StyleView",
            "_model_name": "ProgressStyleModel",
            "description_width": "",
            "_view_module": "@jupyter-widgets/base",
            "_model_module_version": "1.5.0",
            "_view_count": null,
            "_view_module_version": "1.2.0",
            "bar_color": null,
            "_model_module": "@jupyter-widgets/controls"
          }
        },
        "4550f05df3ba424097e14c1c51560058": {
          "model_module": "@jupyter-widgets/base",
          "model_name": "LayoutModel",
          "model_module_version": "1.2.0",
          "state": {
            "_view_name": "LayoutView",
            "grid_template_rows": null,
            "right": null,
            "justify_content": null,
            "_view_module": "@jupyter-widgets/base",
            "overflow": null,
            "_model_module_version": "1.2.0",
            "_view_count": null,
            "flex_flow": null,
            "width": null,
            "min_width": null,
            "border": null,
            "align_items": null,
            "bottom": null,
            "_model_module": "@jupyter-widgets/base",
            "top": null,
            "grid_column": null,
            "overflow_y": null,
            "overflow_x": null,
            "grid_auto_flow": null,
            "grid_area": null,
            "grid_template_columns": null,
            "flex": null,
            "_model_name": "LayoutModel",
            "justify_items": null,
            "grid_row": null,
            "max_height": null,
            "align_content": null,
            "visibility": null,
            "align_self": null,
            "height": null,
            "min_height": null,
            "padding": null,
            "grid_auto_rows": null,
            "grid_gap": null,
            "max_width": null,
            "order": null,
            "_view_module_version": "1.2.0",
            "grid_template_areas": null,
            "object_position": null,
            "object_fit": null,
            "grid_auto_columns": null,
            "margin": null,
            "display": null,
            "left": null
          }
        },
        "00e66aef29e84f8599c6b6167443c0f3": {
          "model_module": "@jupyter-widgets/controls",
          "model_name": "DescriptionStyleModel",
          "model_module_version": "1.5.0",
          "state": {
            "_view_name": "StyleView",
            "_model_name": "DescriptionStyleModel",
            "description_width": "",
            "_view_module": "@jupyter-widgets/base",
            "_model_module_version": "1.5.0",
            "_view_count": null,
            "_view_module_version": "1.2.0",
            "_model_module": "@jupyter-widgets/controls"
          }
        },
        "e03b9a591ba64adf9e3e0e80f69c05ce": {
          "model_module": "@jupyter-widgets/base",
          "model_name": "LayoutModel",
          "model_module_version": "1.2.0",
          "state": {
            "_view_name": "LayoutView",
            "grid_template_rows": null,
            "right": null,
            "justify_content": null,
            "_view_module": "@jupyter-widgets/base",
            "overflow": null,
            "_model_module_version": "1.2.0",
            "_view_count": null,
            "flex_flow": null,
            "width": null,
            "min_width": null,
            "border": null,
            "align_items": null,
            "bottom": null,
            "_model_module": "@jupyter-widgets/base",
            "top": null,
            "grid_column": null,
            "overflow_y": null,
            "overflow_x": null,
            "grid_auto_flow": null,
            "grid_area": null,
            "grid_template_columns": null,
            "flex": null,
            "_model_name": "LayoutModel",
            "justify_items": null,
            "grid_row": null,
            "max_height": null,
            "align_content": null,
            "visibility": null,
            "align_self": null,
            "height": null,
            "min_height": null,
            "padding": null,
            "grid_auto_rows": null,
            "grid_gap": null,
            "max_width": null,
            "order": null,
            "_view_module_version": "1.2.0",
            "grid_template_areas": null,
            "object_position": null,
            "object_fit": null,
            "grid_auto_columns": null,
            "margin": null,
            "display": null,
            "left": null
          }
        }
      }
    }
  },
  "cells": [
    {
      "cell_type": "markdown",
      "metadata": {
        "id": "view-in-github",
        "colab_type": "text"
      },
      "source": [
        "<a href=\"https://colab.research.google.com/github/malloyca/CSC581B/blob/main/Final%20Project/resnet.ipynb\" target=\"_parent\"><img src=\"https://colab.research.google.com/assets/colab-badge.svg\" alt=\"Open In Colab\"/></a>"
      ]
    },
    {
      "cell_type": "markdown",
      "metadata": {
        "id": "zXGGquxpklHx"
      },
      "source": [
        "# CSC581B - Deep Learning for Image Classification\n",
        "# Final Project: ResNet"
      ]
    },
    {
      "cell_type": "code",
      "metadata": {
        "id": "GxQbek_mkYIL"
      },
      "source": [
        "# imports\n",
        "import torch\n",
        "from torch import nn\n",
        "from torch.utils.data import DataLoader, SubsetRandomSampler\n",
        "from torchvision.datasets import CIFAR100\n",
        "from torchvision import transforms\n",
        "from sklearn.model_selection import train_test_split\n",
        "import matplotlib.pyplot as plt\n",
        "import copy\n",
        "import numpy as np\n",
        "import random\n"
      ],
      "execution_count": 1,
      "outputs": []
    },
    {
      "cell_type": "markdown",
      "metadata": {
        "id": "EnUNUXWuNIDQ"
      },
      "source": [
        "Set up data augmentation transforms"
      ]
    },
    {
      "cell_type": "code",
      "metadata": {
        "id": "hC4xQ73UpdXv"
      },
      "source": [
        "# data augmentation transforms\n",
        "data_augmentation_transform = transforms.Compose([\n",
        "  transforms.RandomHorizontalFlip(p=0.5),\n",
        "  transforms.RandomRotation(degrees=30),\n",
        "  transforms.RandomCrop(32, padding=2),\n",
        "  transforms.ColorJitter(brightness=0.25, contrast=0.5, saturation=0.25, hue = 0.15),\n",
        "  transforms.RandomGrayscale(p=0.2),\n",
        "  transforms.ToTensor(),\n",
        "  transforms.Normalize(\n",
        "      mean = [0.5071, 0.4867, 0.4408],\n",
        "      std = [0.2675, 0.2565, 0.2761]\n",
        "  ),\n",
        "  transforms.RandomErasing(p=.35),\n",
        "])"
      ],
      "execution_count": 2,
      "outputs": []
    },
    {
      "cell_type": "code",
      "metadata": {
        "id": "p3RpBinzNM9E"
      },
      "source": [
        "# non-augmentation transform (with data normalization)\n",
        "normalize_transform = transforms.Compose([\n",
        "  transforms.ToTensor(),\n",
        "  transforms.Normalize(\n",
        "      mean = [0.5071, 0.4867, 0.4408],\n",
        "      std = [0.2675, 0.2565, 0.2761]\n",
        "  )\n",
        "])"
      ],
      "execution_count": 3,
      "outputs": []
    },
    {
      "cell_type": "code",
      "metadata": {
        "colab": {
          "base_uri": "https://localhost:8080/",
          "height": 134,
          "referenced_widgets": [
            "6654de51ea6c425e9f627b0386e38f04",
            "69d99a5e1e004c6f9d03a405723cc3c7",
            "d06d897357244182983c119432437d3f",
            "22d0b31ff4f547e0b194f8e788b146de",
            "71e9d3af9b134d8bb95b5922b765fde4",
            "d23af13a964340b4b5cc34efe6efa723",
            "0b59ab3125614399ae436c0a7100321b",
            "a4dd0dd500b24233adfb565e6fbdc893",
            "4550f05df3ba424097e14c1c51560058",
            "00e66aef29e84f8599c6b6167443c0f3",
            "e03b9a591ba64adf9e3e0e80f69c05ce"
          ]
        },
        "id": "hKDxCL01NQEj",
        "outputId": "5c410da9-8a90-4e0a-c6ec-a9dee645102d"
      },
      "source": [
        "# Load the training data (CIFAR10 to start)\n",
        "training_data_with_augmentation = CIFAR100(\n",
        "    root = \"data\",\n",
        "    train = True,\n",
        "    download = True,\n",
        "    transform = data_augmentation_transform,\n",
        ")\n",
        "\n",
        "training_data_without_augmentation = CIFAR100(\n",
        "    root = \"data\",\n",
        "    train = True,\n",
        "    download = True,\n",
        "    transform = normalize_transform,\n",
        ")\n",
        "\n",
        "# this is necessary to prevent the data augmentation transforms from being applied to the validation set\n",
        "validation_data = CIFAR100(\n",
        "    root = \"data\",\n",
        "    train = True,\n",
        "    download = True,\n",
        "    transform = normalize_transform,\n",
        ")\n",
        "\n",
        "# Load the test data\n",
        "test_data = CIFAR100(\n",
        "    root = \"data\",\n",
        "    train = False,\n",
        "    download = True,\n",
        "    transform = transforms.ToTensor()\n",
        ")"
      ],
      "execution_count": 4,
      "outputs": [
        {
          "output_type": "stream",
          "name": "stdout",
          "text": [
            "Downloading https://www.cs.toronto.edu/~kriz/cifar-100-python.tar.gz to data/cifar-100-python.tar.gz\n"
          ]
        },
        {
          "output_type": "display_data",
          "data": {
            "application/vnd.jupyter.widget-view+json": {
              "model_id": "6654de51ea6c425e9f627b0386e38f04",
              "version_minor": 0,
              "version_major": 2
            },
            "text/plain": [
              "  0%|          | 0/169001437 [00:00<?, ?it/s]"
            ]
          },
          "metadata": {}
        },
        {
          "output_type": "stream",
          "name": "stdout",
          "text": [
            "Extracting data/cifar-100-python.tar.gz to data\n",
            "Files already downloaded and verified\n",
            "Files already downloaded and verified\n",
            "Files already downloaded and verified\n"
          ]
        }
      ]
    },
    {
      "cell_type": "code",
      "metadata": {
        "id": "Vyopx_A3rhyv"
      },
      "source": [
        "training_targets = training_data_with_augmentation.targets"
      ],
      "execution_count": 5,
      "outputs": []
    },
    {
      "cell_type": "code",
      "metadata": {
        "id": "VgqJ5Ko6rsAg"
      },
      "source": [
        "train_split_index, valid_split_index = train_test_split(\n",
        "    np.arange(len(training_targets)), test_size=0.2, stratify=training_targets\n",
        ")"
      ],
      "execution_count": 6,
      "outputs": []
    },
    {
      "cell_type": "code",
      "metadata": {
        "id": "mYz4SRz2rj6b"
      },
      "source": [
        "batch_size = 100"
      ],
      "execution_count": 7,
      "outputs": []
    },
    {
      "cell_type": "code",
      "metadata": {
        "id": "c_xiX43FrlUx"
      },
      "source": [
        "# Create data loaders\n",
        "train_augmentation_dataloader = DataLoader(training_data_with_augmentation, batch_size=batch_size,\n",
        "                              sampler=SubsetRandomSampler(train_split_index))\n",
        "train_no_augmentation_dataloader = DataLoader(training_data_without_augmentation, batch_size=batch_size,\n",
        "                              sampler=SubsetRandomSampler(train_split_index))\n",
        "valid_dataloader = DataLoader(validation_data, batch_size=batch_size,\n",
        "                              sampler=SubsetRandomSampler(valid_split_index))\n",
        "test_dataloader = DataLoader(test_data, batch_size=batch_size)"
      ],
      "execution_count": 8,
      "outputs": []
    },
    {
      "cell_type": "code",
      "metadata": {
        "id": "eOLh79JTNX6I"
      },
      "source": [
        "train_status = True"
      ],
      "execution_count": 9,
      "outputs": []
    },
    {
      "cell_type": "code",
      "metadata": {
        "id": "CDREfgQTrnG4"
      },
      "source": [
        "if not train_status:\n",
        "  # Check that it is splitting the data properly\n",
        "  train_length = 0\n",
        "  for _, y in train_augmentation_dataloader:\n",
        "    train_length += len(y)\n",
        "  print(f\"Length of training (augmentation) split: {train_length}\")\n",
        "\n",
        "  train_aug_length = 0\n",
        "  for _, y in train_no_augmentation_dataloader:\n",
        "    train_aug_length += len(y)\n",
        "  print(f\"Length of training (no augmentation) split: {train_aug_length}\")\n",
        "\n",
        "  valid_length = 0\n",
        "  for _, y in valid_dataloader:\n",
        "    valid_length += len(y)\n",
        "  print(f\"Length of validation split: {valid_length}\")\n",
        "\n",
        "  test_length = 0\n",
        "  for _, y in test_dataloader:\n",
        "    test_length += len(y)\n",
        "  print(f\"Length of test split: {test_length}\")"
      ],
      "execution_count": 10,
      "outputs": []
    },
    {
      "cell_type": "code",
      "metadata": {
        "id": "-zOWIfAiryju"
      },
      "source": [
        "if not train_status:\n",
        "  # Check that there are 100 instances of a random class in the validation set\n",
        "  count = 0\n",
        "  test_class = random.randint(0,99)\n",
        "  for _, y in valid_dataloader:\n",
        "    for target in y:\n",
        "      if int(target.numpy()) == test_class:\n",
        "        count += 1\n",
        "\n",
        "  print(count)"
      ],
      "execution_count": 11,
      "outputs": []
    },
    {
      "cell_type": "code",
      "metadata": {
        "colab": {
          "base_uri": "https://localhost:8080/",
          "height": 37
        },
        "id": "8dWkMFC-r72A",
        "outputId": "dd737547-1bda-469b-aec6-7c40842731a4"
      },
      "source": [
        "device = \"cuda\" if torch.cuda.is_available() else \"cpu\"\n",
        "device"
      ],
      "execution_count": 12,
      "outputs": [
        {
          "output_type": "execute_result",
          "data": {
            "application/vnd.google.colaboratory.intrinsic+json": {
              "type": "string"
            },
            "text/plain": [
              "'cuda'"
            ]
          },
          "metadata": {},
          "execution_count": 12
        }
      ]
    },
    {
      "cell_type": "markdown",
      "metadata": {
        "id": "qdtbf10er4Pp"
      },
      "source": [
        "# Build ResNet for CIFAR100\n",
        "\n",
        "This is based on section 4.2 of the ResNet paper.\n",
        "\n",
        "The first layer is $3 \\times 3$ convolutions. Then they use a stack of $6n$ layers with $3\\times3$ convolutions on the feature maps of sizes $\\{32,16,8\\}$ respectively with $2n$ layers for each feature map size.\n",
        "\n",
        "The first residual block of each stack (except the first) downsamples by setting the stride to 2."
      ]
    },
    {
      "cell_type": "code",
      "metadata": {
        "id": "peBSa5KKr2zz"
      },
      "source": [
        "# Define the ResNet Block\n",
        "class ResidualBlock(nn.Module):\n",
        "  '''\n",
        "  Class for building the ResNet blocks. The architecture here follows the\n",
        "  specifications from section 4.2 of the ResNet paper.\n",
        "  '''\n",
        "  def __init__(\n",
        "      self,\n",
        "      input_channels,\n",
        "      output_channels,\n",
        "      stride\n",
        "  ):\n",
        "    super(ResidualBlock, self).__init__()\n",
        "    self.block = nn.Sequential(\n",
        "        nn.Conv2d(input_channels, output_channels, kernel_size=3, stride=stride, padding=1),\n",
        "        nn.BatchNorm2d(output_channels),\n",
        "        nn.ReLU(),\n",
        "        nn.Conv2d(output_channels, output_channels, kernel_size=3, padding=1),\n",
        "        nn.BatchNorm2d(output_channels)\n",
        "    )\n",
        "    self.relu = nn.ReLU()\n",
        "    self.identity = nn.Sequential()\n",
        "    if stride == 2:\n",
        "      self.identity = nn.Sequential(\n",
        "          Identity(output_channels - input_channels)\n",
        "      )\n",
        "\n",
        "\n",
        "\n",
        "  # forward propagation\n",
        "  def forward(self, x):\n",
        "    # residual block: y = F(x, w) + x\n",
        "    out = self.block(x)\n",
        "    out += self.identity(x)\n",
        "    out = self.relu(out)\n",
        "    return out"
      ],
      "execution_count": 13,
      "outputs": []
    },
    {
      "cell_type": "code",
      "metadata": {
        "id": "m3xOHNEkpVUs"
      },
      "source": [
        "class Identity(nn.Module):\n",
        "  '''\n",
        "  This is an awkward class required to allow me to use nn.functional.pad inside of a squential block in another nn.Module class.\n",
        "  '''\n",
        "  def __init__(self,padding):\n",
        "    super(Identity, self).__init__()\n",
        "    self.identity = nn.functional.pad\n",
        "    self.padding = padding\n",
        "\n",
        "\n",
        "  def forward(self, x):\n",
        "    #print(\"Dim going into identity:\", list(x.size()))\n",
        "    x = self.identity(x[:,:,::2,::2], pad=(0,0,0,0,0,self.padding))\n",
        "    #print(\"Dim coming out of identity:\", list(x.size()))\n",
        "    return x"
      ],
      "execution_count": 14,
      "outputs": []
    },
    {
      "cell_type": "code",
      "metadata": {
        "id": "l1aixmK9FUgl"
      },
      "source": [
        "# This is based on section 4.2 of the ResNet paper\n",
        "# number of filters is {16, 32, 64} for the three stacks\n",
        "class ResNet(nn.Module):\n",
        "  def __init__(\n",
        "      self,\n",
        "      block,\n",
        "      num_blocks,\n",
        "      name = 'ResNet',\n",
        "  ):\n",
        "    super(ResNet, self).__init__()\n",
        "    self.num_filters = [16, 32, 64]\n",
        "    self.name = name\n",
        "\n",
        "    self.conv1 = nn.Conv2d(3, 16, kernel_size=3, stride=1, padding=1)\n",
        "    self.bn1 = nn.BatchNorm2d(16)\n",
        "    self.relu = nn.ReLU()\n",
        "    self.stack1 = self.build_residual_block(block, self.num_filters[0], num_blocks[0], first_stride=1)\n",
        "    self.stack2 = self.build_residual_block(block, self.num_filters[1], num_blocks[1], first_stride=2) # set first stride to 2 to downsample\n",
        "    self.stack3 = self.build_residual_block(block, self.num_filters[2], num_blocks[2], first_stride=2)\n",
        "\n",
        "    self.avg_pool = nn.AdaptiveAvgPool2d((1,1))\n",
        "    self.flatten = nn.Flatten()\n",
        "    self.linear = nn.Linear(64, 100)\n",
        "\n",
        "\n",
        "  def build_residual_block(self, block, num_filters, num_blocks, first_stride):\n",
        "    strides = [first_stride]\n",
        "    layers = []\n",
        "    for _ in range(num_blocks-1):\n",
        "      strides.append(1)\n",
        "    for stride in strides:\n",
        "      if stride == 2:\n",
        "        layers.append(block(\n",
        "            input_channels=num_filters//2,\n",
        "            output_channels=num_filters,\n",
        "            stride=stride,\n",
        "        ))\n",
        "      else:\n",
        "        layers.append(block(\n",
        "            input_channels=num_filters,\n",
        "            output_channels=num_filters,\n",
        "            stride=stride,\n",
        "        ))\n",
        "    return nn.Sequential(*layers)\n",
        "\n",
        "\n",
        "  def forward(self, x):\n",
        "    out = self.conv1(x)\n",
        "    out = self.bn1(out)\n",
        "    out = self.relu(out)\n",
        "    #print(\"Dim going into stack1:\", list(out.size()))\n",
        "    out = self.stack1(out)\n",
        "    #print(\"Dim going into stack2:\", list(out.size()))\n",
        "    out = self.stack2(out)\n",
        "    #print(\"Dim going into stack3:\", list(out.size()))\n",
        "    out = self.stack3(out)\n",
        "    #print(\"Dim going into linear:\", list(out.size()))\n",
        "    out = self.avg_pool(out)\n",
        "    out = self.flatten(out)\n",
        "    out = self.linear(out)\n",
        "    return out"
      ],
      "execution_count": 15,
      "outputs": []
    },
    {
      "cell_type": "code",
      "metadata": {
        "id": "NucWACfFrwE8"
      },
      "source": [
        "if not train_status:\n",
        "  def resnet_test():\n",
        "    return ResNet(ResidualBlock, [5, 5, 5], name='test')\n",
        "  model = resnet_test().to(device)\n",
        "  model"
      ],
      "execution_count": 20,
      "outputs": []
    },
    {
      "cell_type": "code",
      "metadata": {
        "id": "T-vVUFsqOjNz"
      },
      "source": [
        "def resnet20():\n",
        "  return ResNet(ResidualBlock, [3, 3, 3], name='resnet20')"
      ],
      "execution_count": 16,
      "outputs": []
    },
    {
      "cell_type": "code",
      "metadata": {
        "id": "5lUoJWFiOvAp"
      },
      "source": [
        "def resnet32():\n",
        "  return ResNet(ResidualBlock, [5, 5, 5], name='resnet32')"
      ],
      "execution_count": 17,
      "outputs": []
    },
    {
      "cell_type": "code",
      "metadata": {
        "id": "vRI8rnGSO3QP"
      },
      "source": [
        "def resnet44():\n",
        "  return ResNet(ResidualBlock, [7, 7, 7], name='resnet44')"
      ],
      "execution_count": 27,
      "outputs": []
    },
    {
      "cell_type": "markdown",
      "metadata": {
        "id": "UUnudSdofwG_"
      },
      "source": [
        "# Training setup"
      ]
    },
    {
      "cell_type": "code",
      "metadata": {
        "id": "QKzlSWQvfvht"
      },
      "source": [
        "# Training function\n",
        "def train(dataloader, batch_size, model, loss_fn, optimizer):\n",
        "  num_batches = len(dataloader)\n",
        "  size = num_batches * batch_size\n",
        "  model.train()\n",
        "  train_loss, num_correct = 0, 0\n",
        "  for batch, (X, y) in enumerate(dataloader):\n",
        "    X, y = X.to(device), y.to(device)\n",
        "\n",
        "    # Compute prediction error\n",
        "    pred = model(X)\n",
        "    loss = loss_fn(pred, y)\n",
        "\n",
        "    # Backprop\n",
        "    optimizer.zero_grad()\n",
        "    loss.backward()\n",
        "    optimizer.step()\n",
        "\n",
        "    # Track train_loss and accuracy\n",
        "    train_loss += loss.item()\n",
        "    num_correct += (pred.argmax(1) == y).type(torch.float).sum().item()\n",
        "\n",
        "    if batch % 100 == 0:\n",
        "      loss, current = loss.item(), batch * len(X)\n",
        "      print(f\"loss: {loss:>7f} [{current:>5d}/{size:>5d}]\")\n",
        "\n",
        "  train_loss /= num_batches\n",
        "  accuracy = num_correct / size\n",
        "  return train_loss, accuracy"
      ],
      "execution_count": 21,
      "outputs": []
    },
    {
      "cell_type": "code",
      "metadata": {
        "id": "6FCvYiajfE5v"
      },
      "source": [
        "# Validation function\n",
        "def validation(dataloader, batch_size, model, loss_fn):\n",
        "  num_batches = len(dataloader)\n",
        "  size = num_batches * batch_size\n",
        "  model.eval()\n",
        "  val_loss, num_correct = 0, 0\n",
        "  with torch.no_grad():\n",
        "    for X, y in dataloader:\n",
        "      X, y = X.to(device), y.to(device)\n",
        "      pred = model(X)\n",
        "      val_loss += loss_fn(pred, y).item()\n",
        "      num_correct += (pred.argmax(1) == y).type(torch.float).sum().item()\n",
        "  val_loss /= num_batches\n",
        "  accuracy = num_correct / size\n",
        "  print(f\"Validation Error: \\n Validation accuracy: {(100 * accuracy):>0.1f}%, Validation loss: {val_loss:>8f} \\n\")\n",
        "  return val_loss, accuracy"
      ],
      "execution_count": 22,
      "outputs": []
    },
    {
      "cell_type": "code",
      "metadata": {
        "id": "Q2O0Sxarf1Qe"
      },
      "source": [
        "# Test function\n",
        "def test(dataloader, model, loss_fn):\n",
        "  size = len(dataloader.dataset)\n",
        "  num_batches = len(dataloader)\n",
        "  model.eval()\n",
        "  test_loss, correct = 0, 0\n",
        "  with torch.no_grad():\n",
        "    for X, y in dataloader:\n",
        "      X, y = X.to(device), y.to(device)\n",
        "      pred = model(X)\n",
        "      test_loss += loss_fn(pred, y).item()\n",
        "      correct += (pred.argmax(1) == y).type(torch.float).sum().item()\n",
        "  test_loss /= num_batches\n",
        "  correct /= size\n",
        "  print(f\"Test Error: \\n Accuracy: {(100*correct):>0.1f}%, Avg loss: {test_loss:>8f} \\n\")\n",
        "  return test_loss"
      ],
      "execution_count": 23,
      "outputs": []
    },
    {
      "cell_type": "code",
      "metadata": {
        "id": "1OVpJnZJf5M5"
      },
      "source": [
        "def training_loop(n_epochs, model, train_data, valid_data, batch_size,\n",
        "                  loss_function, optimizer, scheduler=None,\n",
        "                  early_stopping=False, patience=10):\n",
        "  current_epoch = 0\n",
        "  best_epoch = 0\n",
        "  best_loss = float('inf')\n",
        "  patience_counter = 0\n",
        "\n",
        "  train_losses = []\n",
        "  train_accuracies = []\n",
        "  val_losses = []\n",
        "  val_accuracies = []\n",
        "\n",
        "  for e in range(n_epochs):\n",
        "    print(f\"\\nEpoch {e+1}\\n----------------------------\")\n",
        "    # Iterate epoch counter\n",
        "    current_epoch += 1\n",
        "\n",
        "    train_loss, train_accuracy = train(train_data, batch_size, model, loss_function, optimizer)\n",
        "    val_loss, val_accuracy = validation(valid_data, batch_size, model, loss_function)\n",
        "\n",
        "    train_losses.append(train_loss)\n",
        "    train_accuracies.append(train_accuracy)\n",
        "    val_losses.append(val_loss)\n",
        "    val_accuracies.append(val_accuracy)\n",
        "\n",
        "    # Iterate scheduler (this is set up for ReduceLROnPlateau)\n",
        "    if scheduler is not None:\n",
        "      scheduler.step(val_loss)\n",
        "\n",
        "    # If early_stopping check test_loss\n",
        "    if early_stopping:\n",
        "      # case: test loss beats the current best loss\n",
        "      if val_loss < best_loss:\n",
        "        # store loss\n",
        "        best_loss = val_loss\n",
        "\n",
        "        # reset patience counter\n",
        "        patience_counter = 0\n",
        "\n",
        "        # store model and epoch number\n",
        "        print(\"Storing new best model.\")\n",
        "        best_model_state_dict = copy.deepcopy(model.state_dict)\n",
        "        best_epoch = current_epoch\n",
        "\n",
        "      # Case: patience limit not yet reached => iterate patience counter\n",
        "      elif patience_counter < patience - 1:\n",
        "        patience_counter += 1\n",
        "        print(f\"Patience count: {patience_counter}\")\n",
        "\n",
        "      # Case: patience limit reached\n",
        "      else:\n",
        "        print(\"Finished due to early stopping.\")\n",
        "        print(f\"Saving best model: {model.name}_epoch-{best_epoch:03d}\")\n",
        "        torch.save(best_model_state_dict, f'{model.name}_epoch-{best_epoch:03d}')\n",
        "        break\n",
        "\n",
        "  # If we get here, we did not stop early - save best model\n",
        "  if early_stopping:\n",
        "    print(f\"Saving best model: {model.name}_epoch-{best_epoch:03d}\")\n",
        "    torch.save(best_model_state_dict, f'{model.name}_epoch-{best_epoch:03d}')\n",
        "  else:\n",
        "    print()\n",
        "\n",
        "  return train_losses, train_accuracies, val_losses, val_accuracies"
      ],
      "execution_count": 24,
      "outputs": []
    },
    {
      "cell_type": "markdown",
      "metadata": {
        "id": "UDFDIhpJgUOi"
      },
      "source": [
        "# Training"
      ]
    },
    {
      "cell_type": "code",
      "metadata": {
        "id": "a34SpCqKf3q0"
      },
      "source": [
        "n_epochs = 100"
      ],
      "execution_count": 58,
      "outputs": []
    },
    {
      "cell_type": "code",
      "metadata": {
        "id": "3uXWvG36s0HW",
        "colab": {
          "base_uri": "https://localhost:8080/"
        },
        "outputId": "faa3893f-16da-4e92-c2fc-ea89c8d2595c"
      },
      "source": [
        "model_20 = resnet20().to(device)\n",
        "num_param = sum(p.numel() for p in model_20.parameters())\n",
        "print(f\"Total number of parameters for ResNet20: {num_param:,}\")\n",
        "\n",
        "model_32 = resnet32().to(device)\n",
        "num_param = sum(p.numel() for p in model_32.parameters())\n",
        "print(f\"Total number of parameters for ResNet32: {num_param:,}\")\n",
        "\n",
        "model_44 = resnet44().to(device)\n",
        "num_param = sum(p.numel() for p in model_44.parameters())\n",
        "print(f\"Total number of parameters for ResNet44: {num_param:,}\")"
      ],
      "execution_count": 59,
      "outputs": [
        {
          "output_type": "stream",
          "name": "stdout",
          "text": [
            "Total number of parameters for ResNet20: 276,260\n",
            "Total number of parameters for ResNet32: 471,140\n",
            "Total number of parameters for ResNet44: 666,020\n"
          ]
        }
      ]
    },
    {
      "cell_type": "code",
      "metadata": {
        "colab": {
          "base_uri": "https://localhost:8080/"
        },
        "id": "_2yza2axPiPL",
        "outputId": "34262ad9-212f-445d-f828-e8b3550769d3"
      },
      "source": [
        "model_20_aug = resnet20().to(device)\n",
        "num_param = sum(p.numel() for p in model_20_aug.parameters())\n",
        "print(f\"Total number of parameters for ResNet20: {num_param:,}\")\n",
        "\n",
        "model_32_aug = resnet32().to(device)\n",
        "num_param = sum(p.numel() for p in model_32_aug.parameters())\n",
        "print(f\"Total number of parameters for ResNet32: {num_param:,}\")\n",
        "\n",
        "model_44_aug = resnet44().to(device)\n",
        "num_param = sum(p.numel() for p in model_44_aug.parameters())\n",
        "print(f\"Total number of parameters for ResNet44: {num_param:,}\")"
      ],
      "execution_count": 60,
      "outputs": [
        {
          "output_type": "stream",
          "name": "stdout",
          "text": [
            "Total number of parameters for ResNet20: 276,260\n",
            "Total number of parameters for ResNet32: 471,140\n",
            "Total number of parameters for ResNet44: 666,020\n"
          ]
        }
      ]
    },
    {
      "cell_type": "code",
      "metadata": {
        "id": "Usx1-MwLf7Tb"
      },
      "source": [
        "# Loss function\n",
        "loss_fn = nn.CrossEntropyLoss()\n",
        "\n",
        "# Optimizer\n",
        "optimizer_20 = torch.optim.Adam(model_20.parameters(), lr=1e-3)\n",
        "optimizer_20_aug = torch.optim.Adam(model_20_aug.parameters(), lr=1e-3)\n",
        "optimizer_32 = torch.optim.Adam(model_32.parameters(), lr=1e-3)\n",
        "optimizer_32_aug = torch.optim.Adam(model_32_aug.parameters(), lr=1e-3)\n",
        "optimizer_44 = torch.optim.Adam(model_44.parameters(), lr=1e-3)\n",
        "optimizer_44_aug = torch.optim.Adam(model_44_aug.parameters(), lr=1e-3)\n",
        "\n",
        "# LR scheduling\n",
        "scheduler_20 = torch.optim.lr_scheduler.ReduceLROnPlateau(optimizer=optimizer_20, mode='min', patience=5)\n",
        "scheduler_20_aug = torch.optim.lr_scheduler.ReduceLROnPlateau(optimizer=optimizer_20_aug, mode='min', patience=5)\n",
        "scheduler_32 = torch.optim.lr_scheduler.ReduceLROnPlateau(optimizer=optimizer_32, mode='min', patience=5)\n",
        "scheduler_32_aug = torch.optim.lr_scheduler.ReduceLROnPlateau(optimizer=optimizer_32_aug, mode='min', patience=5)\n",
        "scheduler_44 = torch.optim.lr_scheduler.ReduceLROnPlateau(optimizer=optimizer_44, mode='min', patience=5)\n",
        "scheduler_44_aug = torch.optim.lr_scheduler.ReduceLROnPlateau(optimizer=optimizer_44_aug, mode='min', patience=5)"
      ],
      "execution_count": 61,
      "outputs": []
    },
    {
      "cell_type": "code",
      "metadata": {
        "colab": {
          "base_uri": "https://localhost:8080/"
        },
        "id": "j8sBYfvYgMMP",
        "outputId": "59f106ce-7093-4e6a-8f2f-8ab27c81b521"
      },
      "source": [
        "train_loss_20, train_accuracy_20, val_loss_20, val_accuracy_20 = training_loop(n_epochs, model_20, train_no_augmentation_dataloader, valid_dataloader, batch_size,\n",
        "              loss_fn, optimizer_20, scheduler_20, early_stopping=True, patience=20)"
      ],
      "execution_count": 62,
      "outputs": [
        {
          "output_type": "stream",
          "name": "stdout",
          "text": [
            "\n",
            "Epoch 1\n",
            "----------------------------\n",
            "loss: 4.827048 [    0/40000]\n",
            "loss: 4.010435 [10000/40000]\n",
            "loss: 3.687391 [20000/40000]\n",
            "loss: 3.893294 [30000/40000]\n",
            "Validation Error: \n",
            " Validation accuracy: 14.4%, Validation loss: 3.523175 \n",
            "\n",
            "Storing new best model.\n",
            "\n",
            "Epoch 2\n",
            "----------------------------\n",
            "loss: 3.476431 [    0/40000]\n",
            "loss: 3.118614 [10000/40000]\n",
            "loss: 2.899387 [20000/40000]\n",
            "loss: 2.788997 [30000/40000]\n",
            "Validation Error: \n",
            " Validation accuracy: 23.7%, Validation loss: 2.977359 \n",
            "\n",
            "Storing new best model.\n",
            "\n",
            "Epoch 3\n",
            "----------------------------\n",
            "loss: 2.779550 [    0/40000]\n",
            "loss: 2.653886 [10000/40000]\n",
            "loss: 2.553008 [20000/40000]\n",
            "loss: 2.787303 [30000/40000]\n",
            "Validation Error: \n",
            " Validation accuracy: 29.0%, Validation loss: 2.744954 \n",
            "\n",
            "Storing new best model.\n",
            "\n",
            "Epoch 4\n",
            "----------------------------\n",
            "loss: 2.864907 [    0/40000]\n",
            "loss: 2.382596 [10000/40000]\n",
            "loss: 2.281186 [20000/40000]\n",
            "loss: 2.371358 [30000/40000]\n",
            "Validation Error: \n",
            " Validation accuracy: 34.3%, Validation loss: 2.502522 \n",
            "\n",
            "Storing new best model.\n",
            "\n",
            "Epoch 5\n",
            "----------------------------\n",
            "loss: 2.157660 [    0/40000]\n",
            "loss: 2.334858 [10000/40000]\n",
            "loss: 2.441203 [20000/40000]\n",
            "loss: 2.104052 [30000/40000]\n",
            "Validation Error: \n",
            " Validation accuracy: 33.2%, Validation loss: 2.574433 \n",
            "\n",
            "Patience count: 1\n",
            "\n",
            "Epoch 6\n",
            "----------------------------\n",
            "loss: 2.248564 [    0/40000]\n",
            "loss: 1.824025 [10000/40000]\n",
            "loss: 1.845270 [20000/40000]\n",
            "loss: 1.755255 [30000/40000]\n",
            "Validation Error: \n",
            " Validation accuracy: 38.1%, Validation loss: 2.281198 \n",
            "\n",
            "Storing new best model.\n",
            "\n",
            "Epoch 7\n",
            "----------------------------\n",
            "loss: 2.179280 [    0/40000]\n",
            "loss: 1.970017 [10000/40000]\n",
            "loss: 1.881426 [20000/40000]\n",
            "loss: 1.654240 [30000/40000]\n",
            "Validation Error: \n",
            " Validation accuracy: 39.4%, Validation loss: 2.291624 \n",
            "\n",
            "Patience count: 1\n",
            "\n",
            "Epoch 8\n",
            "----------------------------\n",
            "loss: 1.643674 [    0/40000]\n",
            "loss: 1.852523 [10000/40000]\n",
            "loss: 1.770127 [20000/40000]\n",
            "loss: 1.949168 [30000/40000]\n",
            "Validation Error: \n",
            " Validation accuracy: 42.2%, Validation loss: 2.148436 \n",
            "\n",
            "Storing new best model.\n",
            "\n",
            "Epoch 9\n",
            "----------------------------\n",
            "loss: 1.797883 [    0/40000]\n",
            "loss: 1.771906 [10000/40000]\n",
            "loss: 1.757587 [20000/40000]\n",
            "loss: 1.833820 [30000/40000]\n",
            "Validation Error: \n",
            " Validation accuracy: 41.9%, Validation loss: 2.203616 \n",
            "\n",
            "Patience count: 1\n",
            "\n",
            "Epoch 10\n",
            "----------------------------\n",
            "loss: 2.045722 [    0/40000]\n",
            "loss: 1.482351 [10000/40000]\n",
            "loss: 1.853896 [20000/40000]\n",
            "loss: 1.442401 [30000/40000]\n",
            "Validation Error: \n",
            " Validation accuracy: 43.2%, Validation loss: 2.118216 \n",
            "\n",
            "Storing new best model.\n",
            "\n",
            "Epoch 11\n",
            "----------------------------\n",
            "loss: 1.410598 [    0/40000]\n",
            "loss: 1.293523 [10000/40000]\n",
            "loss: 1.367094 [20000/40000]\n",
            "loss: 1.527127 [30000/40000]\n",
            "Validation Error: \n",
            " Validation accuracy: 42.3%, Validation loss: 2.202152 \n",
            "\n",
            "Patience count: 1\n",
            "\n",
            "Epoch 12\n",
            "----------------------------\n",
            "loss: 1.132539 [    0/40000]\n",
            "loss: 1.458311 [10000/40000]\n",
            "loss: 1.321169 [20000/40000]\n",
            "loss: 1.342381 [30000/40000]\n",
            "Validation Error: \n",
            " Validation accuracy: 47.4%, Validation loss: 1.970558 \n",
            "\n",
            "Storing new best model.\n",
            "\n",
            "Epoch 13\n",
            "----------------------------\n",
            "loss: 1.264656 [    0/40000]\n",
            "loss: 1.244191 [10000/40000]\n",
            "loss: 1.365330 [20000/40000]\n",
            "loss: 1.467765 [30000/40000]\n",
            "Validation Error: \n",
            " Validation accuracy: 44.0%, Validation loss: 2.139463 \n",
            "\n",
            "Patience count: 1\n",
            "\n",
            "Epoch 14\n",
            "----------------------------\n",
            "loss: 1.191576 [    0/40000]\n",
            "loss: 1.256969 [10000/40000]\n",
            "loss: 1.407534 [20000/40000]\n",
            "loss: 1.256838 [30000/40000]\n",
            "Validation Error: \n",
            " Validation accuracy: 45.5%, Validation loss: 2.113369 \n",
            "\n",
            "Patience count: 2\n",
            "\n",
            "Epoch 15\n",
            "----------------------------\n",
            "loss: 1.131343 [    0/40000]\n",
            "loss: 1.139508 [10000/40000]\n",
            "loss: 0.996893 [20000/40000]\n",
            "loss: 1.617226 [30000/40000]\n",
            "Validation Error: \n",
            " Validation accuracy: 46.2%, Validation loss: 2.083587 \n",
            "\n",
            "Patience count: 3\n",
            "\n",
            "Epoch 16\n",
            "----------------------------\n",
            "loss: 1.046108 [    0/40000]\n",
            "loss: 0.851229 [10000/40000]\n",
            "loss: 1.093105 [20000/40000]\n",
            "loss: 1.255890 [30000/40000]\n",
            "Validation Error: \n",
            " Validation accuracy: 45.5%, Validation loss: 2.219001 \n",
            "\n",
            "Patience count: 4\n",
            "\n",
            "Epoch 17\n",
            "----------------------------\n",
            "loss: 1.061980 [    0/40000]\n",
            "loss: 1.067356 [10000/40000]\n",
            "loss: 0.866634 [20000/40000]\n",
            "loss: 1.343603 [30000/40000]\n",
            "Validation Error: \n",
            " Validation accuracy: 46.4%, Validation loss: 2.098964 \n",
            "\n",
            "Patience count: 5\n",
            "\n",
            "Epoch 18\n",
            "----------------------------\n",
            "loss: 0.879770 [    0/40000]\n",
            "loss: 1.030317 [10000/40000]\n",
            "loss: 1.150434 [20000/40000]\n",
            "loss: 1.180439 [30000/40000]\n",
            "Validation Error: \n",
            " Validation accuracy: 45.3%, Validation loss: 2.226970 \n",
            "\n",
            "Patience count: 6\n",
            "\n",
            "Epoch 19\n",
            "----------------------------\n",
            "loss: 0.694305 [    0/40000]\n",
            "loss: 0.655738 [10000/40000]\n",
            "loss: 0.645240 [20000/40000]\n",
            "loss: 0.678650 [30000/40000]\n",
            "Validation Error: \n",
            " Validation accuracy: 51.0%, Validation loss: 1.909191 \n",
            "\n",
            "Storing new best model.\n",
            "\n",
            "Epoch 20\n",
            "----------------------------\n",
            "loss: 0.636973 [    0/40000]\n",
            "loss: 0.598428 [10000/40000]\n",
            "loss: 0.525940 [20000/40000]\n",
            "loss: 0.642638 [30000/40000]\n",
            "Validation Error: \n",
            " Validation accuracy: 50.7%, Validation loss: 1.928277 \n",
            "\n",
            "Patience count: 1\n",
            "\n",
            "Epoch 21\n",
            "----------------------------\n",
            "loss: 0.685669 [    0/40000]\n",
            "loss: 0.707228 [10000/40000]\n",
            "loss: 0.614866 [20000/40000]\n",
            "loss: 0.727330 [30000/40000]\n",
            "Validation Error: \n",
            " Validation accuracy: 50.3%, Validation loss: 1.943034 \n",
            "\n",
            "Patience count: 2\n",
            "\n",
            "Epoch 22\n",
            "----------------------------\n",
            "loss: 0.517351 [    0/40000]\n",
            "loss: 0.554234 [10000/40000]\n",
            "loss: 0.473138 [20000/40000]\n",
            "loss: 0.631616 [30000/40000]\n",
            "Validation Error: \n",
            " Validation accuracy: 50.2%, Validation loss: 1.967355 \n",
            "\n",
            "Patience count: 3\n",
            "\n",
            "Epoch 23\n",
            "----------------------------\n",
            "loss: 0.570733 [    0/40000]\n",
            "loss: 0.601365 [10000/40000]\n",
            "loss: 0.602261 [20000/40000]\n",
            "loss: 0.523922 [30000/40000]\n",
            "Validation Error: \n",
            " Validation accuracy: 50.0%, Validation loss: 1.994737 \n",
            "\n",
            "Patience count: 4\n",
            "\n",
            "Epoch 24\n",
            "----------------------------\n",
            "loss: 0.534543 [    0/40000]\n",
            "loss: 0.506164 [10000/40000]\n",
            "loss: 0.498853 [20000/40000]\n",
            "loss: 0.589295 [30000/40000]\n",
            "Validation Error: \n",
            " Validation accuracy: 50.1%, Validation loss: 2.014437 \n",
            "\n",
            "Patience count: 5\n",
            "\n",
            "Epoch 25\n",
            "----------------------------\n",
            "loss: 0.559417 [    0/40000]\n",
            "loss: 0.465344 [10000/40000]\n",
            "loss: 0.518342 [20000/40000]\n",
            "loss: 0.656889 [30000/40000]\n",
            "Validation Error: \n",
            " Validation accuracy: 49.4%, Validation loss: 2.024482 \n",
            "\n",
            "Patience count: 6\n",
            "\n",
            "Epoch 26\n",
            "----------------------------\n",
            "loss: 0.498276 [    0/40000]\n",
            "loss: 0.426992 [10000/40000]\n",
            "loss: 0.635415 [20000/40000]\n",
            "loss: 0.507802 [30000/40000]\n",
            "Validation Error: \n",
            " Validation accuracy: 49.6%, Validation loss: 2.030985 \n",
            "\n",
            "Patience count: 7\n",
            "\n",
            "Epoch 27\n",
            "----------------------------\n",
            "loss: 0.437373 [    0/40000]\n",
            "loss: 0.529099 [10000/40000]\n",
            "loss: 0.580688 [20000/40000]\n",
            "loss: 0.460611 [30000/40000]\n",
            "Validation Error: \n",
            " Validation accuracy: 49.6%, Validation loss: 2.029386 \n",
            "\n",
            "Patience count: 8\n",
            "\n",
            "Epoch 28\n",
            "----------------------------\n",
            "loss: 0.524890 [    0/40000]\n",
            "loss: 0.439069 [10000/40000]\n",
            "loss: 0.459806 [20000/40000]\n",
            "loss: 0.393568 [30000/40000]\n",
            "Validation Error: \n",
            " Validation accuracy: 49.6%, Validation loss: 2.038014 \n",
            "\n",
            "Patience count: 9\n",
            "\n",
            "Epoch 29\n",
            "----------------------------\n",
            "loss: 0.404425 [    0/40000]\n",
            "loss: 0.526869 [10000/40000]\n",
            "loss: 0.499627 [20000/40000]\n",
            "loss: 0.412614 [30000/40000]\n",
            "Validation Error: \n",
            " Validation accuracy: 49.6%, Validation loss: 2.039067 \n",
            "\n",
            "Patience count: 10\n",
            "\n",
            "Epoch 30\n",
            "----------------------------\n",
            "loss: 0.554295 [    0/40000]\n",
            "loss: 0.554936 [10000/40000]\n",
            "loss: 0.440603 [20000/40000]\n",
            "loss: 0.421130 [30000/40000]\n",
            "Validation Error: \n",
            " Validation accuracy: 49.7%, Validation loss: 2.037164 \n",
            "\n",
            "Patience count: 11\n",
            "\n",
            "Epoch 31\n",
            "----------------------------\n",
            "loss: 0.528228 [    0/40000]\n",
            "loss: 0.459510 [10000/40000]\n",
            "loss: 0.404644 [20000/40000]\n",
            "loss: 0.378506 [30000/40000]\n",
            "Validation Error: \n",
            " Validation accuracy: 49.5%, Validation loss: 2.051756 \n",
            "\n",
            "Patience count: 12\n",
            "\n",
            "Epoch 32\n",
            "----------------------------\n",
            "loss: 0.406397 [    0/40000]\n",
            "loss: 0.521712 [10000/40000]\n",
            "loss: 0.461037 [20000/40000]\n",
            "loss: 0.489154 [30000/40000]\n",
            "Validation Error: \n",
            " Validation accuracy: 49.7%, Validation loss: 2.043080 \n",
            "\n",
            "Patience count: 13\n",
            "\n",
            "Epoch 33\n",
            "----------------------------\n",
            "loss: 0.497363 [    0/40000]\n",
            "loss: 0.500906 [10000/40000]\n",
            "loss: 0.581720 [20000/40000]\n",
            "loss: 0.419638 [30000/40000]\n",
            "Validation Error: \n",
            " Validation accuracy: 49.5%, Validation loss: 2.041816 \n",
            "\n",
            "Patience count: 14\n",
            "\n",
            "Epoch 34\n",
            "----------------------------\n",
            "loss: 0.676522 [    0/40000]\n",
            "loss: 0.547467 [10000/40000]\n",
            "loss: 0.504009 [20000/40000]\n",
            "loss: 0.425424 [30000/40000]\n",
            "Validation Error: \n",
            " Validation accuracy: 49.6%, Validation loss: 2.047159 \n",
            "\n",
            "Patience count: 15\n",
            "\n",
            "Epoch 35\n",
            "----------------------------\n",
            "loss: 0.439145 [    0/40000]\n",
            "loss: 0.481828 [10000/40000]\n",
            "loss: 0.396064 [20000/40000]\n",
            "loss: 0.419564 [30000/40000]\n",
            "Validation Error: \n",
            " Validation accuracy: 49.6%, Validation loss: 2.047747 \n",
            "\n",
            "Patience count: 16\n",
            "\n",
            "Epoch 36\n",
            "----------------------------\n",
            "loss: 0.517775 [    0/40000]\n",
            "loss: 0.508145 [10000/40000]\n",
            "loss: 0.500028 [20000/40000]\n",
            "loss: 0.383782 [30000/40000]\n",
            "Validation Error: \n",
            " Validation accuracy: 49.6%, Validation loss: 2.043833 \n",
            "\n",
            "Patience count: 17\n",
            "\n",
            "Epoch 37\n",
            "----------------------------\n",
            "loss: 0.419302 [    0/40000]\n",
            "loss: 0.650340 [10000/40000]\n",
            "loss: 0.403338 [20000/40000]\n",
            "loss: 0.359876 [30000/40000]\n",
            "Validation Error: \n",
            " Validation accuracy: 49.6%, Validation loss: 2.044498 \n",
            "\n",
            "Patience count: 18\n",
            "\n",
            "Epoch 38\n",
            "----------------------------\n",
            "loss: 0.413303 [    0/40000]\n",
            "loss: 0.584291 [10000/40000]\n",
            "loss: 0.492140 [20000/40000]\n",
            "loss: 0.641215 [30000/40000]\n",
            "Validation Error: \n",
            " Validation accuracy: 49.5%, Validation loss: 2.042659 \n",
            "\n",
            "Patience count: 19\n",
            "\n",
            "Epoch 39\n",
            "----------------------------\n",
            "loss: 0.382511 [    0/40000]\n",
            "loss: 0.459412 [10000/40000]\n",
            "loss: 0.608690 [20000/40000]\n",
            "loss: 0.461337 [30000/40000]\n",
            "Validation Error: \n",
            " Validation accuracy: 49.3%, Validation loss: 2.056866 \n",
            "\n",
            "Finished due to early stopping.\n",
            "Saving best model: resnet20_epoch-019\n",
            "Saving best model: resnet20_epoch-019\n"
          ]
        }
      ]
    },
    {
      "cell_type": "markdown",
      "metadata": {
        "id": "AmBomEBDMbzi"
      },
      "source": [
        "### LR results\n",
        "- `1e-1` => 10.4% / 3.807546\n",
        "- `5e-2` => 16.3% / 3.452366\n",
        "- `1e-2` => 22.5% / 3.170802\n",
        "- `5e-3` => 28.6% / 2.796356\n",
        "- `1e-3` => 28.6% / 2.778201"
      ]
    },
    {
      "cell_type": "code",
      "metadata": {
        "id": "uULVr_LSgYfx",
        "colab": {
          "base_uri": "https://localhost:8080/",
          "height": 530
        },
        "outputId": "66c5bda0-b950-4a00-82bf-f94b5bb360c1"
      },
      "source": [
        "plt.figure(figsize=(15,8))\n",
        "plt.title(f\"Train and Validation Loss for {model_20.name}\")\n",
        "plt.plot(val_loss_20, label=\"val_loss\")\n",
        "plt.plot(train_loss_20, label=\"train_loss\")\n",
        "plt.xlabel(\"Epochs\")\n",
        "plt.ylabel(\"Loss\")\n",
        "plt.legend()\n",
        "plt.show"
      ],
      "execution_count": 63,
      "outputs": [
        {
          "output_type": "execute_result",
          "data": {
            "text/plain": [
              "<function matplotlib.pyplot.show>"
            ]
          },
          "metadata": {},
          "execution_count": 63
        },
        {
          "output_type": "display_data",
          "data": {
            "image/png": "[encoded data removed]",
            "text/plain": [
              "<Figure size 1080x576 with 1 Axes>"
            ]
          },
          "metadata": {
            "needs_background": "light"
          }
        }
      ]
    },
    {
      "cell_type": "code",
      "metadata": {
        "colab": {
          "base_uri": "https://localhost:8080/",
          "height": 530
        },
        "id": "N49Ao8VZQTAk",
        "outputId": "b8608aa6-c82b-470e-86f8-21a049125898"
      },
      "source": [
        "plt.figure(figsize=(15,8))\n",
        "plt.title(f\"Train and Validation Accuracy for {model_20.name}\")\n",
        "plt.plot(val_accuracy_20, label=\"val_accuracy\")\n",
        "plt.plot(train_accuracy_20, label=\"train_accuracy\")\n",
        "plt.xlabel(\"Epochs\")\n",
        "plt.ylabel(\"Accuracy\")\n",
        "plt.legend()\n",
        "plt.show"
      ],
      "execution_count": 64,
      "outputs": [
        {
          "output_type": "execute_result",
          "data": {
            "text/plain": [
              "<function matplotlib.pyplot.show>"
            ]
          },
          "metadata": {},
          "execution_count": 64
        },
        {
          "output_type": "display_data",
          "data": {
            "image/png": "[encoded data removed]",
            "text/plain": [
              "<Figure size 1080x576 with 1 Axes>"
            ]
          },
          "metadata": {
            "needs_background": "light"
          }
        }
      ]
    },
    {
      "cell_type": "code",
      "metadata": {
        "id": "z2PXCuIwTNvt"
      },
      "source": [
        "train_loss_20_aug, train_accuracy_20_aug, val_loss_20_aug, val_accuracy_20_aug = training_loop(n_epochs, model_20_aug, train_augmentation_dataloader, valid_dataloader, batch_size,\n",
        "              loss_fn, optimizer_20_aug, scheduler_20_aug, early_stopping=True, patience=20)"
      ],
      "execution_count": null,
      "outputs": []
    },
    {
      "cell_type": "code",
      "metadata": {
        "id": "6hpwM4JdThwB"
      },
      "source": [
        "plt.figure(figsize=(15,8))\n",
        "plt.title(f\"Train and Validation Loss for {model_20_aug.name}\")\n",
        "plt.plot(val_loss_20_aug, label=\"val_loss\")\n",
        "plt.plot(train_loss_20_aug, label=\"train_loss\")\n",
        "plt.xlabel(\"Epochs\")\n",
        "plt.ylabel(\"Loss\")\n",
        "plt.legend()\n",
        "plt.show"
      ],
      "execution_count": null,
      "outputs": []
    },
    {
      "cell_type": "code",
      "metadata": {
        "id": "eDfR2AlsTjdd"
      },
      "source": [
        "plt.figure(figsize=(15,8))\n",
        "plt.title(f\"Train and Validation Accuracy for {model_20_aug.name}\")\n",
        "plt.plot(val_accuracy_20_aug, label=\"val_accuracy\")\n",
        "plt.plot(train_accuracy_20_aug, label=\"train_accuracy\")\n",
        "plt.xlabel(\"Epochs\")\n",
        "plt.ylabel(\"Accuracy\")\n",
        "plt.legend()\n",
        "plt.show"
      ],
      "execution_count": null,
      "outputs": []
    }
  ]
}