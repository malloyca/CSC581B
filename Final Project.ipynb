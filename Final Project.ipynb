{
 "cells": [
  {
   "cell_type": "markdown",
   "metadata": {
    "collapsed": true,
    "pycharm": {
     "name": "#%% md\n"
    }
   },
   "source": [
    "# Notes on Final Project"
   ]
  },
  {
   "cell_type": "markdown",
   "source": [
    "## Training a network\n",
    "\n",
    "### Learning rate\n",
    "Try out a few values, spread evenly in log-space\n",
    "- 1e-4\n",
    "- 1e-3\n",
    "- 1e-2\n",
    "- 1e-1\n",
    "- etc\n",
    "\n",
    "If it is too low, the training progress will be too low. If it is too high, the loss will stop learning or explode (NaN) and that is a problem."
   ],
   "metadata": {
    "collapsed": false,
    "pycharm": {
     "name": "#%% md\n"
    }
   }
  },
  {
   "cell_type": "markdown",
   "source": [
    "### Overfitting\n",
    "\n",
    "Monitor the accuracy for the validation set.\n",
    "\n",
    "When overfitting, consider:\n",
    "- Increasing regularization\n",
    "  - L1\n",
    "  - L2\n",
    "  - Data augmentation\n",
    "- Lowering learning rate (once validation accuracy plateaus)\n",
    "  - This is typically done 2 or 3 times in practice\n",
    "  - A related idea is to do a warm-up:\n",
    "    - Start with a small learning rate to get a better starting point, then raise learning rate for main training\n",
    "- Stopping training early, before more overfitting happens"
   ],
   "metadata": {
    "collapsed": false,
    "pycharm": {
     "name": "#%% md\n"
    }
   }
  },
  {
   "cell_type": "markdown",
   "source": [
    "## Project Parameters\n",
    "\n",
    "Goal: Image classification on CIFAR-100\n",
    "\n",
    "- 100-way classification\n",
    "- 50000 training images per class\n",
    "  - You will need to split this into 40k training and 10k validation\n",
    "- 10000 test images\n",
    "- 32x32 RGB"
   ],
   "metadata": {
    "collapsed": false,
    "pycharm": {
     "name": "#%% md\n"
    }
   }
  },
  {
   "cell_type": "code",
   "execution_count": null,
   "outputs": [],
   "source": [],
   "metadata": {
    "collapsed": false,
    "pycharm": {
     "name": "#%%\n"
    }
   }
  }
 ],
 "metadata": {
  "kernelspec": {
   "display_name": "Python 3",
   "language": "python",
   "name": "python3"
  },
  "language_info": {
   "codemirror_mode": {
    "name": "ipython",
    "version": 2
   },
   "file_extension": ".py",
   "mimetype": "text/x-python",
   "name": "python",
   "nbconvert_exporter": "python",
   "pygments_lexer": "ipython2",
   "version": "2.7.6"
  }
 },
 "nbformat": 4,
 "nbformat_minor": 0
}